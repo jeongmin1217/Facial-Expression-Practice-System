{
  "cells": [
    {
      "cell_type": "code",
      "execution_count": null,
      "metadata": {
        "colab": {
          "base_uri": "https://localhost:8080/"
        },
        "id": "AysHFy2GU6yX",
        "outputId": "3ba7322e-25ee-4609-84e3-49714f310310"
      },
      "outputs": [
        {
          "output_type": "stream",
          "name": "stdout",
          "text": [
            "Mounted at /content/drive\n"
          ]
        }
      ],
      "source": [
        "import numpy as np\n",
        "import tensorflow as tf\n",
        "import pandas as pd\n",
        "import matplotlib.pyplot as plt\n",
        "import os\n",
        "from google.colab import drive\n",
        "drive.mount('/content/drive')"
      ]
    },
    {
      "cell_type": "code",
      "execution_count": null,
      "metadata": {
        "colab": {
          "base_uri": "https://localhost:8080/"
        },
        "id": "2DVd2tumVNVd",
        "outputId": "923ac7cf-8c45-4fa6-8df8-f481b87ed9eb"
      },
      "outputs": [
        {
          "output_type": "stream",
          "name": "stdout",
          "text": [
            "Looking in indexes: https://pypi.org/simple, https://us-python.pkg.dev/colab-wheels/public/simple/\n",
            "Requirement already satisfied: torch in /usr/local/lib/python3.10/dist-packages (2.0.1+cu118)\n",
            "Requirement already satisfied: torchvision in /usr/local/lib/python3.10/dist-packages (0.15.2+cu118)\n",
            "Requirement already satisfied: filelock in /usr/local/lib/python3.10/dist-packages (from torch) (3.12.0)\n",
            "Requirement already satisfied: typing-extensions in /usr/local/lib/python3.10/dist-packages (from torch) (4.5.0)\n",
            "Requirement already satisfied: sympy in /usr/local/lib/python3.10/dist-packages (from torch) (1.11.1)\n",
            "Requirement already satisfied: networkx in /usr/local/lib/python3.10/dist-packages (from torch) (3.1)\n",
            "Requirement already satisfied: jinja2 in /usr/local/lib/python3.10/dist-packages (from torch) (3.1.2)\n",
            "Requirement already satisfied: triton==2.0.0 in /usr/local/lib/python3.10/dist-packages (from torch) (2.0.0)\n",
            "Requirement already satisfied: cmake in /usr/local/lib/python3.10/dist-packages (from triton==2.0.0->torch) (3.25.2)\n",
            "Requirement already satisfied: lit in /usr/local/lib/python3.10/dist-packages (from triton==2.0.0->torch) (16.0.5)\n",
            "Requirement already satisfied: numpy in /usr/local/lib/python3.10/dist-packages (from torchvision) (1.22.4)\n",
            "Requirement already satisfied: requests in /usr/local/lib/python3.10/dist-packages (from torchvision) (2.27.1)\n",
            "Requirement already satisfied: pillow!=8.3.*,>=5.3.0 in /usr/local/lib/python3.10/dist-packages (from torchvision) (8.4.0)\n",
            "Requirement already satisfied: MarkupSafe>=2.0 in /usr/local/lib/python3.10/dist-packages (from jinja2->torch) (2.1.2)\n",
            "Requirement already satisfied: urllib3<1.27,>=1.21.1 in /usr/local/lib/python3.10/dist-packages (from requests->torchvision) (1.26.15)\n",
            "Requirement already satisfied: certifi>=2017.4.17 in /usr/local/lib/python3.10/dist-packages (from requests->torchvision) (2022.12.7)\n",
            "Requirement already satisfied: charset-normalizer~=2.0.0 in /usr/local/lib/python3.10/dist-packages (from requests->torchvision) (2.0.12)\n",
            "Requirement already satisfied: idna<4,>=2.5 in /usr/local/lib/python3.10/dist-packages (from requests->torchvision) (3.4)\n",
            "Requirement already satisfied: mpmath>=0.19 in /usr/local/lib/python3.10/dist-packages (from sympy->torch) (1.3.0)\n"
          ]
        }
      ],
      "source": [
        "!pip install torch torchvision"
      ]
    },
    {
      "cell_type": "code",
      "execution_count": null,
      "metadata": {
        "colab": {
          "base_uri": "https://localhost:8080/"
        },
        "id": "KBoZLtCuVNYH",
        "outputId": "6dc1d3c4-a29b-4614-cc13-304f79e43e1e"
      },
      "outputs": [
        {
          "output_type": "stream",
          "name": "stdout",
          "text": [
            "Looking in indexes: https://pypi.org/simple, https://us-python.pkg.dev/colab-wheels/public/simple/\n",
            "Collecting timm\n",
            "  Downloading timm-0.9.2-py3-none-any.whl (2.2 MB)\n",
            "\u001b[2K     \u001b[90m━━━━━━━━━━━━━━━━━━━━━━━━━━━━━━━━━━━━━━━━\u001b[0m \u001b[32m2.2/2.2 MB\u001b[0m \u001b[31m24.3 MB/s\u001b[0m eta \u001b[36m0:00:00\u001b[0m\n",
            "\u001b[?25hRequirement already satisfied: torch>=1.7 in /usr/local/lib/python3.10/dist-packages (from timm) (2.0.1+cu118)\n",
            "Requirement already satisfied: torchvision in /usr/local/lib/python3.10/dist-packages (from timm) (0.15.2+cu118)\n",
            "Requirement already satisfied: pyyaml in /usr/local/lib/python3.10/dist-packages (from timm) (6.0)\n",
            "Collecting huggingface-hub (from timm)\n",
            "  Downloading huggingface_hub-0.15.1-py3-none-any.whl (236 kB)\n",
            "\u001b[2K     \u001b[90m━━━━━━━━━━━━━━━━━━━━━━━━━━━━━━━━━━━━━━\u001b[0m \u001b[32m236.8/236.8 kB\u001b[0m \u001b[31m25.7 MB/s\u001b[0m eta \u001b[36m0:00:00\u001b[0m\n",
            "\u001b[?25hCollecting safetensors (from timm)\n",
            "  Downloading safetensors-0.3.1-cp310-cp310-manylinux_2_17_x86_64.manylinux2014_x86_64.whl (1.3 MB)\n",
            "\u001b[2K     \u001b[90m━━━━━━━━━━━━━━━━━━━━━━━━━━━━━━━━━━━━━━━━\u001b[0m \u001b[32m1.3/1.3 MB\u001b[0m \u001b[31m54.1 MB/s\u001b[0m eta \u001b[36m0:00:00\u001b[0m\n",
            "\u001b[?25hRequirement already satisfied: filelock in /usr/local/lib/python3.10/dist-packages (from torch>=1.7->timm) (3.12.0)\n",
            "Requirement already satisfied: typing-extensions in /usr/local/lib/python3.10/dist-packages (from torch>=1.7->timm) (4.5.0)\n",
            "Requirement already satisfied: sympy in /usr/local/lib/python3.10/dist-packages (from torch>=1.7->timm) (1.11.1)\n",
            "Requirement already satisfied: networkx in /usr/local/lib/python3.10/dist-packages (from torch>=1.7->timm) (3.1)\n",
            "Requirement already satisfied: jinja2 in /usr/local/lib/python3.10/dist-packages (from torch>=1.7->timm) (3.1.2)\n",
            "Requirement already satisfied: triton==2.0.0 in /usr/local/lib/python3.10/dist-packages (from torch>=1.7->timm) (2.0.0)\n",
            "Requirement already satisfied: cmake in /usr/local/lib/python3.10/dist-packages (from triton==2.0.0->torch>=1.7->timm) (3.25.2)\n",
            "Requirement already satisfied: lit in /usr/local/lib/python3.10/dist-packages (from triton==2.0.0->torch>=1.7->timm) (16.0.5)\n",
            "Requirement already satisfied: fsspec in /usr/local/lib/python3.10/dist-packages (from huggingface-hub->timm) (2023.4.0)\n",
            "Requirement already satisfied: requests in /usr/local/lib/python3.10/dist-packages (from huggingface-hub->timm) (2.27.1)\n",
            "Requirement already satisfied: tqdm>=4.42.1 in /usr/local/lib/python3.10/dist-packages (from huggingface-hub->timm) (4.65.0)\n",
            "Requirement already satisfied: packaging>=20.9 in /usr/local/lib/python3.10/dist-packages (from huggingface-hub->timm) (23.1)\n",
            "Requirement already satisfied: numpy in /usr/local/lib/python3.10/dist-packages (from torchvision->timm) (1.22.4)\n",
            "Requirement already satisfied: pillow!=8.3.*,>=5.3.0 in /usr/local/lib/python3.10/dist-packages (from torchvision->timm) (8.4.0)\n",
            "Requirement already satisfied: MarkupSafe>=2.0 in /usr/local/lib/python3.10/dist-packages (from jinja2->torch>=1.7->timm) (2.1.2)\n",
            "Requirement already satisfied: urllib3<1.27,>=1.21.1 in /usr/local/lib/python3.10/dist-packages (from requests->huggingface-hub->timm) (1.26.15)\n",
            "Requirement already satisfied: certifi>=2017.4.17 in /usr/local/lib/python3.10/dist-packages (from requests->huggingface-hub->timm) (2022.12.7)\n",
            "Requirement already satisfied: charset-normalizer~=2.0.0 in /usr/local/lib/python3.10/dist-packages (from requests->huggingface-hub->timm) (2.0.12)\n",
            "Requirement already satisfied: idna<4,>=2.5 in /usr/local/lib/python3.10/dist-packages (from requests->huggingface-hub->timm) (3.4)\n",
            "Requirement already satisfied: mpmath>=0.19 in /usr/local/lib/python3.10/dist-packages (from sympy->torch>=1.7->timm) (1.3.0)\n",
            "Installing collected packages: safetensors, huggingface-hub, timm\n",
            "Successfully installed huggingface-hub-0.15.1 safetensors-0.3.1 timm-0.9.2\n"
          ]
        }
      ],
      "source": [
        "!pip install timm"
      ]
    },
    {
      "cell_type": "code",
      "execution_count": null,
      "metadata": {
        "id": "25E2pIj8VNaW"
      },
      "outputs": [],
      "source": [
        "import torch\n",
        "import torch.nn as nn\n",
        "import torch.optim as optim\n",
        "import torchvision.transforms as transforms\n",
        "from torch.utils.data import TensorDataset, DataLoader\n",
        "import timm\n",
        "import cv2\n",
        "import dlib\n",
        "from tensorflow.keras.preprocessing import image\n",
        "import math"
      ]
    },
    {
      "cell_type": "code",
      "execution_count": null,
      "metadata": {
        "id": "EE9ITHN1VNcl"
      },
      "outputs": [],
      "source": [
        "from tensorflow.keras import layers, models\n",
        "from tensorflow.keras.callbacks import EarlyStopping\n",
        "import tensorflow as tf"
      ]
    },
    {
      "cell_type": "code",
      "execution_count": null,
      "metadata": {
        "id": "n28dz0VnTfUk"
      },
      "outputs": [],
      "source": [
        "from torch.utils.data import Dataset, DataLoader\n",
        "from PIL import Image\n",
        "from torchvision.models import mobilenet_v2"
      ]
    },
    {
      "cell_type": "code",
      "execution_count": null,
      "metadata": {
        "id": "uypo-gWbTfWs"
      },
      "outputs": [],
      "source": [
        "dataset_path = '/content/drive/MyDrive/three_final/'"
      ]
    },
    {
      "cell_type": "code",
      "execution_count": null,
      "metadata": {
        "id": "mDcTMq9CVNfM",
        "colab": {
          "base_uri": "https://localhost:8080/"
        },
        "outputId": "c011b706-8f82-41d1-c8f2-515d345b92c2"
      },
      "outputs": [
        {
          "output_type": "execute_result",
          "data": {
            "text/plain": [
              "[('sad', '/content/drive/MyDrive/three_final/sad/sad_1592.jpg'),\n",
              " ('sad', '/content/drive/MyDrive/three_final/sad/sad_1593.jpg'),\n",
              " ('sad', '/content/drive/MyDrive/three_final/sad/sad_1594.jpg'),\n",
              " ('sad', '/content/drive/MyDrive/three_final/sad/sad_1595.jpg'),\n",
              " ('sad', '/content/drive/MyDrive/three_final/sad/sad_1596.jpg')]"
            ]
          },
          "metadata": {},
          "execution_count": 9
        }
      ],
      "source": [
        "class_labels = []\n",
        "\n",
        "for item in os.listdir(dataset_path):\n",
        "    all_classes = os.listdir(os.path.join(dataset_path, item))\n",
        "    for room in all_classes:\n",
        "        class_labels.append((item, os.path.join(dataset_path, item, room)))\n",
        "\n",
        "class_labels[:5]"
      ]
    },
    {
      "cell_type": "code",
      "execution_count": null,
      "metadata": {
        "colab": {
          "base_uri": "https://localhost:8080/"
        },
        "id": "b3ERRqnWVNh2",
        "outputId": "23055220-04b5-4860-c790-5cc4f41a4c67"
      },
      "outputs": [
        {
          "output_type": "stream",
          "name": "stdout",
          "text": [
            "  Labels                                              image\n",
            "0    sad  /content/drive/MyDrive/three_final/sad/sad_159...\n",
            "1    sad  /content/drive/MyDrive/three_final/sad/sad_159...\n",
            "2    sad  /content/drive/MyDrive/three_final/sad/sad_159...\n",
            "3    sad  /content/drive/MyDrive/three_final/sad/sad_159...\n",
            "4    sad  /content/drive/MyDrive/three_final/sad/sad_159...\n"
          ]
        }
      ],
      "source": [
        "df = pd.DataFrame(data = class_labels, columns = ['Labels', 'image'])\n",
        "print(df.head())"
      ]
    },
    {
      "cell_type": "code",
      "execution_count": null,
      "metadata": {
        "colab": {
          "base_uri": "https://localhost:8080/",
          "height": 206
        },
        "id": "rqiDwXL-VNkM",
        "outputId": "0b1dfb93-d0bf-459d-c89c-be300e72cad9"
      },
      "outputs": [
        {
          "output_type": "execute_result",
          "data": {
            "text/plain": [
              "     Labels                                              image\n",
              "6976  happy  /content/drive/MyDrive/three_final/happy/happy...\n",
              "6977  happy  /content/drive/MyDrive/three_final/happy/happy...\n",
              "6978  happy  /content/drive/MyDrive/three_final/happy/happy...\n",
              "6979  happy  /content/drive/MyDrive/three_final/happy/happy...\n",
              "6980  happy  /content/drive/MyDrive/three_final/happy/happy..."
            ],
            "text/html": [
              "\n",
              "  <div id=\"df-abafa514-03a5-496a-8608-14cdd90f0fb6\">\n",
              "    <div class=\"colab-df-container\">\n",
              "      <div>\n",
              "<style scoped>\n",
              "    .dataframe tbody tr th:only-of-type {\n",
              "        vertical-align: middle;\n",
              "    }\n",
              "\n",
              "    .dataframe tbody tr th {\n",
              "        vertical-align: top;\n",
              "    }\n",
              "\n",
              "    .dataframe thead th {\n",
              "        text-align: right;\n",
              "    }\n",
              "</style>\n",
              "<table border=\"1\" class=\"dataframe\">\n",
              "  <thead>\n",
              "    <tr style=\"text-align: right;\">\n",
              "      <th></th>\n",
              "      <th>Labels</th>\n",
              "      <th>image</th>\n",
              "    </tr>\n",
              "  </thead>\n",
              "  <tbody>\n",
              "    <tr>\n",
              "      <th>6976</th>\n",
              "      <td>happy</td>\n",
              "      <td>/content/drive/MyDrive/three_final/happy/happy...</td>\n",
              "    </tr>\n",
              "    <tr>\n",
              "      <th>6977</th>\n",
              "      <td>happy</td>\n",
              "      <td>/content/drive/MyDrive/three_final/happy/happy...</td>\n",
              "    </tr>\n",
              "    <tr>\n",
              "      <th>6978</th>\n",
              "      <td>happy</td>\n",
              "      <td>/content/drive/MyDrive/three_final/happy/happy...</td>\n",
              "    </tr>\n",
              "    <tr>\n",
              "      <th>6979</th>\n",
              "      <td>happy</td>\n",
              "      <td>/content/drive/MyDrive/three_final/happy/happy...</td>\n",
              "    </tr>\n",
              "    <tr>\n",
              "      <th>6980</th>\n",
              "      <td>happy</td>\n",
              "      <td>/content/drive/MyDrive/three_final/happy/happy...</td>\n",
              "    </tr>\n",
              "  </tbody>\n",
              "</table>\n",
              "</div>\n",
              "      <button class=\"colab-df-convert\" onclick=\"convertToInteractive('df-abafa514-03a5-496a-8608-14cdd90f0fb6')\"\n",
              "              title=\"Convert this dataframe to an interactive table.\"\n",
              "              style=\"display:none;\">\n",
              "        \n",
              "  <svg xmlns=\"http://www.w3.org/2000/svg\" height=\"24px\"viewBox=\"0 0 24 24\"\n",
              "       width=\"24px\">\n",
              "    <path d=\"M0 0h24v24H0V0z\" fill=\"none\"/>\n",
              "    <path d=\"M18.56 5.44l.94 2.06.94-2.06 2.06-.94-2.06-.94-.94-2.06-.94 2.06-2.06.94zm-11 1L8.5 8.5l.94-2.06 2.06-.94-2.06-.94L8.5 2.5l-.94 2.06-2.06.94zm10 10l.94 2.06.94-2.06 2.06-.94-2.06-.94-.94-2.06-.94 2.06-2.06.94z\"/><path d=\"M17.41 7.96l-1.37-1.37c-.4-.4-.92-.59-1.43-.59-.52 0-1.04.2-1.43.59L10.3 9.45l-7.72 7.72c-.78.78-.78 2.05 0 2.83L4 21.41c.39.39.9.59 1.41.59.51 0 1.02-.2 1.41-.59l7.78-7.78 2.81-2.81c.8-.78.8-2.07 0-2.86zM5.41 20L4 18.59l7.72-7.72 1.47 1.35L5.41 20z\"/>\n",
              "  </svg>\n",
              "      </button>\n",
              "      \n",
              "  <style>\n",
              "    .colab-df-container {\n",
              "      display:flex;\n",
              "      flex-wrap:wrap;\n",
              "      gap: 12px;\n",
              "    }\n",
              "\n",
              "    .colab-df-convert {\n",
              "      background-color: #E8F0FE;\n",
              "      border: none;\n",
              "      border-radius: 50%;\n",
              "      cursor: pointer;\n",
              "      display: none;\n",
              "      fill: #1967D2;\n",
              "      height: 32px;\n",
              "      padding: 0 0 0 0;\n",
              "      width: 32px;\n",
              "    }\n",
              "\n",
              "    .colab-df-convert:hover {\n",
              "      background-color: #E2EBFA;\n",
              "      box-shadow: 0px 1px 2px rgba(60, 64, 67, 0.3), 0px 1px 3px 1px rgba(60, 64, 67, 0.15);\n",
              "      fill: #174EA6;\n",
              "    }\n",
              "\n",
              "    [theme=dark] .colab-df-convert {\n",
              "      background-color: #3B4455;\n",
              "      fill: #D2E3FC;\n",
              "    }\n",
              "\n",
              "    [theme=dark] .colab-df-convert:hover {\n",
              "      background-color: #434B5C;\n",
              "      box-shadow: 0px 1px 3px 1px rgba(0, 0, 0, 0.15);\n",
              "      filter: drop-shadow(0px 1px 2px rgba(0, 0, 0, 0.3));\n",
              "      fill: #FFFFFF;\n",
              "    }\n",
              "  </style>\n",
              "\n",
              "      <script>\n",
              "        const buttonEl =\n",
              "          document.querySelector('#df-abafa514-03a5-496a-8608-14cdd90f0fb6 button.colab-df-convert');\n",
              "        buttonEl.style.display =\n",
              "          google.colab.kernel.accessAllowed ? 'block' : 'none';\n",
              "\n",
              "        async function convertToInteractive(key) {\n",
              "          const element = document.querySelector('#df-abafa514-03a5-496a-8608-14cdd90f0fb6');\n",
              "          const dataTable =\n",
              "            await google.colab.kernel.invokeFunction('convertToInteractive',\n",
              "                                                     [key], {});\n",
              "          if (!dataTable) return;\n",
              "\n",
              "          const docLinkHtml = 'Like what you see? Visit the ' +\n",
              "            '<a target=\"_blank\" href=https://colab.research.google.com/notebooks/data_table.ipynb>data table notebook</a>'\n",
              "            + ' to learn more about interactive tables.';\n",
              "          element.innerHTML = '';\n",
              "          dataTable['output_type'] = 'display_data';\n",
              "          await google.colab.output.renderOutput(dataTable, element);\n",
              "          const docLink = document.createElement('div');\n",
              "          docLink.innerHTML = docLinkHtml;\n",
              "          element.appendChild(docLink);\n",
              "        }\n",
              "      </script>\n",
              "    </div>\n",
              "  </div>\n",
              "  "
            ]
          },
          "metadata": {},
          "execution_count": 11
        }
      ],
      "source": [
        "df.tail()"
      ]
    },
    {
      "cell_type": "code",
      "execution_count": null,
      "metadata": {
        "colab": {
          "base_uri": "https://localhost:8080/"
        },
        "id": "j-2TGairVNmq",
        "outputId": "c13a2e10-5924-46c0-83cb-e21be63e515c"
      },
      "outputs": [
        {
          "output_type": "stream",
          "name": "stdout",
          "text": [
            "total num of images in the dataset :  6981\n",
            "neutral    2410\n",
            "happy      2327\n",
            "sad        2244\n",
            "Name: Labels, dtype: int64\n"
          ]
        }
      ],
      "source": [
        "print('total num of images in the dataset : ', len(df))\n",
        "\n",
        "label_count = df['Labels'].value_counts()\n",
        "print(label_count)"
      ]
    },
    {
      "cell_type": "code",
      "execution_count": null,
      "metadata": {
        "id": "HF4fU9ZCZ5Id",
        "colab": {
          "base_uri": "https://localhost:8080/"
        },
        "outputId": "d377f1b6-b319-4632-8d71-9052f7b0bd03"
      },
      "outputs": [
        {
          "output_type": "stream",
          "name": "stdout",
          "text": [
            "5025\n"
          ]
        }
      ],
      "source": [
        "from sklearn.model_selection import train_test_split\n",
        "train_df, test_df = train_test_split(df, test_size=0.1, random_state=42)\n",
        "train_df, val_df = train_test_split(train_df, test_size=0.2, random_state=42)\n",
        "\n",
        "print(len(train_df))"
      ]
    },
    {
      "cell_type": "code",
      "execution_count": null,
      "metadata": {
        "id": "OF48BXMHZZit"
      },
      "outputs": [],
      "source": [
        "from sklearn.preprocessing import LabelEncoder\n",
        "from torch.utils.data import TensorDataset\n",
        "\n",
        "# 라벨 인코딩\n",
        "label_encoder = LabelEncoder()\n",
        "label_encoder.fit(df['Labels'])\n",
        "\n",
        "train_labels = label_encoder.transform(train_df['Labels'])\n",
        "val_labels = label_encoder.transform(val_df['Labels'])\n",
        "test_labels = label_encoder.transform(test_df['Labels'])\n",
        "\n",
        "# 원핫 인코딩\n",
        "train_targets = torch.nn.functional.one_hot(torch.tensor(train_labels))\n",
        "val_targets = torch.nn.functional.one_hot(torch.tensor(val_labels))\n",
        "test_targets = torch.nn.functional.one_hot(torch.tensor(test_labels))"
      ]
    },
    {
      "cell_type": "code",
      "source": [
        "val_labels"
      ],
      "metadata": {
        "colab": {
          "base_uri": "https://localhost:8080/"
        },
        "id": "3aMBRahUCWqc",
        "outputId": "cb5a24c9-2b66-4062-f7fa-c9acc9d89e72"
      },
      "execution_count": null,
      "outputs": [
        {
          "output_type": "execute_result",
          "data": {
            "text/plain": [
              "array([1, 2, 1, ..., 1, 0, 0])"
            ]
          },
          "metadata": {},
          "execution_count": 16
        }
      ]
    },
    {
      "cell_type": "code",
      "execution_count": null,
      "metadata": {
        "colab": {
          "base_uri": "https://localhost:8080/"
        },
        "id": "v7CF6Q-xb7HR",
        "outputId": "e691a5e1-6181-4081-f685-980129dba0e7"
      },
      "outputs": [
        {
          "output_type": "execute_result",
          "data": {
            "text/plain": [
              "tensor([[0, 1, 0],\n",
              "        [0, 0, 1],\n",
              "        [0, 1, 0],\n",
              "        ...,\n",
              "        [0, 1, 0],\n",
              "        [1, 0, 0],\n",
              "        [1, 0, 0]])"
            ]
          },
          "metadata": {},
          "execution_count": 17
        }
      ],
      "source": [
        "val_targets"
      ]
    },
    {
      "cell_type": "code",
      "execution_count": null,
      "metadata": {
        "id": "m1pPhPBpUJKz"
      },
      "outputs": [],
      "source": [
        "# 이미지 전처리 클래스 정의\n",
        "class ImageDataset(Dataset):\n",
        "    def __init__(self, df, targets, transform=None):\n",
        "        self.df = df\n",
        "        self.targets = targets\n",
        "        self.transform = transform\n",
        "\n",
        "    def __len__(self):\n",
        "        return len(self.df)\n",
        "\n",
        "    def __getitem__(self, index):\n",
        "        img_path = self.df['image'].iloc[index]\n",
        "        img_label = self.targets[index]\n",
        "\n",
        "        img = cv2.imread(img_path)\n",
        "        img = cv2.cvtColor(img, cv2.COLOR_BGR2RGB)\n",
        "        img = Image.fromarray(img)\n",
        "\n",
        "        if self.transform is not None:\n",
        "            img = self.transform(img)\n",
        "\n",
        "        return img, img_label"
      ]
    },
    {
      "cell_type": "code",
      "execution_count": null,
      "metadata": {
        "id": "2HRud4ftaS4M"
      },
      "outputs": [],
      "source": [
        "im_size = 224"
      ]
    },
    {
      "cell_type": "code",
      "execution_count": null,
      "metadata": {
        "id": "9juahox5UMym"
      },
      "outputs": [],
      "source": [
        "transform = transforms.Compose([\n",
        "    transforms.Resize((im_size, im_size)),\n",
        "    transforms.ToTensor(),\n",
        "    transforms.Normalize(mean=[0.485, 0.456, 0.406], std=[0.229, 0.224, 0.225])\n",
        "])"
      ]
    },
    {
      "cell_type": "code",
      "execution_count": null,
      "metadata": {
        "id": "ZM6kX-3AZ5iK"
      },
      "outputs": [],
      "source": [
        "# 데이터셋 생성\n",
        "train_dataset = ImageDataset(train_df, train_labels, transform=transform)\n",
        "val_dataset = ImageDataset(val_df, val_labels, transform=transform)\n",
        "test_dataset = ImageDataset(test_df, test_labels, transform=transform)"
      ]
    },
    {
      "cell_type": "code",
      "execution_count": null,
      "metadata": {
        "id": "fT0gu5OeZ5Op"
      },
      "outputs": [],
      "source": [
        "# DataLoader 생성\n",
        "train_dataloader = DataLoader(train_dataset, batch_size=16, shuffle=True)\n",
        "val_dataloader = DataLoader(val_dataset, batch_size=16, shuffle=False)\n",
        "test_dataloader = DataLoader(test_dataset, batch_size=16, shuffle=False)"
      ]
    },
    {
      "cell_type": "code",
      "execution_count": null,
      "metadata": {
        "colab": {
          "base_uri": "https://localhost:8080/"
        },
        "id": "-DvOcRotUVcd",
        "outputId": "1630cff7-6730-407c-eb52-2d243dc82c9e"
      },
      "outputs": [
        {
          "output_type": "stream",
          "name": "stderr",
          "text": [
            "/usr/local/lib/python3.10/dist-packages/torchvision/models/_utils.py:208: UserWarning: The parameter 'pretrained' is deprecated since 0.13 and may be removed in the future, please use 'weights' instead.\n",
            "  warnings.warn(\n",
            "/usr/local/lib/python3.10/dist-packages/torchvision/models/_utils.py:223: UserWarning: Arguments other than a weight enum or `None` for 'weights' are deprecated since 0.13 and may be removed in the future. The current behavior is equivalent to passing `weights=MobileNet_V2_Weights.IMAGENET1K_V1`. You can also use `weights=MobileNet_V2_Weights.DEFAULT` to get the most up-to-date weights.\n",
            "  warnings.warn(msg)\n",
            "Downloading: \"https://download.pytorch.org/models/mobilenet_v2-b0353104.pth\" to /root/.cache/torch/hub/checkpoints/mobilenet_v2-b0353104.pth\n",
            "100%|██████████| 13.6M/13.6M [00:00<00:00, 97.5MB/s]\n"
          ]
        }
      ],
      "source": [
        "# 모델 정의 (MobileNetV2)\n",
        "model = mobilenet_v2(pretrained=True)\n",
        "num_ftrs = model.classifier[1].in_features\n",
        "model.classifier[1] = torch.nn.Linear(num_ftrs, len(df['Labels'].unique()))"
      ]
    },
    {
      "cell_type": "code",
      "execution_count": null,
      "metadata": {
        "id": "-u3dcGkiUVfL"
      },
      "outputs": [],
      "source": [
        "# 모델 학습\n",
        "device = torch.device('cuda' if torch.cuda.is_available() else 'cpu')\n",
        "model.to(device)\n",
        "\n",
        "criterion = torch.nn.CrossEntropyLoss()\n",
        "optimizer = torch.optim.Adam(model.parameters(), lr=0.001)\n"
      ]
    },
    {
      "cell_type": "code",
      "execution_count": null,
      "metadata": {
        "id": "RamVz4WaUVhx"
      },
      "outputs": [],
      "source": [
        "num_epochs = 30\n",
        "best_val_loss = float('inf')\n",
        "patience = 29\n",
        "early_stopping_counter = 0"
      ]
    },
    {
      "cell_type": "code",
      "execution_count": null,
      "metadata": {
        "colab": {
          "base_uri": "https://localhost:8080/"
        },
        "id": "aWXcigbOUVjy",
        "outputId": "b34c0121-b91f-48a6-a016-b5d0649dc31e"
      },
      "outputs": [
        {
          "output_type": "stream",
          "name": "stdout",
          "text": [
            "Epoch [1/30], Train Loss: 0.6792\n",
            "Epoch [1/30], Validation Loss: 0.5693\n",
            "Epoch [2/30], Train Loss: 0.5501\n",
            "Epoch [2/30], Validation Loss: 0.5533\n",
            "Epoch [3/30], Train Loss: 0.4990\n",
            "Epoch [3/30], Validation Loss: 0.5699\n",
            "Epoch [4/30], Train Loss: 0.4896\n",
            "Epoch [4/30], Validation Loss: 0.8754\n",
            "Epoch [5/30], Train Loss: 0.4606\n",
            "Epoch [5/30], Validation Loss: 0.6138\n",
            "Epoch [6/30], Train Loss: 0.4569\n",
            "Epoch [6/30], Validation Loss: 0.5029\n",
            "Epoch [7/30], Train Loss: 0.4352\n",
            "Epoch [7/30], Validation Loss: 0.4895\n",
            "Epoch [8/30], Train Loss: 0.3977\n",
            "Epoch [8/30], Validation Loss: 1.0181\n",
            "Epoch [9/30], Train Loss: 0.4867\n",
            "Epoch [9/30], Validation Loss: 0.5552\n",
            "Epoch [10/30], Train Loss: 0.3960\n",
            "Epoch [10/30], Validation Loss: 0.6194\n",
            "Epoch [11/30], Train Loss: 0.3696\n",
            "Epoch [11/30], Validation Loss: 0.6741\n",
            "Epoch [12/30], Train Loss: 0.3447\n",
            "Epoch [12/30], Validation Loss: 0.5320\n",
            "Epoch [13/30], Train Loss: 0.3163\n",
            "Epoch [13/30], Validation Loss: 0.5584\n",
            "Epoch [14/30], Train Loss: 0.3183\n",
            "Epoch [14/30], Validation Loss: 0.5921\n",
            "Epoch [15/30], Train Loss: 0.3215\n",
            "Epoch [15/30], Validation Loss: 0.5669\n",
            "Epoch [16/30], Train Loss: 0.2713\n",
            "Epoch [16/30], Validation Loss: 0.8440\n",
            "Epoch [17/30], Train Loss: 0.2275\n",
            "Epoch [17/30], Validation Loss: 0.5684\n",
            "Epoch [18/30], Train Loss: 0.2126\n",
            "Epoch [18/30], Validation Loss: 1.4762\n",
            "Epoch [19/30], Train Loss: 0.3459\n",
            "Epoch [19/30], Validation Loss: 0.5839\n",
            "Epoch [20/30], Train Loss: 0.2118\n",
            "Epoch [20/30], Validation Loss: 0.6442\n",
            "Epoch [21/30], Train Loss: 0.2051\n",
            "Epoch [21/30], Validation Loss: 0.6529\n",
            "Epoch [22/30], Train Loss: 0.1474\n",
            "Epoch [22/30], Validation Loss: 0.9452\n",
            "Epoch [23/30], Train Loss: 0.2173\n",
            "Epoch [23/30], Validation Loss: 0.7768\n",
            "Epoch [24/30], Train Loss: 0.1343\n",
            "Epoch [24/30], Validation Loss: 0.7745\n",
            "Epoch [25/30], Train Loss: 0.1190\n",
            "Epoch [25/30], Validation Loss: 1.3591\n",
            "Epoch [26/30], Train Loss: 0.2385\n",
            "Epoch [26/30], Validation Loss: 0.8028\n",
            "Epoch [27/30], Train Loss: 0.1301\n",
            "Epoch [27/30], Validation Loss: 0.8287\n",
            "Epoch [28/30], Train Loss: 0.0941\n",
            "Epoch [28/30], Validation Loss: 0.8617\n",
            "Epoch [29/30], Train Loss: 0.0958\n",
            "Epoch [29/30], Validation Loss: 1.1455\n",
            "Epoch [30/30], Train Loss: 0.1007\n",
            "Epoch [30/30], Validation Loss: 0.9412\n"
          ]
        }
      ],
      "source": [
        "for epoch in range(num_epochs):\n",
        "    model.train()\n",
        "    running_loss = 0.0\n",
        "\n",
        "    for images, labels in train_dataloader:\n",
        "        images = images.to(device)\n",
        "        labels = labels.to(device)\n",
        "\n",
        "        optimizer.zero_grad()\n",
        "\n",
        "        outputs = model(images)\n",
        "        loss = criterion(outputs, labels)\n",
        "        loss.backward()\n",
        "        optimizer.step()\n",
        "\n",
        "        running_loss += loss.item()\n",
        "\n",
        "    epoch_loss = running_loss / len(train_dataloader)\n",
        "    print(f'Epoch [{epoch+1}/{num_epochs}], Train Loss: {epoch_loss:.4f}')\n",
        "    # Validation 세트를 사용하여 성능 검증 및 Early Stopping\n",
        "    model.eval()\n",
        "    val_loss = 0.0\n",
        "\n",
        "    with torch.no_grad():\n",
        "        for val_images, val_labels in val_dataloader:\n",
        "            val_images = val_images.to(device)\n",
        "            val_labels = val_labels.to(device)\n",
        "\n",
        "            val_outputs = model(val_images)\n",
        "            val_loss += criterion(val_outputs, val_labels).item()\n",
        "\n",
        "    val_loss /= len(val_dataloader)\n",
        "    print(f'Epoch [{epoch+1}/{num_epochs}], Validation Loss: {val_loss:.4f}')\n",
        "    # Early Stopping 체크\n",
        "    if val_loss < best_val_loss:\n",
        "        best_val_loss = val_loss\n",
        "        early_stopping_counter = 0\n",
        "        torch.save(model.state_dict(), 'best_model.pt')\n",
        "    else:\n",
        "        early_stopping_counter += 1\n",
        "        if early_stopping_counter >= patience:\n",
        "            print('Early Stopping!')\n",
        "            break"
      ]
    },
    {
      "cell_type": "code",
      "execution_count": null,
      "metadata": {
        "id": "7vXv27V1dwnf",
        "colab": {
          "base_uri": "https://localhost:8080/"
        },
        "outputId": "f74c6a24-05d4-4aa7-9e1b-d9bdd4fd05ae"
      },
      "outputs": [
        {
          "output_type": "stream",
          "name": "stdout",
          "text": [
            "Test Accuracy: 0.7739628040057225\n",
            "Test Loss: 0.5361950952898372\n"
          ]
        }
      ],
      "source": [
        "# 테스트 데이터셋에 대한 예측\n",
        "model.load_state_dict(torch.load('best_model.pt'))\n",
        "model.eval()\n",
        "\n",
        "test_loss = 0.0\n",
        "test_correct = 0\n",
        "total_samples = 0\n",
        "\n",
        "with torch.no_grad():\n",
        "    for test_images, test_labels in test_dataloader:\n",
        "        test_images = test_images.to(device)\n",
        "        test_labels = test_labels.to(device)\n",
        "\n",
        "        test_outputs = model(test_images)\n",
        "        _, predicted = torch.max(test_outputs.data, 1)\n",
        "\n",
        "        test_loss += criterion(test_outputs, test_labels).item()\n",
        "        test_correct += (predicted == test_labels).sum().item()\n",
        "        total_samples += test_labels.size(0)\n",
        "\n",
        "test_accuracy = test_correct / total_samples\n",
        "test_loss /= len(test_dataloader)\n",
        "\n",
        "print('Test Accuracy:', test_accuracy)\n",
        "print('Test Loss:', test_loss)"
      ]
    },
    {
      "cell_type": "code",
      "execution_count": null,
      "metadata": {
        "id": "-YBqiQyTZZvU"
      },
      "outputs": [],
      "source": []
    },
    {
      "cell_type": "code",
      "execution_count": null,
      "metadata": {
        "id": "1E3gMMZuZZx_"
      },
      "outputs": [],
      "source": []
    },
    {
      "cell_type": "code",
      "execution_count": null,
      "metadata": {
        "id": "19K5ehg-UVmE"
      },
      "outputs": [],
      "source": []
    },
    {
      "cell_type": "code",
      "execution_count": null,
      "metadata": {
        "id": "rJWPRPThVNo8"
      },
      "outputs": [],
      "source": [
        "# import cv2\n",
        "# path = '/content/drive/MyDrive/three_final/'\n",
        "# dataset_path = os.listdir('/content/drive/MyDrive/three_final/')\n",
        "\n",
        "# im_size = 224\n",
        "\n",
        "# images = []\n",
        "# labels = []\n",
        "\n",
        "# for i in dataset_path:\n",
        "#   data_path = path + str(i)\n",
        "#   filenames = [i for i in os.listdir(data_path)]\n",
        "\n",
        "#   for f in filenames:\n",
        "#     img = cv2.imread(data_path +'/' + f)\n",
        "#     img = cv2.resize(img, (im_size, im_size))\n",
        "#     images.append(img)\n",
        "#     labels.append(i)"
      ]
    },
    {
      "cell_type": "code",
      "execution_count": null,
      "metadata": {
        "id": "BpjIxos6VNrI"
      },
      "outputs": [],
      "source": [
        "images[10].shape"
      ]
    },
    {
      "cell_type": "code",
      "execution_count": null,
      "metadata": {
        "id": "lWuC6Sj1V0u5"
      },
      "outputs": [],
      "source": [
        "#데이터 전처리\n",
        "transform = transforms.Compose([\n",
        "    transforms.ToTensor(),  # 텐서로 변환\n",
        "    transforms.Normalize(mean=[0.485, 0.456, 0.406], std=[0.229, 0.224, 0.225])  # 정규화\n",
        "])"
      ]
    },
    {
      "cell_type": "code",
      "execution_count": null,
      "metadata": {
        "id": "tzaIWbo3V0x1"
      },
      "outputs": [],
      "source": [
        "from sklearn.model_selection import train_test_split\n",
        "\n",
        "train_images, test_images, train_labels, test_labels = train_test_split(\n",
        "    images, labels, test_size=0.1, stratify=labels, random_state=42)\n",
        "train_images, val_images, train_labels, val_labels = train_test_split(\n",
        "    train_images, train_labels, test_size=0.2, stratify=train_labels, random_state=42)"
      ]
    },
    {
      "cell_type": "code",
      "execution_count": null,
      "metadata": {
        "id": "4hyqb_u9YDwZ"
      },
      "outputs": [],
      "source": [
        "# 하이퍼파라미터 설정\n",
        "num_classes = 3  # 분류할 표정 클래스 수\n",
        "batch_size = 8\n",
        "num_epochs = 100\n",
        "learning_rate = 0.001\n",
        "patience = 5"
      ]
    },
    {
      "cell_type": "code",
      "execution_count": null,
      "metadata": {
        "id": "5GBWiflqY5k_"
      },
      "outputs": [],
      "source": [
        "train_images = [np.array(image) for image in train_images]\n",
        "train_images = np.stack(train_images)\n",
        "val_images = [np.array(image) for image in val_images]\n",
        "val_images = np.stack(val_images)\n",
        "test_images = [np.array(image) for image in test_images]\n",
        "test_images = np.stack(test_images)"
      ]
    },
    {
      "cell_type": "code",
      "execution_count": null,
      "metadata": {
        "id": "wxmnqkg7V02y"
      },
      "outputs": [],
      "source": [
        "# 데이터셋 생성\n",
        "train_dataset = TensorDataset(torch.from_numpy(train_images), torch.tensor(train_labels))\n",
        "train_loader = DataLoader(train_dataset, batch_size=batch_size, shuffle=True)\n",
        "val_dataset = TensorDataset(torch.from_numpy(val_images), torch.tensor(val_labels))\n",
        "val_loader = DataLoader(val_dataset, batch_size=batch_size, shuffle=False)\n",
        "test_dataset = TensorDataset(torch.from_numpy(test_images), torch.tensor(test_labels))\n",
        "test_loader = DataLoader(test_dataset, batch_size=batch_size, shuffle=False)"
      ]
    },
    {
      "cell_type": "code",
      "execution_count": null,
      "metadata": {
        "id": "QOxneiKhV059"
      },
      "outputs": [],
      "source": []
    },
    {
      "cell_type": "code",
      "execution_count": null,
      "metadata": {
        "id": "e68hMjHjV1Bg"
      },
      "outputs": [],
      "source": []
    },
    {
      "cell_type": "code",
      "execution_count": null,
      "metadata": {
        "id": "bamEBwqyV1GZ"
      },
      "outputs": [],
      "source": []
    },
    {
      "cell_type": "code",
      "execution_count": null,
      "metadata": {
        "id": "2CNtIPZ-V1JI"
      },
      "outputs": [],
      "source": []
    },
    {
      "cell_type": "code",
      "execution_count": null,
      "metadata": {
        "id": "9FSJx0UOV1Lt"
      },
      "outputs": [],
      "source": []
    }
  ],
  "metadata": {
    "colab": {
      "machine_shape": "hm",
      "provenance": []
    },
    "kernelspec": {
      "display_name": "Python 3",
      "name": "python3"
    },
    "language_info": {
      "name": "python"
    }
  },
  "nbformat": 4,
  "nbformat_minor": 0
}