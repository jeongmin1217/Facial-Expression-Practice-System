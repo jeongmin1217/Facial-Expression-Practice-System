{
  "nbformat": 4,
  "nbformat_minor": 0,
  "metadata": {
    "colab": {
      "provenance": [],
      "toc_visible": true,
      "machine_shape": "hm",
      "gpuType": "A100"
    },
    "kernelspec": {
      "name": "python3",
      "display_name": "Python 3"
    },
    "language_info": {
      "name": "python"
    },
    "accelerator": "GPU"
  },
  "cells": [
    {
      "cell_type": "code",
      "execution_count": null,
      "metadata": {
        "colab": {
          "base_uri": "https://localhost:8080/"
        },
        "id": "HSyybUiszfNa",
        "outputId": "94f4ba82-9f07-462e-c9c1-ee44b7812ce3"
      },
      "outputs": [
        {
          "output_type": "stream",
          "name": "stdout",
          "text": [
            "Mounted at /content/drive\n"
          ]
        }
      ],
      "source": [
        "import numpy as np\n",
        "import tensorflow as tf\n",
        "import pandas as pd\n",
        "import matplotlib.pyplot as plt\n",
        "import os\n",
        "from google.colab import drive\n",
        "drive.mount('/content/drive')"
      ]
    },
    {
      "cell_type": "code",
      "source": [
        "dataset_path = os.listdir('/content/drive/MyDrive/three_final')\n",
        "print(dataset_path)"
      ],
      "metadata": {
        "colab": {
          "base_uri": "https://localhost:8080/"
        },
        "id": "eRLawu7czmZ2",
        "outputId": "30492e4f-90f6-4fca-bba8-990921f95689"
      },
      "execution_count": null,
      "outputs": [
        {
          "output_type": "stream",
          "name": "stdout",
          "text": [
            "['sad', 'neutral', 'happy']\n"
          ]
        }
      ]
    },
    {
      "cell_type": "code",
      "source": [
        "import torch\n",
        "import torch.nn as nn\n",
        "import torch.nn.functional as F\n",
        "import torch.optim as optim\n",
        "from torch.optim import lr_scheduler\n",
        "\n",
        "import torchvision\n",
        "from torchvision import datasets, models, transforms\n",
        "\n",
        "import numpy as np\n",
        "import matplotlib.pyplot as plot\n",
        "import pandas as pd\n",
        "import matplotlib.pyplot as plt\n",
        "import copy\n",
        "from tqdm.notebook import tqdm\n",
        "\n",
        "import time\n",
        "import os\n"
      ],
      "metadata": {
        "id": "8or5L3-h1NbN"
      },
      "execution_count": null,
      "outputs": []
    },
    {
      "cell_type": "code",
      "source": [
        "print(torch.__version__)\n",
        "print(torch.cuda.is_available())"
      ],
      "metadata": {
        "colab": {
          "base_uri": "https://localhost:8080/"
        },
        "id": "QTaHBvPn1srY",
        "outputId": "10628e50-b67c-4e1b-e14d-0b65d41e80fc"
      },
      "execution_count": null,
      "outputs": [
        {
          "output_type": "stream",
          "name": "stdout",
          "text": [
            "2.0.1+cu118\n",
            "True\n"
          ]
        }
      ]
    },
    {
      "cell_type": "code",
      "source": [
        "import os\n",
        "import random\n",
        "import shutil\n",
        "\n",
        "# 분할된 데이터셋의 저장 경로\n",
        "output_dir = '/content/drive/MyDrive/three_for_resnet'\n",
        "train_dir = os.path.join(output_dir, 'train')\n",
        "val_dir = os.path.join(output_dir, 'val')\n",
        "test_dir = os.path.join(output_dir, 'test')"
      ],
      "metadata": {
        "id": "flkco4wF9fMp"
      },
      "execution_count": null,
      "outputs": []
    },
    {
      "cell_type": "code",
      "source": [
        "dataset_path = '/content/drive/MyDrive/three_final'"
      ],
      "metadata": {
        "id": "akEfkmx_9vpJ"
      },
      "execution_count": null,
      "outputs": []
    },
    {
      "cell_type": "code",
      "source": [
        "# 분할 비율 설정\n",
        "train_ratio = 0.7\n",
        "val_ratio = 0.2\n",
        "test_ratio = 0.1\n",
        "\n",
        "# 폴더 생성\n",
        "os.makedirs(train_dir, exist_ok=True)\n",
        "os.makedirs(val_dir, exist_ok=True)\n",
        "os.makedirs(test_dir, exist_ok=True)\n",
        "\n",
        "# 클래스 리스트 추출\n",
        "class_names = os.listdir(dataset_path) #['sad', 'neutral', 'happy']\n",
        "print(class_names)"
      ],
      "metadata": {
        "colab": {
          "base_uri": "https://localhost:8080/"
        },
        "id": "gWjmCg-vC4QE",
        "outputId": "ab47236b-05dc-4f44-9dd5-cdfce0a47d66"
      },
      "execution_count": null,
      "outputs": [
        {
          "output_type": "stream",
          "name": "stdout",
          "text": [
            "['sad', 'neutral', 'happy']\n"
          ]
        }
      ]
    },
    {
      "cell_type": "code",
      "source": [
        "# 각 클래스마다 이미지 분할 및 이동\n",
        "for class_name in class_names:\n",
        "    class_dir = os.path.join(dataset_path, class_name) #'/content/drive/MyDrive/three_final/sad'\n",
        "    images = os.listdir(class_dir)\n",
        "    num_images = len(images)\n",
        "    print(class_dir, num_images)\n",
        "\n",
        "    # 이미지를 무작위로 섞음\n",
        "    random.shuffle(images)\n",
        "\n",
        "    # 분할된 인덱스 계산\n",
        "    train_end = int(train_ratio * num_images)\n",
        "    val_end = int((train_ratio + val_ratio) * num_images)\n",
        "\n",
        "    # 분할된 이미지들을 각각의 폴더로 이동\n",
        "    for i, image in enumerate(images):\n",
        "        src_path = os.path.join(class_dir, image)  #'/content/drive/MyDrive/three_final/sad',image\n",
        "\n",
        "        if i < train_end:\n",
        "            dst_dir = os.path.join(train_dir, class_name)\n",
        "        elif i < val_end:\n",
        "            dst_dir = os.path.join(val_dir, class_name)\n",
        "        else:\n",
        "            dst_dir = os.path.join(test_dir, class_name)\n",
        "\n",
        "        os.makedirs(dst_dir, exist_ok=True)\n",
        "        dst_path = os.path.join(dst_dir, image)\n",
        "        shutil.copy(src_path, dst_path)"
      ],
      "metadata": {
        "id": "hqjBsL4x8-zb"
      },
      "execution_count": null,
      "outputs": []
    },
    {
      "cell_type": "code",
      "source": [],
      "metadata": {
        "id": "2GpaRdCyH64R"
      },
      "execution_count": null,
      "outputs": []
    },
    {
      "cell_type": "code",
      "source": [
        "#Data Transformation and Augmentation\n",
        "data_transforms = {\n",
        "    'train': transforms.Compose([\n",
        "        transforms.RandomHorizontalFlip(),\n",
        "        transforms.Resize((224, 224)),\n",
        "        transforms.ToTensor(),\n",
        "        transforms.Normalize([0.485, 0.456, 0.406], [0.229, 0.224, 0.225])\n",
        "    ]),\n",
        "    'val': transforms.Compose([\n",
        "        transforms.Resize((224, 224)),\n",
        "        transforms.ToTensor(),\n",
        "        transforms.Normalize([0.485, 0.456, 0.406], [0.229, 0.224, 0.225])\n",
        "    ])\n",
        "}\n"
      ],
      "metadata": {
        "id": "tY-UExo34qGY"
      },
      "execution_count": null,
      "outputs": []
    },
    {
      "cell_type": "code",
      "source": [
        "# plt.ion()\n",
        "# csv_file = pd.read_csv('./Training_set_food.csv')\n",
        "\n",
        "# labels = list(dict.fromkeys(csv_file['label']))\n",
        "labels = ['happy','neutral','sad']\n"
      ],
      "metadata": {
        "id": "k4tjgPhS1vGZ"
      },
      "execution_count": null,
      "outputs": []
    },
    {
      "cell_type": "code",
      "source": [
        "data_dir = '/content/drive/MyDrive/three_for_resnet'\n",
        "\n",
        "image_datasets = {x: datasets.ImageFolder(os.path.join(data_dir, x), data_transforms[x]) for x in ['train', 'val']}\n",
        "\n",
        "image_dataloader = {x: torch.utils.data.DataLoader(image_datasets[x], batch_size=4, shuffle=True, num_workers=1) for x in ['train', 'val']}\n",
        "\n",
        "dataset_sizes = {x: len(image_datasets[x]) for x in ['train', 'val']}\n",
        "class_names = image_datasets['train'].classes\n",
        "print(class_names)\n",
        "\n",
        "device = torch.device('cuda:0' if torch.cuda.is_available() else 'cpu')\n",
        "print('using device: {}'.format(device))"
      ],
      "metadata": {
        "colab": {
          "base_uri": "https://localhost:8080/"
        },
        "id": "j1XmC-PV4qLb",
        "outputId": "4425990a-f690-4af7-9406-77a546a42e42"
      },
      "execution_count": null,
      "outputs": [
        {
          "output_type": "stream",
          "name": "stdout",
          "text": [
            "['happy', 'neutral', 'sad']\n",
            "using device: cuda:0\n"
          ]
        }
      ]
    },
    {
      "cell_type": "code",
      "source": [
        "def imshow(imgs, title=None):\n",
        "    imgs = imgs.numpy().transpose((1, 2, 0))\n",
        "    mean = np.array([0.485, 0.456, 0.406])\n",
        "    std = np.array([0.229, 0.224, 0.225])\n",
        "    imgs = std * imgs + mean\n",
        "    imgs = np.clip(imgs, 0, 1)\n",
        "    plt.imshow(imgs)\n",
        "    if title is not None:\n",
        "        plt.title(title)\n",
        "    plt.pause(0.001)\n",
        "\n",
        "inputs, classes = next(iter(image_dataloader['train']))\n",
        "\n",
        "imgs = torchvision.utils.make_grid(inputs)\n",
        "\n",
        "imshow(imgs, title=[class_names[x] for x in classes])"
      ],
      "metadata": {
        "colab": {
          "base_uri": "https://localhost:8080/",
          "height": 207
        },
        "id": "6gUnSBTy4qOH",
        "outputId": "c67ba96c-2a3c-4fd7-d591-fc51401eb517"
      },
      "execution_count": null,
      "outputs": [
        {
          "output_type": "display_data",
          "data": {
            "text/plain": [
              "<Figure size 640x480 with 1 Axes>"
            ],
            "image/png": "[encoded data removed]"
          },
          "metadata": {}
        }
      ]
    },
    {
      "cell_type": "markdown",
      "source": [
        "### Train functions and its pipeline"
      ],
      "metadata": {
        "id": "O52L6mvLJ7SB"
      }
    },
    {
      "cell_type": "code",
      "source": [
        "def train(model, criterion, optimizer, scheduler, num_epochs=30, early_stopping=True):\n",
        "    last_loss = 100\n",
        "    patience = 8\n",
        "    trigger_times = 0\n",
        "\n",
        "    total_start = time.time()\n",
        "\n",
        "    total_train_accuracy = []\n",
        "    total_train_loss = []\n",
        "    total_val_accuracy = []\n",
        "    total_val_loss = []\n",
        "\n",
        "    best_model_weight = copy.deepcopy(model.state_dict())\n",
        "    best_acc = 0.0\n",
        "    best_loss = float('inf')\n",
        "\n",
        "    for epoch in range(num_epochs):\n",
        "        start = time.time()\n",
        "        print('Epoch {} / {}'.format(epoch, num_epochs-1))\n",
        "        print('-' * 20)\n",
        "\n",
        "        for phase in ['train', 'val']:\n",
        "            if phase == 'train':\n",
        "                model.train()\n",
        "            else:\n",
        "                model.eval()\n",
        "\n",
        "            running_loss = 0.0\n",
        "            running_corrects = 0\n",
        "\n",
        "            #for inputs, labels in tqdm(image_dataloader[phase]):\n",
        "            for index, (inputs, labels) in enumerate(image_dataloader[phase]):\n",
        "                inputs, labels = inputs.to(device), labels.to(device)\n",
        "\n",
        "                optimizer.zero_grad()\n",
        "\n",
        "                outputs = model(inputs)\n",
        "                _, preds = torch.max(outputs, 1)\n",
        "                loss = criterion(outputs, labels)\n",
        "\n",
        "                if phase == 'train':\n",
        "                    loss.backward()\n",
        "                    optimizer.step()\n",
        "\n",
        "                running_loss += loss.item() * inputs.size(0)\n",
        "                running_corrects += torch.sum(preds == labels.data)\n",
        "\n",
        "            if phase == 'train':\n",
        "                scheduler.step()\n",
        "\n",
        "            epoch_loss = running_loss / dataset_sizes[phase]\n",
        "            epoch_accuracy = running_corrects.float() / dataset_sizes[phase]\n",
        "\n",
        "            if phase == 'train':\n",
        "                total_train_loss.append(epoch_loss)\n",
        "                total_train_accuracy.append(epoch_accuracy)\n",
        "            if phase == 'val':\n",
        "                total_val_loss.append(epoch_loss)\n",
        "                total_val_accuracy.append(epoch_accuracy)\n",
        "\n",
        "            print('{} Loss: {:.5f} Accuracy: {:.5f}'.format(phase, epoch_loss, epoch_accuracy))\n",
        "\n",
        "            if phase == 'val' and epoch_accuracy > best_acc:\n",
        "                best_acc = epoch_accuracy\n",
        "                best_loss = epoch_loss\n",
        "                best_model_weight = copy.deepcopy(model.state_dict())\n",
        "\n",
        "            if early_stopping and phase == 'val':\n",
        "                if last_loss < epoch_loss:\n",
        "                    trigger_times += 1\n",
        "                    if trigger_times >= patience:\n",
        "                        print('Early stopping at epoch {}'.format(epoch))\n",
        "                        total_time_elapsed = np.round(time.time() - total_start, 3)\n",
        "                        print('Completed training in {:0f}m {:03f}s'.format(total_time_elapsed // 60, total_time_elapsed % 60))\n",
        "                        print('Best Accuracy: {}, Best Loss: {}'.format(best_acc, best_loss))\n",
        "                        model.load_state_dict(best_model_weight)\n",
        "                        return model, total_train_accuracy, total_train_loss, total_val_accuracy, total_val_loss\n",
        "                else:\n",
        "                    trigger_times = 0\n",
        "                last_loss = epoch_loss\n",
        "\n",
        "        #save on every 10 epochs\n",
        "        if epoch % 10 == 0:\n",
        "            torch.save({\n",
        "                'model_state_dict': model.state_dict(),\n",
        "                'optimizer_state_dict': optimizer.state_dict(),\n",
        "                'loss': criterion,\n",
        "                'epoch': epoch\n",
        "            }, '/content/drive/MyDrive/weights/ResNet18_epoch_{}.pt'.format(epoch))\n",
        "\n",
        "        end = np.round(time.time() - start, 3)\n",
        "        print('Epoch {}: {}s\\n'.format(epoch, end))\n",
        "\n",
        "    total_time_elapsed = np.round(time.time() - total_start, 3)\n",
        "    print('Completed training in {:0f}m {:03f}s'.format(total_time_elapsed // 60, total_time_elapsed % 60))\n",
        "    print('Best Accuracy: {}, Best Loss: {}'.format(best_acc, best_loss))\n",
        "\n",
        "    model.load_state_dict(best_model_weight)\n",
        "    return model, total_train_accuracy, total_train_loss, total_val_accuracy, total_val_loss"
      ],
      "metadata": {
        "id": "coMQrPSWJ03n"
      },
      "execution_count": null,
      "outputs": []
    },
    {
      "cell_type": "markdown",
      "source": [
        "Visualization for validation set"
      ],
      "metadata": {
        "id": "UdXyYFSpK-fa"
      }
    },
    {
      "cell_type": "code",
      "source": [
        "def visualize_model(model, num_imgs=4):\n",
        "    train_phase = model.training\n",
        "    model.eval()\n",
        "    total_images_processed = 0\n",
        "    fig = plt.figure()\n",
        "\n",
        "    with torch.no_grad():\n",
        "        #for inputs, labels in tqdm(image_dataloader['val']):\n",
        "        for index, (inputs, labels) in enumerate(image_dataloader['val']):\n",
        "            inputs, labels = inputs.to(device), labels.to(device)\n",
        "\n",
        "            outputs = model(inputs)\n",
        "            _, preds = torch.max(outputs, 1)\n",
        "\n",
        "            for j in range(inputs.size()[0]):\n",
        "                total_images_processed += 1\n",
        "                ax = plt.subplot(num_imgs//2, 2, total_images_processed)\n",
        "                ax.axis('off')\n",
        "                ax.set_title('predicted: {}'.format(class_names[preds[j]]))\n",
        "                imshow(inputs.cpu().data[j])\n",
        "\n",
        "                if total_images_processed == num_imgs:\n",
        "                    model.train(mode=train_phase)\n",
        "                    return\n",
        "        model.train(mode=train_phase)\n"
      ],
      "metadata": {
        "id": "OIynDxTCK9xS"
      },
      "execution_count": null,
      "outputs": []
    },
    {
      "cell_type": "markdown",
      "source": [
        "Network structure"
      ],
      "metadata": {
        "id": "btk2g78_LEIz"
      }
    },
    {
      "cell_type": "code",
      "source": [
        "#Load pretrained ResNet18 model\n",
        "model = torchvision.models.resnet18(pretrained=True)\n",
        "\n",
        "model = model.to(device)\n",
        "criterion = nn.CrossEntropyLoss()\n",
        "optimizer = optim.SGD(model.fc.parameters(), lr=0.01, momentum=0.9)\n",
        "learning_rate_scheduler = lr_scheduler.StepLR(optimizer, step_size=10, gamma=0.1)"
      ],
      "metadata": {
        "colab": {
          "base_uri": "https://localhost:8080/"
        },
        "id": "lyzOrkzlK9zc",
        "outputId": "df8c849d-307a-4c29-e7b2-ed5439b6a019"
      },
      "execution_count": null,
      "outputs": [
        {
          "output_type": "stream",
          "name": "stderr",
          "text": [
            "/usr/local/lib/python3.10/dist-packages/torchvision/models/_utils.py:208: UserWarning: The parameter 'pretrained' is deprecated since 0.13 and may be removed in the future, please use 'weights' instead.\n",
            "  warnings.warn(\n",
            "/usr/local/lib/python3.10/dist-packages/torchvision/models/_utils.py:223: UserWarning: Arguments other than a weight enum or `None` for 'weights' are deprecated since 0.13 and may be removed in the future. The current behavior is equivalent to passing `weights=ResNet18_Weights.IMAGENET1K_V1`. You can also use `weights=ResNet18_Weights.DEFAULT` to get the most up-to-date weights.\n",
            "  warnings.warn(msg)\n",
            "Downloading: \"https://download.pytorch.org/models/resnet18-f37072fd.pth\" to /root/.cache/torch/hub/checkpoints/resnet18-f37072fd.pth\n",
            "100%|██████████| 44.7M/44.7M [00:00<00:00, 194MB/s]\n"
          ]
        }
      ]
    },
    {
      "cell_type": "code",
      "source": [
        "model, total_train_accuracy, total_train_loss, total_val_accuracy, total_val_loss = train(model, criterion, optimizer, \\\n",
        "                                                                                          learning_rate_scheduler, num_epochs=200, early_stopping=True)"
      ],
      "metadata": {
        "colab": {
          "base_uri": "https://localhost:8080/",
          "height": 1000
        },
        "id": "4I0J6UFYK936",
        "outputId": "7f8f77c7-908a-43ce-d673-8d39d639be54"
      },
      "execution_count": null,
      "outputs": [
        {
          "output_type": "stream",
          "name": "stdout",
          "text": [
            "Epoch 0 / 199\n",
            "--------------------\n",
            "train Loss: 2.67600 Accuracy: 0.48700\n",
            "val Loss: 1.20225 Accuracy: 0.65283\n",
            "Epoch 0: 1125.398s\n",
            "\n",
            "Epoch 1 / 199\n",
            "--------------------\n",
            "train Loss: 2.54418 Accuracy: 0.53306\n",
            "val Loss: 1.14411 Accuracy: 0.68146\n",
            "Epoch 1: 38.448s\n",
            "\n",
            "Epoch 2 / 199\n",
            "--------------------\n",
            "train Loss: 2.59400 Accuracy: 0.52733\n",
            "val Loss: 1.87429 Accuracy: 0.57981\n",
            "Epoch 2: 38.464s\n",
            "\n",
            "Epoch 3 / 199\n",
            "--------------------\n",
            "train Loss: 2.47670 Accuracy: 0.53961\n",
            "val Loss: 1.32942 Accuracy: 0.64782\n",
            "Epoch 3: 38.176s\n",
            "\n",
            "Epoch 4 / 199\n",
            "--------------------\n",
            "train Loss: 2.63831 Accuracy: 0.53859\n",
            "val Loss: 2.76860 Accuracy: 0.56263\n",
            "Epoch 4: 38.016s\n",
            "\n",
            "Epoch 5 / 199\n",
            "--------------------\n",
            "train Loss: 2.70632 Accuracy: 0.53961\n",
            "val Loss: 3.38230 Accuracy: 0.50322\n",
            "Epoch 5: 37.823s\n",
            "\n",
            "Epoch 6 / 199\n",
            "--------------------\n",
            "train Loss: 2.78455 Accuracy: 0.53449\n",
            "val Loss: 1.30148 Accuracy: 0.66714\n",
            "Epoch 6: 38.211s\n",
            "\n",
            "Epoch 7 / 199\n",
            "--------------------\n",
            "train Loss: 2.71751 Accuracy: 0.56336\n",
            "val Loss: 3.00983 Accuracy: 0.53329\n",
            "Epoch 7: 38.014s\n",
            "\n",
            "Epoch 8 / 199\n",
            "--------------------\n",
            "train Loss: 2.95258 Accuracy: 0.53736\n",
            "val Loss: 2.94430 Accuracy: 0.48533\n",
            "Epoch 8: 38.533s\n",
            "\n",
            "Epoch 9 / 199\n",
            "--------------------\n",
            "train Loss: 2.57533 Accuracy: 0.55947\n",
            "val Loss: 1.78823 Accuracy: 0.63135\n",
            "Epoch 9: 38.084s\n",
            "\n",
            "Epoch 10 / 199\n",
            "--------------------\n",
            "train Loss: 1.35404 Accuracy: 0.63112\n",
            "val Loss: 1.23625 Accuracy: 0.66356\n",
            "Epoch 10: 39.164s\n",
            "\n",
            "Epoch 11 / 199\n",
            "--------------------\n",
            "train Loss: 1.22558 Accuracy: 0.63071\n",
            "val Loss: 1.07036 Accuracy: 0.65283\n",
            "Epoch 11: 38.006s\n",
            "\n",
            "Epoch 12 / 199\n",
            "--------------------\n",
            "train Loss: 1.17926 Accuracy: 0.62927\n",
            "val Loss: 1.28417 Accuracy: 0.63422\n",
            "Epoch 12: 38.433s\n",
            "\n",
            "Epoch 13 / 199\n",
            "--------------------\n",
            "train Loss: 1.09576 Accuracy: 0.63193\n",
            "val Loss: 1.14235 Accuracy: 0.64066\n",
            "Epoch 13: 38.026s\n",
            "\n",
            "Epoch 14 / 199\n",
            "--------------------\n",
            "train Loss: 1.08087 Accuracy: 0.63439\n",
            "val Loss: 0.94504 Accuracy: 0.65068\n",
            "Epoch 14: 38.003s\n",
            "\n",
            "Epoch 15 / 199\n",
            "--------------------\n",
            "train Loss: 1.06322 Accuracy: 0.63275\n",
            "val Loss: 1.17987 Accuracy: 0.61990\n",
            "Epoch 15: 38.101s\n",
            "\n",
            "Epoch 16 / 199\n",
            "--------------------\n",
            "train Loss: 1.02791 Accuracy: 0.62600\n",
            "val Loss: 0.91647 Accuracy: 0.66428\n",
            "Epoch 16: 38.246s\n",
            "\n",
            "Epoch 17 / 199\n",
            "--------------------\n",
            "train Loss: 1.01142 Accuracy: 0.63132\n",
            "val Loss: 1.21389 Accuracy: 0.59914\n",
            "Epoch 17: 38.1s\n",
            "\n",
            "Epoch 18 / 199\n",
            "--------------------\n",
            "train Loss: 0.98910 Accuracy: 0.63316\n",
            "val Loss: 0.88526 Accuracy: 0.64925\n",
            "Epoch 18: 38.081s\n",
            "\n",
            "Epoch 19 / 199\n",
            "--------------------\n",
            "train Loss: 0.95306 Accuracy: 0.63787\n",
            "val Loss: 0.99620 Accuracy: 0.63135\n",
            "Epoch 19: 38.014s\n",
            "\n",
            "Epoch 20 / 199\n",
            "--------------------\n",
            "train Loss: 0.88611 Accuracy: 0.65281\n",
            "val Loss: 0.93270 Accuracy: 0.64281\n",
            "Epoch 20: 38.359s\n",
            "\n",
            "Epoch 21 / 199\n",
            "--------------------\n",
            "train Loss: 0.90334 Accuracy: 0.65445\n",
            "val Loss: 0.89857 Accuracy: 0.65712\n",
            "Epoch 21: 38.234s\n",
            "\n",
            "Epoch 22 / 199\n",
            "--------------------\n",
            "train Loss: 0.89755 Accuracy: 0.64483\n",
            "val Loss: 0.84496 Accuracy: 0.66285\n",
            "Epoch 22: 38.441s\n",
            "\n",
            "Epoch 23 / 199\n",
            "--------------------\n",
            "train Loss: 0.87859 Accuracy: 0.65118\n",
            "val Loss: 0.88817 Accuracy: 0.64782\n",
            "Epoch 23: 38.062s\n",
            "\n",
            "Epoch 24 / 199\n",
            "--------------------\n",
            "train Loss: 0.86271 Accuracy: 0.65261\n",
            "val Loss: 0.84302 Accuracy: 0.67001\n",
            "Epoch 24: 37.714s\n",
            "\n",
            "Epoch 25 / 199\n",
            "--------------------\n",
            "train Loss: 0.86372 Accuracy: 0.65445\n",
            "val Loss: 0.89544 Accuracy: 0.65784\n",
            "Epoch 25: 38.279s\n",
            "\n",
            "Epoch 26 / 199\n",
            "--------------------\n",
            "train Loss: 0.85988 Accuracy: 0.65486\n",
            "val Loss: 0.85536 Accuracy: 0.65426\n",
            "Epoch 26: 37.541s\n",
            "\n",
            "Epoch 27 / 199\n",
            "--------------------\n",
            "train Loss: 0.85148 Accuracy: 0.64770\n",
            "val Loss: 0.85977 Accuracy: 0.64639\n",
            "Epoch 27: 38.052s\n",
            "\n",
            "Epoch 28 / 199\n",
            "--------------------\n",
            "train Loss: 0.86505 Accuracy: 0.65834\n",
            "val Loss: 0.82127 Accuracy: 0.66142\n",
            "Epoch 28: 38.014s\n",
            "\n",
            "Epoch 29 / 199\n",
            "--------------------\n",
            "train Loss: 0.86923 Accuracy: 0.65179\n",
            "val Loss: 0.88205 Accuracy: 0.65641\n",
            "Epoch 29: 38.427s\n",
            "\n",
            "Epoch 30 / 199\n",
            "--------------------\n",
            "train Loss: 0.85987 Accuracy: 0.65118\n",
            "val Loss: 0.83162 Accuracy: 0.65712\n",
            "Epoch 30: 39.048s\n",
            "\n",
            "Epoch 31 / 199\n",
            "--------------------\n",
            "train Loss: 0.85872 Accuracy: 0.65015\n",
            "val Loss: 0.90837 Accuracy: 0.65283\n",
            "Epoch 31: 37.809s\n",
            "\n",
            "Epoch 32 / 199\n",
            "--------------------\n",
            "train Loss: 0.86297 Accuracy: 0.65138\n",
            "val Loss: 0.82939 Accuracy: 0.66142\n",
            "Epoch 32: 37.899s\n",
            "\n",
            "Epoch 33 / 199\n",
            "--------------------\n",
            "train Loss: 0.85511 Accuracy: 0.64585\n",
            "val Loss: 0.82900 Accuracy: 0.65426\n",
            "Epoch 33: 38.061s\n",
            "\n",
            "Epoch 34 / 199\n",
            "--------------------\n",
            "train Loss: 0.84312 Accuracy: 0.66346\n",
            "val Loss: 0.85751 Accuracy: 0.66070\n",
            "Epoch 34: 38.0s\n",
            "\n",
            "Epoch 35 / 199\n",
            "--------------------\n",
            "train Loss: 0.86668 Accuracy: 0.64729\n",
            "val Loss: 0.84058 Accuracy: 0.65927\n",
            "Epoch 35: 37.711s\n",
            "\n",
            "Epoch 36 / 199\n",
            "--------------------\n",
            "train Loss: 0.83753 Accuracy: 0.65814\n",
            "val Loss: 0.85399 Accuracy: 0.65712\n",
            "Epoch 36: 38.281s\n",
            "\n",
            "Epoch 37 / 199\n",
            "--------------------\n",
            "train Loss: 0.84979 Accuracy: 0.65445\n",
            "val Loss: 0.84156 Accuracy: 0.64925\n",
            "Epoch 37: 38.073s\n",
            "\n",
            "Epoch 38 / 199\n",
            "--------------------\n",
            "train Loss: 0.87057 Accuracy: 0.65159\n",
            "val Loss: 0.83899 Accuracy: 0.65641\n",
            "Epoch 38: 37.94s\n",
            "\n",
            "Epoch 39 / 199\n",
            "--------------------\n",
            "train Loss: 0.84447 Accuracy: 0.66080\n",
            "val Loss: 0.85468 Accuracy: 0.64710\n",
            "Epoch 39: 37.564s\n",
            "\n",
            "Epoch 40 / 199\n",
            "--------------------\n",
            "train Loss: 0.86026 Accuracy: 0.64954\n",
            "val Loss: 0.81610 Accuracy: 0.66428\n",
            "Epoch 40: 39.066s\n",
            "\n",
            "Epoch 41 / 199\n",
            "--------------------\n",
            "train Loss: 0.86690 Accuracy: 0.64893\n",
            "val Loss: 0.83141 Accuracy: 0.65426\n",
            "Epoch 41: 37.708s\n",
            "\n",
            "Epoch 42 / 199\n",
            "--------------------\n",
            "train Loss: 0.86729 Accuracy: 0.65466\n",
            "val Loss: 0.82575 Accuracy: 0.66285\n",
            "Epoch 42: 38.198s\n",
            "\n",
            "Epoch 43 / 199\n",
            "--------------------\n",
            "train Loss: 0.83953 Accuracy: 0.66018\n",
            "val Loss: 0.82570 Accuracy: 0.66213\n",
            "Epoch 43: 38.0s\n",
            "\n",
            "Epoch 44 / 199\n",
            "--------------------\n",
            "train Loss: 0.84338 Accuracy: 0.65793\n",
            "val Loss: 0.85684 Accuracy: 0.65211\n",
            "Epoch 44: 38.643s\n",
            "\n",
            "Epoch 45 / 199\n",
            "--------------------\n",
            "train Loss: 0.83421 Accuracy: 0.65670\n",
            "val Loss: 0.85079 Accuracy: 0.64925\n",
            "Epoch 45: 38.006s\n",
            "\n",
            "Epoch 46 / 199\n",
            "--------------------\n",
            "train Loss: 0.85560 Accuracy: 0.65629\n",
            "val Loss: 0.82088 Accuracy: 0.65855\n",
            "Epoch 46: 37.876s\n",
            "\n",
            "Epoch 47 / 199\n",
            "--------------------\n",
            "train Loss: 0.84282 Accuracy: 0.66325\n",
            "val Loss: 0.85351 Accuracy: 0.64495\n",
            "Epoch 47: 38.078s\n",
            "\n",
            "Epoch 48 / 199\n",
            "--------------------\n",
            "train Loss: 0.86696 Accuracy: 0.65179\n",
            "val Loss: 0.83623 Accuracy: 0.64925\n",
            "Epoch 48: 37.822s\n",
            "\n",
            "Epoch 49 / 199\n",
            "--------------------\n",
            "train Loss: 0.84738 Accuracy: 0.66755\n",
            "val Loss: 0.84515 Accuracy: 0.64639\n",
            "Epoch 49: 38.069s\n",
            "\n",
            "Epoch 50 / 199\n",
            "--------------------\n",
            "train Loss: 0.84678 Accuracy: 0.65363\n",
            "val Loss: 0.86763 Accuracy: 0.64925\n",
            "Epoch 50: 38.864s\n",
            "\n",
            "Epoch 51 / 199\n",
            "--------------------\n"
          ]
        },
        {
          "output_type": "error",
          "ename": "KeyboardInterrupt",
          "evalue": "ignored",
          "traceback": [
            "\u001b[0;31m---------------------------------------------------------------------------\u001b[0m",
            "\u001b[0;31mKeyboardInterrupt\u001b[0m                         Traceback (most recent call last)",
            "\u001b[0;32m<ipython-input-14-72bc9498cb12>\u001b[0m in \u001b[0;36m<cell line: 1>\u001b[0;34m()\u001b[0m\n\u001b[0;32m----> 1\u001b[0;31m model, total_train_accuracy, total_train_loss, total_val_accuracy, total_val_loss = train(model, criterion, optimizer, \\\n\u001b[0m\u001b[1;32m      2\u001b[0m                                                                                           learning_rate_scheduler, num_epochs=200, early_stopping=True)\n",
            "\u001b[0;32m<ipython-input-11-42c4db9d9e0d>\u001b[0m in \u001b[0;36mtrain\u001b[0;34m(model, criterion, optimizer, scheduler, num_epochs, early_stopping)\u001b[0m\n\u001b[1;32m     35\u001b[0m                 \u001b[0moptimizer\u001b[0m\u001b[0;34m.\u001b[0m\u001b[0mzero_grad\u001b[0m\u001b[0;34m(\u001b[0m\u001b[0;34m)\u001b[0m\u001b[0;34m\u001b[0m\u001b[0;34m\u001b[0m\u001b[0m\n\u001b[1;32m     36\u001b[0m \u001b[0;34m\u001b[0m\u001b[0m\n\u001b[0;32m---> 37\u001b[0;31m                 \u001b[0moutputs\u001b[0m \u001b[0;34m=\u001b[0m \u001b[0mmodel\u001b[0m\u001b[0;34m(\u001b[0m\u001b[0minputs\u001b[0m\u001b[0;34m)\u001b[0m\u001b[0;34m\u001b[0m\u001b[0;34m\u001b[0m\u001b[0m\n\u001b[0m\u001b[1;32m     38\u001b[0m                 \u001b[0m_\u001b[0m\u001b[0;34m,\u001b[0m \u001b[0mpreds\u001b[0m \u001b[0;34m=\u001b[0m \u001b[0mtorch\u001b[0m\u001b[0;34m.\u001b[0m\u001b[0mmax\u001b[0m\u001b[0;34m(\u001b[0m\u001b[0moutputs\u001b[0m\u001b[0;34m,\u001b[0m \u001b[0;36m1\u001b[0m\u001b[0;34m)\u001b[0m\u001b[0;34m\u001b[0m\u001b[0;34m\u001b[0m\u001b[0m\n\u001b[1;32m     39\u001b[0m                 \u001b[0mloss\u001b[0m \u001b[0;34m=\u001b[0m \u001b[0mcriterion\u001b[0m\u001b[0;34m(\u001b[0m\u001b[0moutputs\u001b[0m\u001b[0;34m,\u001b[0m \u001b[0mlabels\u001b[0m\u001b[0;34m)\u001b[0m\u001b[0;34m\u001b[0m\u001b[0;34m\u001b[0m\u001b[0m\n",
            "\u001b[0;32m/usr/local/lib/python3.10/dist-packages/torch/nn/modules/module.py\u001b[0m in \u001b[0;36m_call_impl\u001b[0;34m(self, *args, **kwargs)\u001b[0m\n\u001b[1;32m   1499\u001b[0m                 \u001b[0;32mor\u001b[0m \u001b[0m_global_backward_pre_hooks\u001b[0m \u001b[0;32mor\u001b[0m \u001b[0m_global_backward_hooks\u001b[0m\u001b[0;34m\u001b[0m\u001b[0;34m\u001b[0m\u001b[0m\n\u001b[1;32m   1500\u001b[0m                 or _global_forward_hooks or _global_forward_pre_hooks):\n\u001b[0;32m-> 1501\u001b[0;31m             \u001b[0;32mreturn\u001b[0m \u001b[0mforward_call\u001b[0m\u001b[0;34m(\u001b[0m\u001b[0;34m*\u001b[0m\u001b[0margs\u001b[0m\u001b[0;34m,\u001b[0m \u001b[0;34m**\u001b[0m\u001b[0mkwargs\u001b[0m\u001b[0;34m)\u001b[0m\u001b[0;34m\u001b[0m\u001b[0;34m\u001b[0m\u001b[0m\n\u001b[0m\u001b[1;32m   1502\u001b[0m         \u001b[0;31m# Do not call functions when jit is used\u001b[0m\u001b[0;34m\u001b[0m\u001b[0;34m\u001b[0m\u001b[0m\n\u001b[1;32m   1503\u001b[0m         \u001b[0mfull_backward_hooks\u001b[0m\u001b[0;34m,\u001b[0m \u001b[0mnon_full_backward_hooks\u001b[0m \u001b[0;34m=\u001b[0m \u001b[0;34m[\u001b[0m\u001b[0;34m]\u001b[0m\u001b[0;34m,\u001b[0m \u001b[0;34m[\u001b[0m\u001b[0;34m]\u001b[0m\u001b[0;34m\u001b[0m\u001b[0;34m\u001b[0m\u001b[0m\n",
            "\u001b[0;32m/usr/local/lib/python3.10/dist-packages/torchvision/models/resnet.py\u001b[0m in \u001b[0;36mforward\u001b[0;34m(self, x)\u001b[0m\n\u001b[1;32m    283\u001b[0m \u001b[0;34m\u001b[0m\u001b[0m\n\u001b[1;32m    284\u001b[0m     \u001b[0;32mdef\u001b[0m \u001b[0mforward\u001b[0m\u001b[0;34m(\u001b[0m\u001b[0mself\u001b[0m\u001b[0;34m,\u001b[0m \u001b[0mx\u001b[0m\u001b[0;34m:\u001b[0m \u001b[0mTensor\u001b[0m\u001b[0;34m)\u001b[0m \u001b[0;34m->\u001b[0m \u001b[0mTensor\u001b[0m\u001b[0;34m:\u001b[0m\u001b[0;34m\u001b[0m\u001b[0;34m\u001b[0m\u001b[0m\n\u001b[0;32m--> 285\u001b[0;31m         \u001b[0;32mreturn\u001b[0m \u001b[0mself\u001b[0m\u001b[0;34m.\u001b[0m\u001b[0m_forward_impl\u001b[0m\u001b[0;34m(\u001b[0m\u001b[0mx\u001b[0m\u001b[0;34m)\u001b[0m\u001b[0;34m\u001b[0m\u001b[0;34m\u001b[0m\u001b[0m\n\u001b[0m\u001b[1;32m    286\u001b[0m \u001b[0;34m\u001b[0m\u001b[0m\n\u001b[1;32m    287\u001b[0m \u001b[0;34m\u001b[0m\u001b[0m\n",
            "\u001b[0;32m/usr/local/lib/python3.10/dist-packages/torchvision/models/resnet.py\u001b[0m in \u001b[0;36m_forward_impl\u001b[0;34m(self, x)\u001b[0m\n\u001b[1;32m    273\u001b[0m         \u001b[0mx\u001b[0m \u001b[0;34m=\u001b[0m \u001b[0mself\u001b[0m\u001b[0;34m.\u001b[0m\u001b[0mlayer1\u001b[0m\u001b[0;34m(\u001b[0m\u001b[0mx\u001b[0m\u001b[0;34m)\u001b[0m\u001b[0;34m\u001b[0m\u001b[0;34m\u001b[0m\u001b[0m\n\u001b[1;32m    274\u001b[0m         \u001b[0mx\u001b[0m \u001b[0;34m=\u001b[0m \u001b[0mself\u001b[0m\u001b[0;34m.\u001b[0m\u001b[0mlayer2\u001b[0m\u001b[0;34m(\u001b[0m\u001b[0mx\u001b[0m\u001b[0;34m)\u001b[0m\u001b[0;34m\u001b[0m\u001b[0;34m\u001b[0m\u001b[0m\n\u001b[0;32m--> 275\u001b[0;31m         \u001b[0mx\u001b[0m \u001b[0;34m=\u001b[0m \u001b[0mself\u001b[0m\u001b[0;34m.\u001b[0m\u001b[0mlayer3\u001b[0m\u001b[0;34m(\u001b[0m\u001b[0mx\u001b[0m\u001b[0;34m)\u001b[0m\u001b[0;34m\u001b[0m\u001b[0;34m\u001b[0m\u001b[0m\n\u001b[0m\u001b[1;32m    276\u001b[0m         \u001b[0mx\u001b[0m \u001b[0;34m=\u001b[0m \u001b[0mself\u001b[0m\u001b[0;34m.\u001b[0m\u001b[0mlayer4\u001b[0m\u001b[0;34m(\u001b[0m\u001b[0mx\u001b[0m\u001b[0;34m)\u001b[0m\u001b[0;34m\u001b[0m\u001b[0;34m\u001b[0m\u001b[0m\n\u001b[1;32m    277\u001b[0m \u001b[0;34m\u001b[0m\u001b[0m\n",
            "\u001b[0;32m/usr/local/lib/python3.10/dist-packages/torch/nn/modules/module.py\u001b[0m in \u001b[0;36m_call_impl\u001b[0;34m(self, *args, **kwargs)\u001b[0m\n\u001b[1;32m   1499\u001b[0m                 \u001b[0;32mor\u001b[0m \u001b[0m_global_backward_pre_hooks\u001b[0m \u001b[0;32mor\u001b[0m \u001b[0m_global_backward_hooks\u001b[0m\u001b[0;34m\u001b[0m\u001b[0;34m\u001b[0m\u001b[0m\n\u001b[1;32m   1500\u001b[0m                 or _global_forward_hooks or _global_forward_pre_hooks):\n\u001b[0;32m-> 1501\u001b[0;31m             \u001b[0;32mreturn\u001b[0m \u001b[0mforward_call\u001b[0m\u001b[0;34m(\u001b[0m\u001b[0;34m*\u001b[0m\u001b[0margs\u001b[0m\u001b[0;34m,\u001b[0m \u001b[0;34m**\u001b[0m\u001b[0mkwargs\u001b[0m\u001b[0;34m)\u001b[0m\u001b[0;34m\u001b[0m\u001b[0;34m\u001b[0m\u001b[0m\n\u001b[0m\u001b[1;32m   1502\u001b[0m         \u001b[0;31m# Do not call functions when jit is used\u001b[0m\u001b[0;34m\u001b[0m\u001b[0;34m\u001b[0m\u001b[0m\n\u001b[1;32m   1503\u001b[0m         \u001b[0mfull_backward_hooks\u001b[0m\u001b[0;34m,\u001b[0m \u001b[0mnon_full_backward_hooks\u001b[0m \u001b[0;34m=\u001b[0m \u001b[0;34m[\u001b[0m\u001b[0;34m]\u001b[0m\u001b[0;34m,\u001b[0m \u001b[0;34m[\u001b[0m\u001b[0;34m]\u001b[0m\u001b[0;34m\u001b[0m\u001b[0;34m\u001b[0m\u001b[0m\n",
            "\u001b[0;32m/usr/local/lib/python3.10/dist-packages/torch/nn/modules/container.py\u001b[0m in \u001b[0;36mforward\u001b[0;34m(self, input)\u001b[0m\n\u001b[1;32m    215\u001b[0m     \u001b[0;32mdef\u001b[0m \u001b[0mforward\u001b[0m\u001b[0;34m(\u001b[0m\u001b[0mself\u001b[0m\u001b[0;34m,\u001b[0m \u001b[0minput\u001b[0m\u001b[0;34m)\u001b[0m\u001b[0;34m:\u001b[0m\u001b[0;34m\u001b[0m\u001b[0;34m\u001b[0m\u001b[0m\n\u001b[1;32m    216\u001b[0m         \u001b[0;32mfor\u001b[0m \u001b[0mmodule\u001b[0m \u001b[0;32min\u001b[0m \u001b[0mself\u001b[0m\u001b[0;34m:\u001b[0m\u001b[0;34m\u001b[0m\u001b[0;34m\u001b[0m\u001b[0m\n\u001b[0;32m--> 217\u001b[0;31m             \u001b[0minput\u001b[0m \u001b[0;34m=\u001b[0m \u001b[0mmodule\u001b[0m\u001b[0;34m(\u001b[0m\u001b[0minput\u001b[0m\u001b[0;34m)\u001b[0m\u001b[0;34m\u001b[0m\u001b[0;34m\u001b[0m\u001b[0m\n\u001b[0m\u001b[1;32m    218\u001b[0m         \u001b[0;32mreturn\u001b[0m \u001b[0minput\u001b[0m\u001b[0;34m\u001b[0m\u001b[0;34m\u001b[0m\u001b[0m\n\u001b[1;32m    219\u001b[0m \u001b[0;34m\u001b[0m\u001b[0m\n",
            "\u001b[0;32m/usr/local/lib/python3.10/dist-packages/torch/nn/modules/module.py\u001b[0m in \u001b[0;36m_call_impl\u001b[0;34m(self, *args, **kwargs)\u001b[0m\n\u001b[1;32m   1499\u001b[0m                 \u001b[0;32mor\u001b[0m \u001b[0m_global_backward_pre_hooks\u001b[0m \u001b[0;32mor\u001b[0m \u001b[0m_global_backward_hooks\u001b[0m\u001b[0;34m\u001b[0m\u001b[0;34m\u001b[0m\u001b[0m\n\u001b[1;32m   1500\u001b[0m                 or _global_forward_hooks or _global_forward_pre_hooks):\n\u001b[0;32m-> 1501\u001b[0;31m             \u001b[0;32mreturn\u001b[0m \u001b[0mforward_call\u001b[0m\u001b[0;34m(\u001b[0m\u001b[0;34m*\u001b[0m\u001b[0margs\u001b[0m\u001b[0;34m,\u001b[0m \u001b[0;34m**\u001b[0m\u001b[0mkwargs\u001b[0m\u001b[0;34m)\u001b[0m\u001b[0;34m\u001b[0m\u001b[0;34m\u001b[0m\u001b[0m\n\u001b[0m\u001b[1;32m   1502\u001b[0m         \u001b[0;31m# Do not call functions when jit is used\u001b[0m\u001b[0;34m\u001b[0m\u001b[0;34m\u001b[0m\u001b[0m\n\u001b[1;32m   1503\u001b[0m         \u001b[0mfull_backward_hooks\u001b[0m\u001b[0;34m,\u001b[0m \u001b[0mnon_full_backward_hooks\u001b[0m \u001b[0;34m=\u001b[0m \u001b[0;34m[\u001b[0m\u001b[0;34m]\u001b[0m\u001b[0;34m,\u001b[0m \u001b[0;34m[\u001b[0m\u001b[0;34m]\u001b[0m\u001b[0;34m\u001b[0m\u001b[0;34m\u001b[0m\u001b[0m\n",
            "\u001b[0;32m/usr/local/lib/python3.10/dist-packages/torchvision/models/resnet.py\u001b[0m in \u001b[0;36mforward\u001b[0;34m(self, x)\u001b[0m\n\u001b[1;32m     90\u001b[0m         \u001b[0midentity\u001b[0m \u001b[0;34m=\u001b[0m \u001b[0mx\u001b[0m\u001b[0;34m\u001b[0m\u001b[0;34m\u001b[0m\u001b[0m\n\u001b[1;32m     91\u001b[0m \u001b[0;34m\u001b[0m\u001b[0m\n\u001b[0;32m---> 92\u001b[0;31m         \u001b[0mout\u001b[0m \u001b[0;34m=\u001b[0m \u001b[0mself\u001b[0m\u001b[0;34m.\u001b[0m\u001b[0mconv1\u001b[0m\u001b[0;34m(\u001b[0m\u001b[0mx\u001b[0m\u001b[0;34m)\u001b[0m\u001b[0;34m\u001b[0m\u001b[0;34m\u001b[0m\u001b[0m\n\u001b[0m\u001b[1;32m     93\u001b[0m         \u001b[0mout\u001b[0m \u001b[0;34m=\u001b[0m \u001b[0mself\u001b[0m\u001b[0;34m.\u001b[0m\u001b[0mbn1\u001b[0m\u001b[0;34m(\u001b[0m\u001b[0mout\u001b[0m\u001b[0;34m)\u001b[0m\u001b[0;34m\u001b[0m\u001b[0;34m\u001b[0m\u001b[0m\n\u001b[1;32m     94\u001b[0m         \u001b[0mout\u001b[0m \u001b[0;34m=\u001b[0m \u001b[0mself\u001b[0m\u001b[0;34m.\u001b[0m\u001b[0mrelu\u001b[0m\u001b[0;34m(\u001b[0m\u001b[0mout\u001b[0m\u001b[0;34m)\u001b[0m\u001b[0;34m\u001b[0m\u001b[0;34m\u001b[0m\u001b[0m\n",
            "\u001b[0;32m/usr/local/lib/python3.10/dist-packages/torch/nn/modules/module.py\u001b[0m in \u001b[0;36m_call_impl\u001b[0;34m(self, *args, **kwargs)\u001b[0m\n\u001b[1;32m   1499\u001b[0m                 \u001b[0;32mor\u001b[0m \u001b[0m_global_backward_pre_hooks\u001b[0m \u001b[0;32mor\u001b[0m \u001b[0m_global_backward_hooks\u001b[0m\u001b[0;34m\u001b[0m\u001b[0;34m\u001b[0m\u001b[0m\n\u001b[1;32m   1500\u001b[0m                 or _global_forward_hooks or _global_forward_pre_hooks):\n\u001b[0;32m-> 1501\u001b[0;31m             \u001b[0;32mreturn\u001b[0m \u001b[0mforward_call\u001b[0m\u001b[0;34m(\u001b[0m\u001b[0;34m*\u001b[0m\u001b[0margs\u001b[0m\u001b[0;34m,\u001b[0m \u001b[0;34m**\u001b[0m\u001b[0mkwargs\u001b[0m\u001b[0;34m)\u001b[0m\u001b[0;34m\u001b[0m\u001b[0;34m\u001b[0m\u001b[0m\n\u001b[0m\u001b[1;32m   1502\u001b[0m         \u001b[0;31m# Do not call functions when jit is used\u001b[0m\u001b[0;34m\u001b[0m\u001b[0;34m\u001b[0m\u001b[0m\n\u001b[1;32m   1503\u001b[0m         \u001b[0mfull_backward_hooks\u001b[0m\u001b[0;34m,\u001b[0m \u001b[0mnon_full_backward_hooks\u001b[0m \u001b[0;34m=\u001b[0m \u001b[0;34m[\u001b[0m\u001b[0;34m]\u001b[0m\u001b[0;34m,\u001b[0m \u001b[0;34m[\u001b[0m\u001b[0;34m]\u001b[0m\u001b[0;34m\u001b[0m\u001b[0;34m\u001b[0m\u001b[0m\n",
            "\u001b[0;32m/usr/local/lib/python3.10/dist-packages/torch/nn/modules/conv.py\u001b[0m in \u001b[0;36mforward\u001b[0;34m(self, input)\u001b[0m\n\u001b[1;32m    461\u001b[0m \u001b[0;34m\u001b[0m\u001b[0m\n\u001b[1;32m    462\u001b[0m     \u001b[0;32mdef\u001b[0m \u001b[0mforward\u001b[0m\u001b[0;34m(\u001b[0m\u001b[0mself\u001b[0m\u001b[0;34m,\u001b[0m \u001b[0minput\u001b[0m\u001b[0;34m:\u001b[0m \u001b[0mTensor\u001b[0m\u001b[0;34m)\u001b[0m \u001b[0;34m->\u001b[0m \u001b[0mTensor\u001b[0m\u001b[0;34m:\u001b[0m\u001b[0;34m\u001b[0m\u001b[0;34m\u001b[0m\u001b[0m\n\u001b[0;32m--> 463\u001b[0;31m         \u001b[0;32mreturn\u001b[0m \u001b[0mself\u001b[0m\u001b[0;34m.\u001b[0m\u001b[0m_conv_forward\u001b[0m\u001b[0;34m(\u001b[0m\u001b[0minput\u001b[0m\u001b[0;34m,\u001b[0m \u001b[0mself\u001b[0m\u001b[0;34m.\u001b[0m\u001b[0mweight\u001b[0m\u001b[0;34m,\u001b[0m \u001b[0mself\u001b[0m\u001b[0;34m.\u001b[0m\u001b[0mbias\u001b[0m\u001b[0;34m)\u001b[0m\u001b[0;34m\u001b[0m\u001b[0;34m\u001b[0m\u001b[0m\n\u001b[0m\u001b[1;32m    464\u001b[0m \u001b[0;34m\u001b[0m\u001b[0m\n\u001b[1;32m    465\u001b[0m \u001b[0;32mclass\u001b[0m \u001b[0mConv3d\u001b[0m\u001b[0;34m(\u001b[0m\u001b[0m_ConvNd\u001b[0m\u001b[0;34m)\u001b[0m\u001b[0;34m:\u001b[0m\u001b[0;34m\u001b[0m\u001b[0;34m\u001b[0m\u001b[0m\n",
            "\u001b[0;32m/usr/local/lib/python3.10/dist-packages/torch/nn/modules/conv.py\u001b[0m in \u001b[0;36m_conv_forward\u001b[0;34m(self, input, weight, bias)\u001b[0m\n\u001b[1;32m    457\u001b[0m                             \u001b[0mweight\u001b[0m\u001b[0;34m,\u001b[0m \u001b[0mbias\u001b[0m\u001b[0;34m,\u001b[0m \u001b[0mself\u001b[0m\u001b[0;34m.\u001b[0m\u001b[0mstride\u001b[0m\u001b[0;34m,\u001b[0m\u001b[0;34m\u001b[0m\u001b[0;34m\u001b[0m\u001b[0m\n\u001b[1;32m    458\u001b[0m                             _pair(0), self.dilation, self.groups)\n\u001b[0;32m--> 459\u001b[0;31m         return F.conv2d(input, weight, bias, self.stride,\n\u001b[0m\u001b[1;32m    460\u001b[0m                         self.padding, self.dilation, self.groups)\n\u001b[1;32m    461\u001b[0m \u001b[0;34m\u001b[0m\u001b[0m\n",
            "\u001b[0;31mKeyboardInterrupt\u001b[0m: "
          ]
        }
      ]
    },
    {
      "cell_type": "code",
      "source": [],
      "metadata": {
        "id": "PqzULewuK950"
      },
      "execution_count": null,
      "outputs": []
    }
  ]
}