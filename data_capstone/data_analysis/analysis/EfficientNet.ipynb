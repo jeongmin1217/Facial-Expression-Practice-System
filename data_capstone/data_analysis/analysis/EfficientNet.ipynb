{
  "cells": [
    {
      "cell_type": "code",
      "execution_count": null,
      "metadata": {
        "colab": {
          "base_uri": "https://localhost:8080/"
        },
        "id": "iZJwZGfyCe-t",
        "outputId": "17884df2-9807-4fbe-88d0-f4b6db55fa56"
      },
      "outputs": [
        {
          "output_type": "stream",
          "name": "stdout",
          "text": [
            "Drive already mounted at /content/drive; to attempt to forcibly remount, call drive.mount(\"/content/drive\", force_remount=True).\n"
          ]
        }
      ],
      "source": [
        "import numpy as np\n",
        "import tensorflow as tf\n",
        "import pandas as pd\n",
        "import matplotlib.pyplot as plt\n",
        "import os\n",
        "from google.colab import drive\n",
        "drive.mount('/content/drive')"
      ]
    },
    {
      "cell_type": "code",
      "execution_count": null,
      "metadata": {
        "colab": {
          "base_uri": "https://localhost:8080/"
        },
        "id": "PnvbnDPEDyBR",
        "outputId": "902f66b4-4685-461e-bf70-5680d4ccd861"
      },
      "outputs": [
        {
          "output_type": "stream",
          "name": "stdout",
          "text": [
            "['sad', 'neutral', 'happy']\n"
          ]
        }
      ],
      "source": [
        "dataset_path = os.listdir('/content/drive/MyDrive/three_final')\n",
        "print(dataset_path)"
      ]
    },
    {
      "cell_type": "code",
      "execution_count": null,
      "metadata": {
        "id": "jBcRfR7Z-pag"
      },
      "outputs": [],
      "source": [
        "import cv2\n",
        "import dlib\n",
        "from tensorflow.keras.preprocessing import image\n",
        "import math\n",
        "# from mlxtend.image import extract_face_landmarks\n",
        "# from tensorflow.keras.preprocessing.image import ImageDataGenerator\n",
        "\n",
        "# image = cv2.cvtColor(cv2.imread('/content/drive/MyDrive/three/sad/01da087c8d1c47e1a4af2af82aea34a7.jpg'), cv2.COLOR_BGR2RGB)\n",
        "# plt.imshow(image)"
      ]
    },
    {
      "cell_type": "code",
      "execution_count": null,
      "metadata": {
        "id": "kFwmMfZ_4ACe"
      },
      "outputs": [],
      "source": [
        "# !wget   http://dlib.net/files/shape_predictor_68_face_landmarks.dat.bz2"
      ]
    },
    {
      "cell_type": "code",
      "execution_count": null,
      "metadata": {
        "id": "5XlIpdnb4AGj"
      },
      "outputs": [],
      "source": [
        "# !bunzip2 /content/shape_predictor_68_face_landmarks.dat.bz2\n",
        "\n",
        "# datFile =  \"/content/shape_predictor_68_face_landmarks.dat\""
      ]
    },
    {
      "cell_type": "code",
      "execution_count": null,
      "metadata": {
        "id": "Y19duo6SlFqF"
      },
      "outputs": [],
      "source": [
        "# # 얼굴 감지기 초기화\n",
        "# detector = dlib.get_frontal_face_detector()\n",
        "\n",
        "# # 얼굴 랜드마크 예측기 초기화\n",
        "# predictor_path = datFile\n",
        "# predictor = dlib.shape_predictor(predictor_path)\n",
        "\n",
        "# # 입력 폴더와 출력 폴더 경로 설정\n",
        "# input_folder = '/content/drive/MyDrive/three_origin/happy'\n",
        "# output_folder = '/content/drive/MyDrive/three_origin/happy_new'\n",
        "\n",
        "# # 출력 폴더가 없으면 생성\n",
        "# if not os.path.exists(output_folder):\n",
        "#     os.makedirs(output_folder)\n",
        "\n",
        "# # 입력 폴더의 이미지 파일 목록 가져오기\n",
        "# image_files = [f for f in os.listdir(input_folder) if f.endswith('.jpg') or f.endswith('.png')]\n",
        "\n",
        "# # 이미지 파일별로 얼굴 crop하여 저장\n",
        "# for image_file in image_files:\n",
        "#     # 이미지 파일 경로\n",
        "#     image_path = os.path.join(input_folder, image_file)\n",
        "\n",
        "#     # 이미지 불러오기\n",
        "#     image = cv2.imread(image_path)\n",
        "\n",
        "#     # 이미지의 얼굴 감지\n",
        "#     faces = detector(image)\n",
        "\n",
        "#     # 얼굴이 감지되지 않은 경우 스킵\n",
        "#     if len(faces) == 0:\n",
        "#         continue\n",
        "\n",
        "#     # 첫 번째 얼굴의 랜드마크 예측\n",
        "#     landmarks = predictor(image, faces[0])\n",
        "\n",
        "#     # 얼굴 영역 좌표 추출\n",
        "#     x1 = landmarks.part(0).x\n",
        "#     y1 = landmarks.part(0).y\n",
        "#     x2 = landmarks.part(16).x\n",
        "#     y2 = landmarks.part(8).y\n",
        "\n",
        "#     # 얼굴 crop\n",
        "#     cropped_face = image[y1:y2, x1:x2]\n",
        "\n",
        "#     # 출력 파일 경로\n",
        "#     output_path = os.path.join(output_folder, image_file)\n",
        "\n",
        "#     # crop된 얼굴 저장\n",
        "#     cv2.imwrite(output_path, cropped_face)"
      ]
    },
    {
      "cell_type": "code",
      "execution_count": null,
      "metadata": {
        "id": "Q04dwlfU4Em-"
      },
      "outputs": [],
      "source": [
        "from tensorflow.keras.applications import EfficientNetB0\n",
        "from tensorflow.keras.preprocessing import image\n",
        "from tensorflow.keras import layers, models\n",
        "from tensorflow.keras.callbacks import EarlyStopping\n",
        "import tensorflow as tf"
      ]
    },
    {
      "cell_type": "code",
      "execution_count": null,
      "metadata": {
        "id": "_ssvxg_36jZo",
        "colab": {
          "base_uri": "https://localhost:8080/"
        },
        "outputId": "069f1f7a-b3ff-4a58-d907-fa7d7553b980"
      },
      "outputs": [
        {
          "output_type": "stream",
          "name": "stdout",
          "text": [
            "['sad_1592.jpg', 'sad_1593.jpg', 'sad_1594.jpg', 'sad_1595.jpg', 'sad_1596.jpg', 'sad_1597.jpg', 'sad_1598.jpg', 'sad_1599.jpg', 'sad_1600.jpg', 'sad_1602.jpg', 'sad_1604.jpg', 'sad_1605.jpg', 'sad_1606.jpg', 'sad_1607.jpg', 'sad_1612.jpg', 'sad_1613.jpg', 'sad_1614.jpg', 'sad_1615.jpg', 'sad_1616.jpg', 'sad_1618.jpg', 'sad_1621.jpg', 'sad_1622.jpg', 'sad_1623.jpg', 'sad_1626.jpg', 'sad_1627.jpg', 'sad_1629.jpg', 'sad_1630.jpg', 'sad_1631.jpg', 'sad_1632.jpg', 'sad_1634.jpg', 'sad_1635.jpg', 'sad_1636.jpg', 'sad_1637.jpg', 'sad_1638.jpg', 'sad_1639.jpg', 'sad_1640.jpg', 'sad_1641.jpg', 'sad_1642.jpg', 'sad_1643.jpg', 'sad_1644.jpg', 'sad_1646.jpg', 'sad_1648.jpg', 'sad_1649.jpg', 'sad_1650.jpg', 'sad_1651.jpg', 'sad_1652.jpg', 'sad_1653.jpg', 'sad_1654.jpg', 'sad_1655.jpg', 'sad_1659.jpg', 'sad_1660.jpg', 'sad_1663.jpg', 'sad_1664.jpg', 'sad_1665.jpg', 'sad_1667.jpg', 'sad_1668.jpg', 'sad_1669.jpg', 'sad_1670.jpg', 'sad_1671.jpg', 'sad_1672.jpg', 'sad_1673.jpg', 'sad_1674.jpg', 'sad_1675.jpg', 'sad_1676.jpg', 'sad_1677.jpg', 'sad_1678.jpg', 'sad_1679.jpg', 'sad_1680.jpg', 'sad_1681.jpg', 'sad_1682.jpg', 'sad_1684.jpg', 'sad_1685.jpg', 'sad_1688.jpg', 'sad_1689.jpg', 'sad_1690.jpg', 'sad_1691.jpg', 'sad_1692.jpg', 'sad_1693.jpg', 'sad_1694.jpg', 'sad_1696.jpg', 'sad_1697.jpg', 'sad_1698.jpg', 'sad_1700.jpg', 'sad_1701.jpg', 'sad_1702.jpg', 'sad_1703.jpg', 'sad_1705.jpg', 'sad_1707.jpg', 'sad_1708.jpg', 'sad_1709.jpg', 'sad_1710.jpg', 'sad_1711.jpg', 'sad_1712.jpg', 'sad_1713.jpg', 'sad_1714.jpg', 'sad_1715.jpg', 'sad_1716.jpg', 'sad_1717.jpg', 'sad_1718.jpg', 'sad_1719.jpg', 'sad_1720.jpg', 'sad_1721.jpg', 'sad_1723.jpg', 'sad_1724.jpg', 'sad_1725.jpg', 'sad_1726.jpg', 'sad_1728.jpg', 'sad_1729.jpg', 'sad_1730.jpg', 'sad_1731.jpg', 'sad_1733.jpg', 'sad_1735.jpg', 'sad_1736.jpg', 'sad_1737.jpg', 'sad_1738.jpg', 'sad_1739.jpg', 'sad_1740.jpg', 'sad_1741.jpg', 'sad_1742.jpg', 'sad_1743.jpg', 'sad_1744.jpg', 'sad_1745.jpg', 'sad_1746.jpg', 'sad_1747.jpg', 'sad_1748.jpg', 'sad_1749.jpg', 'sad_1750.jpg', 'sad_1751.jpg', 'sad_1752.jpg', 'sad_1753.jpg', 'sad_1754.jpg', 'sad_1756.jpg', 'sad_1757.jpg', 'sad_1758.jpg', 'sad_1759.jpg', 'sad_1760.jpg', 'sad_1762.jpg', 'sad_1763.jpg', 'sad_1764.jpg', 'sad_1765.jpg', 'sad_1766.jpg', 'sad_1767.jpg', 'sad_1768.jpg', 'sad_1769.jpg', 'sad_1771.jpg', 'sad_1772.jpg', 'sad_1773.jpg', 'sad_1774.jpg', 'sad_1775.jpg', 'sad_1776.jpg', 'sad_1777.jpg', 'sad_1781.jpg', 'sad_1782.jpg', 'sad_1783.jpg', 'sad_1784.jpg', 'sad_1785.jpg', 'sad_1786.jpg', 'sad_1787.jpg', 'sad_1788.jpg', 'sad_1789.jpg', 'sad_1790.jpg', 'sad_1791.jpg', 'sad_1792.jpg', 'sad_1793.jpg', 'sad_1794.jpg', 'sad_1795.jpg', 'sad_1796.jpg', 'sad_1798.jpg', 'sad_1799.jpg', 'sad_1800.jpg', 'sad_1801.jpg', 'sad_1802.jpg', 'sad_1803.jpg', 'sad_1804.jpg', 'sad_1805.jpg', 'sad_1806.jpg', 'sad_1807.jpg', 'sad_1808.jpg', 'sad_1809.jpg', 'sad_1810.jpg', 'sad_1811.jpg', 'sad_1812.jpg', 'sad_1814.jpg', 'sad_1815.jpg', 'sad_1816.jpg', 'sad_1817.jpg', 'sad_1819.jpg', 'sad_1821.jpg', 'sad_1822.jpg', 'sad_1823.jpg', 'sad_1825.jpg', 'sad_1827.jpg', 'sad_1828.jpg', 'sad_1829.jpg', 'sad_1832.jpg', 'sad_1833.jpg', 'sad_1835.jpg', 'sad_1836.jpg', 'sad_1838.jpg', 'sad_1839.jpg', 'sad_1840.jpg', 'sad_1841.jpg', 'sad_1842.jpg', 'sad_1843.jpg', 'sad_1844.jpg', 'sad_1845.jpg', 'sad_1846.jpg', 'sad_1847.jpg', 'sad_1848.jpg', 'sad_1849.jpg', 'sad_1850.jpg', 'sad_1851.jpg', 'sad_1852.jpg', 'sad_1853.jpg', 'sad_1854.jpg', 'sad_1855.jpg', 'sad_1856.jpg', 'sad_1857.jpg', 'sad_1858.jpg', 'sad_1859.jpg', 'sad_1860.jpg', 'sad_1861.jpg', 'sad_1864.jpg', 'sad_1865.jpg', 'sad_1866.jpg', 'sad_1867.jpg', 'sad_1868.jpg', 'sad_1869.jpg', 'sad_1871.jpg', 'sad_1872.jpg', 'sad_1873.jpg', 'sad_1874.jpg', 'sad_1875.jpg', 'sad_1876.jpg', 'sad_1877.jpg', 'sad_1878.jpg', 'sad_1879.jpg', 'sad_1882.jpg', 'sad_1883.jpg', 'sad_1884.jpg', 'sad_1885.jpg', 'sad_1886.jpg', 'sad_1888.jpg', 'sad_1889.jpg', 'sad_1890.jpg', 'sad_1891.jpg', 'sad_1892.jpg', 'sad_1893.jpg', 'sad_1894.jpg', 'sad_1895.jpg', 'sad_1896.jpg', 'sad_1897.jpg', 'sad_1899.jpg', 'sad_1900.jpg', 'sad_1901.jpg', 'sad_1902.jpg', 'sad_1903.jpg', 'sad_1904.jpg', 'sad_1907.jpg', 'sad_1909.jpg', 'sad_1910.jpg', 'sad_1913.jpg', 'sad_1914.jpg', 'sad_1916.jpg', 'sad_1917.jpg', 'sad_1918.jpg', 'sad_1919.jpg', 'sad_1920.jpg', 'sad_1921.jpg', 'sad_1922.jpg', 'sad_1923.jpg', 'sad_1925.jpg', 'sad_1927.jpg', 'sad_1929.jpg', 'sad_1930.jpg', 'sad_1932.jpg', 'sad_1934.jpg', 'sad_1936.jpg', 'sad_1937.jpg', 'sad_1938.jpg', 'sad_1939.jpg', 'sad_1940.jpg', 'sad_1941.jpg', 'sad_1942.jpg', 'sad_1943.jpg', 'sad_1944.jpg', 'sad_1945.jpg', 'sad_1947.jpg', 'sad_1948.jpg', 'sad_1949.jpg', 'sad_1950.jpg', 'sad_1951.jpg', 'sad_1952.jpg', 'sad_1953.jpg', 'sad_1954.jpg', 'sad_1955.jpg', 'sad_1956.jpg', 'sad_1957.jpg', 'sad_1959.jpg', 'sad_1960.jpg', 'sad_1961.jpg', 'sad_1962.jpg', 'sad_1963.jpg', 'sad_1964.jpg', 'sad_1966.jpg', 'sad_1967.jpg', 'sad_1968.jpg', 'sad_1969.jpg', 'sad_1971.jpg', 'sad_1973.jpg', 'sad_1976.jpg', 'sad_1977.jpg', 'sad_1978.jpg', 'sad_1979.jpg', 'sad_1981.jpg', 'sad_1982.jpg', 'sad_1983.jpg', 'sad_1984.jpg', 'sad_1986.jpg', 'sad_1987.jpg', 'sad_1988.jpg', 'sad_1989.jpg', 'sad_1990.jpg', 'sad_1991.jpg', 'sad_1993.jpg', 'sad_1994.jpg', 'sad_1995.jpg', 'sad_1998.jpg', 'sad_2001.jpg', 'sad_2002.jpg', 'sad_2004.jpg', 'sad_2005.jpg', 'sad_2008.jpg', 'sad_2011.jpg', 'sad_2012.jpg', 'sad_2013.jpg', 'sad_2015.jpg', 'sad_2017.jpg', 'sad_2018.jpg', 'sad_2019.jpg', 'sad_2020.jpg', 'sad_2021.jpg', 'sad_2025.jpg', 'sad_2026.jpg', 'sad_2027.jpg', 'sad_2028.jpg', 'sad_2030.jpg', 'sad_2031.jpg', 'sad_2033.jpg', 'sad_2035.jpg', 'sad_2037.jpg', 'sad_2038.jpg', 'sad_2041.jpg', 'sad_2042.jpg', 'sad_2043.jpg', 'sad_2045.jpg', 'sad_2046.jpg', 'sad_2047.jpg', 'sad_2048.jpg', 'sad_2049.jpg', 'sad_2050.jpg', 'sad_2051.jpg', 'sad_2052.jpg', 'sad_2054.jpg', 'sad_2055.jpg', 'sad_2057.jpg', 'sad_2059.jpg', 'sad_2060.jpg', 'sad_2061.jpg', 'sad_2062.jpg', 'sad_2063.jpg', 'sad_2064.jpg', 'sad_2065.jpg', 'sad_2066.jpg', 'sad_2068.jpg', 'sad_2069.jpg', 'sad_2070.jpg', 'sad_2072.jpg', 'sad_2073.jpg', 'sad_2074.jpg', 'sad_2075.jpg', 'sad_2077.jpg', 'sad_2079.jpg', 'sad_2080.jpg', 'sad_2081.jpg', 'sad_2082.jpg', 'sad_2086.jpg', 'sad_2089.jpg', 'sad_2090.jpg', 'sad_2091.jpg', 'sad_2092.jpg', 'sad_2093.jpg', 'sad_2094.jpg', 'sad_2095.jpg', 'sad_2096.jpg', 'sad_2097.jpg', 'sad_2099.jpg', 'sad_2100.jpg', 'sad_2101.jpg', 'sad_2102.jpg', 'sad_2105.jpg', 'sad_2106.jpg', 'sad_2107.jpg', 'sad_2109.jpg', 'sad_2110.jpg', 'sad_2112.jpg', 'sad_2113.jpg', 'sad_2114.jpg', 'sad_2115.jpg', 'sad_2116.jpg', 'sad_2121.jpg', 'sad_2122.jpg', 'sad_2123.jpg', 'sad_2124.jpg', 'sad_2127.jpg', 'sad_2128.jpg', 'sad_2129.jpg', 'sad_2131.jpg', 'sad_2132.jpg', 'sad_2133.jpg', 'sad_2134.jpg', 'sad_2135.jpg', 'sad_2136.jpg', 'sad_2137.jpg', 'sad_2140.jpg', 'sad_2143.jpg', 'sad_2145.jpg', 'sad_2146.jpg', 'sad_2147.jpg', 'sad_2148.jpg', 'sad_2150.jpg', 'sad_2151.jpg', 'sad_2153.jpg', 'sad_2154.jpg', 'sad_2155.jpg', 'sad_2156.jpg', 'sad_2157.jpg', 'sad_2159.jpg', 'sad_2160.jpg', 'sad_2161.jpg', 'sad_2162.jpg', 'sad_2163.jpg', 'sad_2164.jpg', 'sad_2165.jpg', 'sad_2166.jpg', 'sad_2167.jpg', 'sad_2168.jpg', 'sad_2169.jpg', 'sad_2170.jpg', 'sad_2171.jpg', 'sad_2172.jpg', 'sad_2173.jpg', 'sad_2174.jpg', 'sad_2175.jpg', 'sad_2177.jpg', 'sad_2179.jpg', 'sad_2182.jpg', 'sad_2183.jpg', 'sad_2184.jpg', 'sad_2185.jpg', 'sad_2186.jpg', 'sad_2187.jpg', 'sad_2188.jpg', 'sad_2189.jpg', 'sad_2190.jpg', 'sad_2191.jpg', 'sad_2192.jpg', 'sad_2195.jpg', 'sad_2196.jpg', 'sad_2197.jpg', 'sad_2199.jpg', 'sad_2200.jpg', 'sad_2201.jpg', 'sad_2202.jpg', 'sad_2204.jpg', 'sad_2205.jpg', 'sad_2206.jpg', 'sad_2207.jpg', 'sad_2208.jpg', 'sad_2209.jpg', 'sad_2210.jpg', 'sad_2211.jpg', 'sad_2212.jpg', 'sad_2213.jpg', 'sad_2214.jpg', 'sad_2215.jpg', 'sad_2217.jpg', 'sad_2218.jpg', 'sad_2219.jpg', 'sad_2220.jpg', 'sad_2221.jpg', 'sad_2223.jpg', 'sad_2224.jpg', 'sad_2225.jpg', 'sad_2226.jpg', 'sad_2228.jpg', 'sad_2229.jpg', 'sad_2231.jpg', 'sad_2233.jpg', 'sad_2234.jpg', 'sad_2235.jpg', 'sad_2236.jpg', 'sad_2239.jpg', 'sad_2240.jpg', 'sad_2241.jpg', 'sad_2244.jpg', 'sad_2246.jpg', 'sad_2247.jpg', 'sad_2249.jpg', 'sad_2251.jpg', 'sad_2252.jpg', 'sad_2254.jpg', 'sad_2255.jpg', 'sad_2256.jpg', 'sad_2257.jpg', 'sad_2258.jpg', 'sad_2259.jpg', 'sad_2261.jpg', 'sad_2263.jpg', 'sad_2264.jpg', 'sad_2265.jpg', 'sad_2266.jpg', 'sad_2267.jpg', 'sad_2268.jpg', 'sad_2269.jpg', 'sad_2270.jpg', 'sad_2272.jpg', 'sad_2273.jpg', 'sad_2274.jpg', 'sad_2275.jpg', 'sad_2276.jpg', 'sad_2278.jpg', 'sad_2279.jpg', 'sad_2280.jpg', 'sad_2282.jpg', 'sad_2283.jpg', 'sad_2284.jpg', 'sad_2285.jpg', 'sad_2286.jpg', 'sad_2287.jpg', 'sad_2288.jpg', 'sad_2289.jpg', 'sad_2290.jpg', 'sad_2291.jpg', 'sad_2295.jpg', 'sad_2296.jpg', 'sad_2298.jpg', 'sad_2300.jpg', 'sad_2301.jpg', 'sad_2302.jpg', 'sad_2304.jpg', 'sad_2305.jpg', 'sad_2306.jpg', 'sad_2307.jpg', 'sad_2308.jpg', 'sad_2311.jpg', 'sad_2312.jpg', 'sad_2313.jpg', 'sad_2317.jpg', 'sad_2318.jpg', 'sad_2319.jpg', 'sad_2320.jpg', 'sad_2321.jpg', 'sad_2322.jpg', 'sad_2323.jpg', 'sad_2324.jpg', 'sad_2325.jpg', 'sad_2326.jpg', 'sad_2327.jpg', 'sad_2328.jpg', 'sad_2330.jpg', 'sad_2331.jpg', 'sad_2336.jpg', 'sad_2339.jpg', 'sad_2340.jpg', 'sad_2341.jpg', 'sad_2342.jpg', 'sad_2346.jpg', 'sad_2347.jpg', 'sad_2349.jpg', 'sad_2350.jpg', 'sad_2352.jpg', 'sad_2353.jpg', 'sad_2355.jpg', 'sad_2357.jpg', 'sad_2358.jpg', 'sad_2359.jpg', 'sad_2361.jpg', 'sad_2362.jpg', 'sad_2363.jpg', 'sad_2364.jpg', 'sad_2365.jpg', 'sad_2366.jpg', 'sad_2367.jpg', 'sad_2371.jpg', 'sad_2373.jpg', 'sad_2375.jpg', 'sad_2377.jpg', 'sad_2378.jpg', 'sad_2379.jpg', 'sad_2380.jpg', 'sad_2381.jpg', 'sad_2383.jpg', 'sad_2384.jpg', 'sad_2385.jpg', 'sad_2387.jpg', 'sad_2388.jpg', 'sad_2389.jpg', 'sad_2390.jpg', 'sad_2391.jpg', 'sad_2393.jpg', 'sad_2397.jpg', 'sad_2398.jpg', 'sad_2399.jpg', 'sad_2400.jpg', 'sad_2402.jpg', 'sad_2403.jpg', 'sad_2404.jpg', 'sad_2406.jpg', 'sad_2407.jpg', 'sad_2408.jpg', 'sad_2411.jpg', 'sad_2415.jpg', 'sad_2416.jpg', 'sad_2417.jpg', 'sad_2418.jpg', 'sad_2419.jpg', 'sad_2420.jpg', 'sad_2421.jpg', 'sad_2423.jpg', 'sad_2427.jpg', 'sad_2428.jpg', 'sad_2429.jpg', 'sad_2430.jpg', 'sad_2434.jpg', 'sad_2435.jpg', 'sad_2436.jpg', 'sad_2437.jpg', 'sad_2439.jpg', 'sad_2441.jpg', 'sad_2445.jpg', 'sad_2447.jpg', 'sad_2448.jpg', 'sad_2450.jpg', 'sad_2451.jpg', 'sad_2452.jpg', 'sad_2453.jpg', 'sad_2454.jpg', 'sad_2455.jpg', 'sad_2456.jpg', 'sad_2460.jpg', 'sad_2461.jpg', 'sad_2462.jpg', 'sad_2463.jpg', 'sad_2464.jpg', 'sad_2465.jpg', 'sad_2467.jpg', 'sad_2468.jpg', 'sad_2469.jpg', 'sad_2470.jpg', 'sad_2471.jpg', 'sad_2474.jpg', 'sad_2475.jpg', 'sad_2477.jpg', 'sad_2478.jpg', 'sad_2479.jpg', 'sad_2480.jpg', 'sad_2481.jpg', 'sad_2482.jpg', 'sad_2484.jpg', 'sad_2485.jpg', 'sad_2486.jpg', 'sad_2487.jpg', 'sad_2488.jpg', 'sad_2489.jpg', 'sad_2493.jpg', 'sad_2494.jpg', 'sad_2495.jpg', 'sad_2497.jpg', 'sad_2498.jpg', 'sad_2501.jpg', 'sad_2503.jpg', 'sad_2504.jpg', 'sad_2505.jpg', 'sad_2506.jpg', 'sad_2507.jpg', 'sad_2508.jpg', 'sad_2509.jpg', 'sad_2510.jpg', 'sad_2511.jpg', 'sad_2512.jpg', 'sad_2513.jpg', 'sad_2514.jpg', 'sad_2516.jpg', 'sad_2518.jpg', 'sad_2519.jpg', 'sad_2520.jpg', 'sad_2522.jpg', 'sad_2523.jpg', 'sad_2524.jpg', 'sad_2526.jpg', 'sad_2527.jpg', 'sad_2529.jpg', 'sad_2530.jpg', 'sad_2531.jpg', 'sad_2532.jpg', 'sad_2533.jpg', 'sad_2534.jpg', 'sad_2535.jpg', 'sad_2536.jpg', 'sad_2538.jpg', 'sad_2539.jpg', 'sad_2540.jpg', 'sad_2541.jpg', 'sad_2543.jpg', 'sad_2544.jpg', 'sad_2545.jpg', 'sad_2546.jpg', 'sad_2547.jpg', 'sad_2548.jpg', 'sad_2549.jpg', 'sad_2550.jpg', 'sad_2551.jpg', 'sad_2552.jpg', 'sad_2553.jpg', 'sad_2554.jpg', 'sad_2555.jpg', 'sad_2558.jpg', 'sad_2559.jpg', 'sad_2560.jpg', 'sad_2562.jpg', 'sad_2563.jpg', 'sad_2564.jpg', 'sad_2565.jpg', 'sad_2566.jpg', 'sad_2567.jpg', 'sad_2568.jpg', 'sad_2569.jpg', 'sad_2570.jpg', 'sad_2571.jpg', 'sad_2572.jpg', 'sad_2573.jpg', 'sad_2574.jpg', 'sad_2576.jpg', 'sad_2578.jpg', 'sad_2580.jpg', 'sad_2581.jpg', 'sad_2582.jpg', 'sad_2583.jpg', 'sad_2584.jpg', 'sad_2587.jpg', 'sad_2588.jpg', 'sad_2592.jpg', 'sad_2593.jpg', 'sad_2595.jpg', 'sad_2596.jpg', 'sad_2598.jpg', 'sad_2599.jpg', 'sad_2600.jpg', 'sad_2602.jpg', 'sad_2603.jpg', 'sad_2604.jpg', 'sad_2606.jpg', 'sad_2607.jpg', 'sad_2608.jpg', 'sad_2610.jpg', 'sad_2612.jpg', 'sad_2613.jpg', 'sad_2615.jpg', 'sad_2617.jpg', 'sad_2618.jpg', 'sad_2619.jpg', 'sad_2621.jpg', 'sad_2622.jpg', 'sad_2624.jpg', 'sad_2627.jpg', 'sad_2628.jpg', 'sad_2629.jpg', 'sad_2630.jpg', 'sad_2631.jpg', 'sad_2632.jpg', 'sad_2633.jpg', 'sad_2634.jpg', 'sad_2635.jpg', 'sad_2636.jpg', 'sad_2637.jpg', 'sad_2640.jpg', 'sad_2641.jpg', 'sad_2642.jpg', 'sad_2643.jpg', 'sad_2645.jpg', 'sad_2646.jpg', 'sad_2647.jpg', 'sad_2648.jpg', 'sad_2649.jpg', 'sad_2650.jpg', 'sad_2651.jpg', 'sad_2652.jpg', 'sad_2653.jpg', 'sad_2654.jpg', 'sad_2655.jpg', 'sad_2656.jpg', 'sad_2657.jpg', 'sad_2659.jpg', 'sad_2661.jpg', 'sad_2662.jpg', 'sad_2663.jpg', 'sad_2665.jpg', 'sad_2666.jpg', 'sad_2667.jpg', 'sad_2668.jpg', 'sad_2670.jpg', 'sad_2671.jpg', 'sad_2672.jpg', 'sad_2673.jpg', 'sad_2674.jpg', 'sad_2675.jpg', 'sad_2676.jpg', 'sad_2677.jpg', 'sad_2678.jpg', 'sad_2679.jpg', 'sad_2680.jpg', 'sad_2681.jpg', 'sad_2684.jpg', 'sad_2686.jpg', 'sad_2687.jpg', 'sad_2688.jpg', 'sad_2689.jpg', 'sad_2692.jpg', 'sad_2693.jpg', 'sad_2694.jpg', 'sad_2695.jpg', 'sad_2698.jpg', 'sad_2699.jpg', 'sad_2701.jpg', 'sad_2704.jpg', 'sad_2706.jpg', 'sad_2708.jpg', 'sad_2709.jpg', 'sad_2710.jpg', 'sad_2711.jpg', 'sad_2712.jpg', 'sad_2713.jpg', 'sad_2714.jpg', 'sad_2715.jpg', 'sad_2716.jpg', 'sad_2717.jpg', 'sad_2718.jpg', 'sad_2719.jpg', 'sad_2720.jpg', 'sad_2721.jpg', 'sad_2722.jpg', 'sad_2723.jpg', 'sad_2724.jpg', 'sad_2726.jpg', 'sad_2727.jpg', 'sad_2728.jpg', 'sad_2730.jpg', 'sad_2731.jpg', 'sad_2732.jpg', 'sad_2733.jpg', 'sad_2735.jpg', 'sad_2736.jpg', 'sad_2737.jpg', 'sad_2738.jpg', 'sad_2739.jpg', 'sad_2740.jpg', 'sad_2741.jpg', 'sad_2748.jpg', 'sad_2750.jpg', 'sad_2752.jpg', 'sad_2753.jpg', 'sad_2754.jpg', 'sad_2756.jpg', 'sad_2758.jpg', 'sad_2759.jpg', 'sad_2762.jpg', 'sad_2765.jpg', 'sad_2766.jpg', 'sad_2767.jpg', 'sad_2768.jpg', 'sad_2769.jpg', 'sad_2770.jpg', 'sad_2771.jpg', 'sad_2774.jpg', 'sad_2776.jpg', 'sad_2777.jpg', 'sad_2778.jpg', 'sad_2779.jpg', 'sad_2780.jpg', 'sad_2782.jpg', 'sad_2783.jpg', 'sad_2785.jpg', 'sad_2786.jpg', 'sad_2787.jpg', 'sad_2788.jpg', 'sad_2792.jpg', 'sad_2793.jpg', 'sad_2796.jpg', 'sad_2797.jpg', 'sad_2800.jpg', 'sad_2801.jpg', 'sad_2803.jpg', 'sad_2804.jpg', 'sad_2805.jpg', 'sad_2806.jpg', 'sad_2807.jpg', 'sad_2809.jpg', 'sad_2810.jpg', 'sad_2812.jpg', 'sad_2813.jpg', 'sad_2814.jpg', 'sad_2815.jpg', 'sad_2817.jpg', 'sad_2818.jpg', 'sad_2819.jpg', 'sad_2820.jpg', 'sad_2822.jpg', 'sad_2823.jpg', 'sad_2824.jpg', 'sad_2825.jpg', 'sad_2826.jpg', 'sad_2827.jpg', 'sad_2828.jpg', 'sad_2832.jpg', 'sad_2833.jpg', 'sad_2834.jpg', 'sad_2835.jpg', 'sad_2836.jpg', 'sad_2837.jpg', 'sad_2840.jpg', 'sad_2841.jpg', 'sad_2842.jpg', 'sad_2843.jpg', 'sad_2844.jpg', 'sad_2845.jpg', 'sad_2846.jpg', 'sad_2847.jpg', 'sad_2848.jpg', 'sad_2850.jpg', 'sad_2851.jpg', 'sad_2852.jpg', 'sad_2854.jpg', 'sad_2855.jpg', 'sad_2856.jpg', 'sad_2859.jpg', 'sad_2860.jpg', 'sad_2861.jpg', 'sad_2862.jpg', 'sad_2863.jpg', 'sad_2864.jpg', 'sad_2865.jpg', 'sad_2866.jpg', 'sad_2870.jpg', 'sad_2871.jpg', 'sad_2872.jpg', 'sad_2873.jpg', 'sad_2874.jpg', 'sad_2876.jpg', 'sad_2877.jpg', 'sad_2880.jpg', 'sad_2881.jpg', 'sad_2883.jpg', 'sad_2886.jpg', 'sad_2887.jpg', 'sad_2889.jpg', 'sad_2890.jpg', 'sad_2891.jpg', 'sad_2892.jpg', 'sad_2893.jpg', 'sad_2894.jpg', 'sad_2895.jpg', 'sad_2896.jpg', 'sad_2897.jpg', 'sad_2899.jpg', 'sad_2900.jpg', 'sad_2902.jpg', 'sad_2904.jpg', 'sad_2905.jpg', 'sad_2907.jpg', 'sad_2908.jpg', 'sad_2909.jpg', 'sad_2911.jpg', 'sad_2912.jpg', 'sad_2913.jpg', 'sad_2914.jpg', 'sad_2915.jpg', 'sad_2919.jpg', 'sad_2920.jpg', 'sad_2921.jpg', 'sad_2922.jpg', 'sad_2923.jpg', 'sad_2924.jpg', 'sad_2926.jpg', 'sad_2928.jpg', 'sad_2930.jpg', 'sad_2931.jpg', 'sad_2932.jpg', 'sad_2933.jpg', 'sad_2934.jpg', 'sad_308.jpg', 'sad_309.jpg', 'sad_310.jpg', 'sad_311.jpg', 'sad_312.jpg', 'sad_313.jpg', 'sad_314.jpg', 'sad_315.jpg', 'sad_318.jpg', 'sad_320.jpg', 'sad_321.jpg', 'sad_322.jpg', 'sad_323.jpg', 'sad_327.jpg', 'sad_328.jpg', 'sad_329.jpg', 'sad_330.jpg', 'sad_331.jpg', 'sad_333.jpg', 'sad_334.jpg', 'sad_335.jpg', 'sad_336.jpg', 'sad_337.jpg', 'sad_338.jpg', 'sad_339.jpg', 'sad_341.jpg', 'sad_343.jpg', 'sad_345.jpg', 'sad_346.jpg', 'sad_347.jpg', 'sad_348.jpg', 'sad_349.jpg', 'sad_350.jpg', 'sad_351.jpg', 'sad_353.jpg', 'sad_354.jpg', 'sad_355.jpg', 'sad_356.jpg', 'sad_357.jpg', 'sad_358.jpg', 'sad_359.jpg', 'sad_361.jpg', 'sad_362.jpg', 'sad_363.jpg', 'sad_364.jpg', 'sad_365.jpg', 'sad_366.jpg', 'sad_367.jpg', 'sad_368.jpg', 'sad_369.jpg', 'sad_370.jpg', 'sad_372.jpg', 'sad_373.jpg', 'sad_375.jpg', 'sad_376.jpg', 'sad_377.jpg', 'sad_378.jpg', 'sad_379.jpg', 'sad_380.jpg', 'sad_381.jpg', 'sad_382.jpg', 'sad_383.jpg', 'sad_384.jpg', 'sad_385.jpg', 'sad_386.jpg', 'sad_387.jpg', 'sad_388.jpg', 'sad_390.jpg', 'sad_392.jpg', 'sad_394.jpg', 'sad_395.jpg', 'sad_396.jpg', 'sad_397.jpg', 'sad_398.jpg', 'sad_399.jpg', 'sad_400.jpg', 'sad_402.jpg', 'sad_403.jpg', 'sad_404.jpg', 'sad_405.jpg', 'sad_406.jpg', 'sad_408.jpg', 'sad_411.jpg', 'sad_413.jpg', 'sad_414.jpg', 'sad_418.jpg', 'sad_419.jpg', 'sad_420.jpg', 'sad_421.jpg', 'sad_422.jpg', 'sad_423.jpg', 'sad_424.jpg', 'sad_425.jpg', 'sad_426.jpg', 'sad_427.jpg', 'sad_428.jpg', 'sad_429.jpg', 'sad_431.jpg', 'sad_432.jpg', 'sad_434.jpg', 'sad_435.jpg', 'sad_436.jpg', 'sad_437.jpg', 'sad_438.jpg', 'sad_439.jpg', 'sad_440.jpg', 'sad_442.jpg', 'sad_443.jpg', 'sad_444.jpg', 'sad_445.jpg', 'sad_448.jpg', 'sad_449.jpg', 'sad_450.jpg', 'sad_451.jpg', 'sad_452.jpg', 'sad_453.jpg', 'sad_454.jpg', 'sad_456.jpg', 'sad_457.jpg', 'sad_458.jpg', 'sad_459.jpg', 'sad_460.jpg', 'sad_461.jpg', 'sad_462.jpg', 'sad_463.jpg', 'sad_465.jpg', 'sad_467.jpg', 'sad_468.jpg', 'sad_469.jpg', 'sad_470.jpg', 'sad_472.jpg', 'sad_474.jpg', 'sad_475.jpg', 'sad_476.jpg', 'sad_480.jpg', 'sad_481.jpg', 'sad_482.jpg', 'sad_483.jpg', 'sad_484.jpg', 'sad_485.jpg', 'sad_486.jpg', 'sad_488.jpg', 'sad_489.jpg', 'sad_490.jpg', 'sad_491.jpg', 'sad_493.jpg', 'sad_494.jpg', 'sad_495.jpg', 'sad_497.jpg', 'sad_499.jpg', 'sad_500.jpg', 'sad_501.jpg', 'sad_502.jpg', 'sad_503.jpg', 'sad_504.jpg', 'sad_506.jpg', 'sad_507.jpg', 'sad_508.jpg', 'sad_510.jpg', 'sad_512.jpg', 'sad_513.jpg', 'sad_515.jpg', 'sad_516.jpg', 'sad_517.jpg', 'sad_518.jpg', 'sad_519.jpg', 'sad_520.jpg', 'sad_521.jpg', 'sad_522.jpg', 'sad_523.jpg', 'sad_525.jpg', 'sad_526.jpg', 'sad_527.jpg', 'sad_528.jpg', 'sad_529.jpg', 'sad_530.jpg', 'sad_531.jpg', 'sad_532.jpg', 'sad_533.jpg', 'sad_534.jpg', 'sad_537.jpg', 'sad_538.jpg', 'sad_540.jpg', 'sad_542.jpg', 'sad_543.jpg', 'sad_544.jpg', 'sad_545.jpg', 'sad_546.jpg', 'sad_547.jpg', 'sad_548.jpg', 'sad_549.jpg', 'sad_550.jpg', 'sad_551.jpg', 'sad_552.jpg', 'sad_553.jpg', 'sad_554.jpg', 'sad_556.jpg', 'sad_557.jpg', 'sad_558.jpg', 'sad_559.jpg', 'sad_560.jpg', 'sad_561.jpg', 'sad_562.jpg', 'sad_563.jpg', 'sad_566.jpg', 'sad_567.jpg', 'sad_568.jpg', 'sad_570.jpg', 'sad_571.jpg', 'sad_572.jpg', 'sad_573.jpg', 'sad_575.jpg', 'sad_576.jpg', 'sad_578.jpg', 'sad_579.jpg', 'sad_581.jpg', 'sad_582.jpg', 'sad_583.jpg', 'sad_584.jpg', 'sad_585.jpg', 'sad_586.jpg', 'sad_587.jpg', 'sad_588.jpg', 'sad_589.jpg', 'sad_590.jpg', 'sad_591.jpg', 'sad_593.jpg', 'sad_594.jpg', 'sad_595.jpg', 'sad_596.jpg', 'sad_597.jpg', 'sad_598.jpg', 'sad_601.jpg', 'sad_602.jpg', 'sad_603.jpg', 'sad_605.jpg', 'sad_606.jpg', 'sad_607.jpg', 'sad_608.jpg', 'sad_609.jpg', 'sad_610.jpg', 'sad_611.jpg', 'sad_612.jpg', 'sad_613.jpg', 'sad_614.jpg', 'sad_615.jpg', 'sad_616.jpg', 'sad_617.jpg', 'sad_618.jpg', 'sad_620.jpg', 'sad_621.jpg', 'sad_622.jpg', 'sad_624.jpg', 'sad_625.jpg', 'sad_627.jpg', 'sad_628.jpg', 'sad_629.jpg', 'sad_630.jpg', 'sad_631.jpg', 'sad_632.jpg', 'sad_633.jpg', 'sad_634.jpg', 'sad_635.jpg', 'sad_636.jpg', 'sad_637.jpg', 'sad_638.jpg', 'sad_640.jpg', 'sad_642.jpg', 'sad_644.jpg', 'sad_645.jpg', 'sad_646.jpg', 'sad_647.jpg', 'sad_648.jpg', 'sad_649.jpg', 'sad_650.jpg', 'sad_651.jpg', 'sad_652.jpg', 'sad_653.jpg', 'sad_654.jpg', 'sad_655.jpg', 'sad_656.jpg', 'sad_658.jpg', 'sad_659.jpg', 'sad_661.jpg', 'sad_662.jpg', 'sad_663.jpg', 'sad_664.jpg', 'sad_665.jpg', 'sad_666.jpg', 'sad_667.jpg', 'sad_668.jpg', 'sad_669.jpg', 'sad_670.jpg', 'sad_671.jpg', 'sad_672.jpg', 'sad_673.jpg', 'sad_674.jpg', 'sad_678.jpg', 'sad_679.jpg', 'sad_680.jpg', 'sad_681.jpg', 'sad_682.jpg', 'sad_683.jpg', 'sad_685.jpg', 'sad_687.jpg', 'sad_688.jpg', 'sad_689.jpg', 'sad_690.jpg', 'sad_691.jpg', 'sad_692.jpg', 'sad_693.jpg', 'sad_694.jpg', 'sad_695.jpg', 'sad_696.jpg', 'sad_697.jpg', 'sad_699.jpg', 'sad_700.jpg', 'sad_701.jpg', 'sad_702.jpg', 'sad_703.jpg', 'sad_704.jpg', 'sad_706.jpg', 'sad_708.jpg', 'sad_709.jpg', 'sad_710.jpg', 'sad_711.jpg', 'sad_712.jpg', 'sad_713.jpg', 'sad_714.jpg', 'sad_715.jpg', 'sad_716.jpg', 'sad_717.jpg', 'sad_718.jpg', 'sad_721.jpg', 'sad_722.jpg', 'sad_723.jpg', 'sad_724.jpg', 'sad_725.jpg', 'sad_726.jpg', 'sad_727.jpg', 'sad_728.jpg', 'sad_729.jpg', 'sad_730.jpg', 'sad_731.jpg', 'sad_732.jpg', 'sad_733.jpg', 'sad_734.jpg', 'sad_735.jpg', 'sad_736.jpg', 'sad_737.jpg', 'sad_738.jpg', 'sad_739.jpg', 'sad_740.jpg', 'sad_741.jpg', 'sad_742.jpg', 'sad_743.jpg', 'sad_744.jpg', 'sad_745.jpg', 'sad_746.jpg', 'sad_747.jpg', 'sad_748.jpg', 'sad_749.jpg', 'sad_750.jpg', 'sad_752.jpg', 'sad_753.jpg', 'sad_754.jpg', 'sad_755.jpg', 'sad_756.jpg', 'sad_757.jpg', 'sad_758.jpg', 'sad_759.jpg', 'sad_760.jpg', 'sad_764.jpg', 'sad_765.jpg', 'sad_766.jpg', 'sad_768.jpg', 'sad_769.jpg', 'sad_770.jpg', 'sad_772.jpg', 'sad_773.jpg', 'sad_776.jpg', 'sad_777.jpg', 'sad_778.jpg', 'sad_779.jpg', 'sad_780.jpg', 'sad_781.jpg', 'sad_782.jpg', 'sad_783.jpg', 'sad_784.jpg', 'sad_785.jpg', 'sad_786.jpg', 'sad_787.jpg', 'sad_788.jpg', 'sad_789.jpg', 'sad_790.jpg', 'sad_791.jpg', 'sad_792.jpg', 'sad_794.jpg', 'sad_795.jpg', 'sad_796.jpg', 'sad_797.jpg', 'sad_799.jpg', 'sad_801.jpg', 'sad_802.jpg', 'sad_803.jpg', 'sad_805.jpg', 'sad_806.jpg', 'sad_807.jpg', 'sad_808.jpg', 'sad_812.jpg', 'sad_814.jpg', 'sad_815.jpg', 'sad_816.jpg', 'sad_817.jpg', 'sad_818.jpg', 'sad_820.jpg', 'sad_822.jpg', 'sad_823.jpg', 'sad_824.jpg', 'sad_825.jpg', 'sad_826.jpg', 'sad_829.jpg', 'sad_831.jpg', 'sad_832.jpg', 'sad_833.jpg', 'sad_834.jpg', 'sad_835.jpg', 'sad_837.jpg', 'sad_838.jpg', 'sad_839.jpg', 'sad_842.jpg', 'sad_843.jpg', 'sad_844.jpg', 'sad_845.jpg', 'sad_846.jpg', 'sad_848.jpg', 'sad_849.jpg', 'sad_852.jpg', 'sad_853.jpg', 'sad_854.jpg', 'sad_855.jpg', 'sad_856.jpg', 'sad_857.jpg', 'sad_858.jpg', 'sad_859.jpg', 'sad_860.jpg', 'sad_861.jpg', 'sad_862.jpg', 'sad_863.jpg', 'sad_864.jpg', 'sad_865.jpg', 'sad_866.jpg', 'sad_867.jpg', 'sad_868.jpg', 'sad_869.jpg', 'sad_870.jpg', 'sad_872.jpg', 'sad_873.jpg', 'sad_874.jpg', 'sad_875.jpg', 'sad_876.jpg', 'sad_877.jpg', 'sad_880.jpg', 'sad_881.jpg', 'sad_882.jpg', 'sad_883.jpg', 'sad_884.jpg', 'sad_885.jpg', 'sad_886.jpg', 'sad_887.jpg', 'sad_888.jpg', 'sad_889.jpg', 'sad_890.jpg', 'sad_891.jpg', 'sad_892.jpg', 'sad_893.jpg', 'sad_894.jpg', 'sad_895.jpg', 'sad_896.jpg', 'sad_897.jpg', 'sad_898.jpg', 'sad_899.jpg', 'sad_900.jpg', 'sad_901.jpg', 'sad_902.jpg', 'sad_903.jpg', 'sad_904.jpg', 'sad_905.jpg', 'sad_906.jpg', 'sad_907.jpg', 'sad_908.jpg', 'sad_909.jpg', 'sad_910.jpg', 'sad_911.jpg', 'sad_912.jpg', 'sad_913.jpg', 'sad_915.jpg', 'sad_916.jpg', 'sad_917.jpg', 'sad_918.jpg', 'sad_919.jpg', 'sad_920.jpg', 'sad_921.jpg', 'sad_922.jpg', 'sad_923.jpg', 'sad_924.jpg', 'sad_925.jpg', 'sad_926.jpg', 'sad_927.jpg', 'sad_928.jpg', 'sad_929.jpg', 'sad_930.jpg', 'sad_939.jpg', 'sad_940.jpg', 'sad_941.jpg', 'sad_942.jpg', 'sad_943.jpg', 'sad_944.jpg', 'sad_950.jpg', 'sad_951.jpg', 'sad_952.jpg', 'sad_953.jpg', 'sad_954.jpg', 'sad_955.jpg', 'sad_956.jpg', 'sad_957.jpg', 'sad_958.jpg', 'sad_959.jpg', 'sad_960.jpg', 'sad_961.jpg', 'sad_963.jpg', 'sad_964.jpg', 'sad_965.jpg', 'sad_966.jpg', 'sad_967.jpg', 'sad_968.jpg', 'sad_969.jpg', 'sad_970.jpg', 'sad_971.jpg', 'sad_972.jpg', 'sad_973.jpg', 'sad_974.jpg', 'sad_975.jpg', 'sad_976.jpg', 'sad_977.jpg', 'sad_978.jpg', 'sad_982.jpg', 'sad_985.jpg', 'sad_986.jpg', 'sad_987.jpg', 'sad_988.jpg', 'sad_989.jpg', 'sad_990.jpg', 'sad_991.jpg', 'sad_992.jpg', 'sad_993.jpg', 'sad_996.jpg', 'sad_998.jpg', 'sad_999.jpg', 'sad_1000.jpg', 'sad_1001.jpg', 'sad_1002.jpg', 'sad_1003.jpg', 'sad_1005.jpg', 'sad_1006.jpg', 'sad_1007.jpg', 'sad_1008.jpg', 'sad_1010.jpg', 'sad_1011.jpg', 'sad_1013.jpg', 'sad_1016.jpg', 'sad_1018.jpg', 'sad_1019.jpg', 'sad_1020.jpg', 'sad_1021.jpg', 'sad_1022.jpg', 'sad_1023.jpg', 'sad_1024.jpg', 'sad_1025.jpg', 'sad_1026.jpg', 'sad_1027.jpg', 'sad_1028.jpg', 'sad_1029.jpg', 'sad_1031.jpg', 'sad_1032.jpg', 'sad_1033.jpg', 'sad_1034.jpg', 'sad_1035.jpg', 'sad_1036.jpg', 'sad_1037.jpg', 'sad_1038.jpg', 'sad_1039.jpg', 'sad_1040.jpg', 'sad_1041.jpg', 'sad_1042.jpg', 'sad_1044.jpg', 'sad_1045.jpg', 'sad_1046.jpg', 'sad_1047.jpg', 'sad_1048.jpg', 'sad_1049.jpg', 'sad_1050.jpg', 'sad_1051.jpg', 'sad_1052.jpg', 'sad_1053.jpg', 'sad_1054.jpg', 'sad_1055.jpg', 'sad_1056.jpg', 'sad_1057.jpg', 'sad_1058.jpg', 'sad_1059.jpg', 'sad_1060.jpg', 'sad_1061.jpg', 'sad_1062.jpg', 'sad_1063.jpg', 'sad_1064.jpg', 'sad_1065.jpg', 'sad_1066.jpg', 'sad_1067.jpg', 'sad_1068.jpg', 'sad_1069.jpg', 'sad_1070.jpg', 'sad_1071.jpg', 'sad_1072.jpg', 'sad_1073.jpg', 'sad_1074.jpg', 'sad_1076.jpg', 'sad_1078.jpg', 'sad_1079.jpg', 'sad_1080.jpg', 'sad_1081.jpg', 'sad_1082.jpg', 'sad_1083.jpg', 'sad_1084.jpg', 'sad_1085.jpg', 'sad_1086.jpg', 'sad_1087.jpg', 'sad_1090.jpg', 'sad_1091.jpg', 'sad_1093.jpg', 'sad_1094.jpg', 'sad_1095.jpg', 'sad_1096.jpg', 'sad_1097.jpg', 'sad_1099.jpg', 'sad_1100.jpg', 'sad_1102.jpg', 'sad_1104.jpg', 'sad_1105.jpg', 'sad_1107.jpg', 'sad_1109.jpg', 'sad_1110.jpg', 'sad_1111.jpg', 'sad_1112.jpg', 'sad_1113.jpg', 'sad_1114.jpg', 'sad_1115.jpg', 'sad_1118.jpg', 'sad_1119.jpg', 'sad_1121.jpg', 'sad_1123.jpg', 'sad_1124.jpg', 'sad_1125.jpg', 'sad_1126.jpg', 'sad_1129.jpg', 'sad_1131.jpg', 'sad_1132.jpg', 'sad_1133.jpg', 'sad_1134.jpg', 'sad_1136.jpg', 'sad_1137.jpg', 'sad_1139.jpg', 'sad_1140.jpg', 'sad_1141.jpg', 'sad_1142.jpg', 'sad_1143.jpg', 'sad_1144.jpg', 'sad_1145.jpg', 'sad_1147.jpg', 'sad_1148.jpg', 'sad_1149.jpg', 'sad_1150.jpg', 'sad_1153.jpg', 'sad_1155.jpg', 'sad_1156.jpg', 'sad_1158.jpg', 'sad_1160.jpg', 'sad_1163.jpg', 'sad_1164.jpg', 'sad_1165.jpg', 'sad_1166.jpg', 'sad_1167.jpg', 'sad_1170.jpg', 'sad_1171.jpg', 'sad_1172.jpg', 'sad_1173.jpg', 'sad_1174.jpg', 'sad_1175.jpg', 'sad_1177.jpg', 'sad_1178.jpg', 'sad_1180.jpg', 'sad_1181.jpg', 'sad_1183.jpg', 'sad_1186.jpg', 'sad_1188.jpg', 'sad_1190.jpg', 'sad_1191.jpg', 'sad_1192.jpg', 'sad_1193.jpg', 'sad_1194.jpg', 'sad_1196.jpg', 'sad_1198.jpg', 'sad_1199.jpg', 'sad_1200.jpg', 'sad_1201.jpg', 'sad_1204.jpg', 'sad_1205.jpg', 'sad_1206.jpg', 'sad_1207.jpg', 'sad_1210.jpg', 'sad_1211.jpg', 'sad_1212.jpg', 'sad_1213.jpg', 'sad_1215.jpg', 'sad_1216.jpg', 'sad_1217.jpg', 'sad_1219.jpg', 'sad_1220.jpg', 'sad_1221.jpg', 'sad_1222.jpg', 'sad_1223.jpg', 'sad_1224.jpg', 'sad_1225.jpg', 'sad_1226.jpg', 'sad_1228.jpg', 'sad_1230.jpg', 'sad_1231.jpg', 'sad_1234.jpg', 'sad_1235.jpg', 'sad_1236.jpg', 'sad_1237.jpg', 'sad_1240.jpg', 'sad_1241.jpg', 'sad_1242.jpg', 'sad_1243.jpg', 'sad_1245.jpg', 'sad_1246.jpg', 'sad_1247.jpg', 'sad_1248.jpg', 'sad_1249.jpg', 'sad_1250.jpg', 'sad_1252.jpg', 'sad_1254.jpg', 'sad_1256.jpg', 'sad_1258.jpg', 'sad_1259.jpg', 'sad_1260.jpg', 'sad_1261.jpg', 'sad_1264.jpg', 'sad_1265.jpg', 'sad_1266.jpg', 'sad_1267.jpg', 'sad_1268.jpg', 'sad_1269.jpg', 'sad_1272.jpg', 'sad_1273.jpg', 'sad_1274.jpg', 'sad_1276.jpg', 'sad_1277.jpg', 'sad_1278.jpg', 'sad_1280.jpg', 'sad_1281.jpg', 'sad_1282.jpg', 'sad_1283.jpg', 'sad_1285.jpg', 'sad_1286.jpg', 'sad_1287.jpg', 'sad_1288.jpg', 'sad_1289.jpg', 'sad_1290.jpg', 'sad_1292.jpg', 'sad_1294.jpg', 'sad_1295.jpg', 'sad_1296.jpg', 'sad_1297.jpg', 'sad_1298.jpg', 'sad_1299.jpg', 'sad_1300.jpg', 'sad_1301.jpg', 'sad_1302.jpg', 'sad_1303.jpg', 'sad_1304.jpg', 'sad_1305.jpg', 'sad_1306.jpg', 'sad_1307.jpg', 'sad_1313.jpg', 'sad_1314.jpg', 'sad_1315.jpg', 'sad_1316.jpg', 'sad_1317.jpg', 'sad_1319.jpg', 'sad_1321.jpg', 'sad_1322.jpg', 'sad_1323.jpg', 'sad_1324.jpg', 'sad_1325.jpg', 'sad_1326.jpg', 'sad_1328.jpg', 'sad_1329.jpg', 'sad_1330.jpg', 'sad_1331.jpg', 'sad_1332.jpg', 'sad_1333.jpg', 'sad_1334.jpg', 'sad_1335.jpg', 'sad_1336.jpg', 'sad_1337.jpg', 'sad_1338.jpg', 'sad_1340.jpg', 'sad_1341.jpg', 'sad_1342.jpg', 'sad_1343.jpg', 'sad_1344.jpg', 'sad_1345.jpg', 'sad_1346.jpg', 'sad_1347.jpg', 'sad_1348.jpg', 'sad_1350.jpg', 'sad_1352.jpg', 'sad_1354.jpg', 'sad_1355.jpg', 'sad_1356.jpg', 'sad_1357.jpg', 'sad_1359.jpg', 'sad_1362.jpg', 'sad_1364.jpg', 'sad_1366.jpg', 'sad_1367.jpg', 'sad_1368.jpg', 'sad_1369.jpg', 'sad_1371.jpg', 'sad_1372.jpg', 'sad_1373.jpg', 'sad_1374.jpg', 'sad_1375.jpg', 'sad_1377.jpg', 'sad_1378.jpg', 'sad_1379.jpg', 'sad_1380.jpg', 'sad_1382.jpg', 'sad_1384.jpg', 'sad_1385.jpg', 'sad_1386.jpg', 'sad_1389.jpg', 'sad_1390.jpg', 'sad_1391.jpg', 'sad_1392.jpg', 'sad_1393.jpg', 'sad_1394.jpg', 'sad_1395.jpg', 'sad_1396.jpg', 'sad_1397.jpg', 'sad_1398.jpg', 'sad_1401.jpg', 'sad_1403.jpg', 'sad_1405.jpg', 'sad_1407.jpg', 'sad_1409.jpg', 'sad_1410.jpg', 'sad_1412.jpg', 'sad_1413.jpg', 'sad_1414.jpg', 'sad_1415.jpg', 'sad_1416.jpg', 'sad_1418.jpg', 'sad_1419.jpg', 'sad_1420.jpg', 'sad_1423.jpg', 'sad_1425.jpg', 'sad_1426.jpg', 'sad_1427.jpg', 'sad_1428.jpg', 'sad_1429.jpg', 'sad_1430.jpg', 'sad_1433.jpg', 'sad_1434.jpg', 'sad_1435.jpg', 'sad_1438.jpg', 'sad_1440.jpg', 'sad_1441.jpg', 'sad_1442.jpg', 'sad_1444.jpg', 'sad_1448.jpg', 'sad_1449.jpg', 'sad_1450.jpg', 'sad_1451.jpg', 'sad_1452.jpg', 'sad_1453.jpg', 'sad_1454.jpg', 'sad_1455.jpg', 'sad_1456.jpg', 'sad_1457.jpg', 'sad_1461.jpg', 'sad_1462.jpg', 'sad_1463.jpg', 'sad_1464.jpg', 'sad_1465.jpg', 'sad_1468.jpg', 'sad_1469.jpg', 'sad_1471.jpg', 'sad_1472.jpg', 'sad_1473.jpg', 'sad_1474.jpg', 'sad_1475.jpg', 'sad_1476.jpg', 'sad_1477.jpg', 'sad_1478.jpg', 'sad_1479.jpg', 'sad_1480.jpg', 'sad_1481.jpg', 'sad_1482.jpg', 'sad_1483.jpg', 'sad_1484.jpg', 'sad_1485.jpg', 'sad_1486.jpg', 'sad_1488.jpg', 'sad_1491.jpg', 'sad_1493.jpg', 'sad_1494.jpg', 'sad_1495.jpg', 'sad_1496.jpg', 'sad_1497.jpg', 'sad_1498.jpg', 'sad_1499.jpg', 'sad_1501.jpg', 'sad_1502.jpg', 'sad_1503.jpg', 'sad_1504.jpg', 'sad_1507.jpg', 'sad_1508.jpg', 'sad_1509.jpg', 'sad_1510.jpg', 'sad_1511.jpg', 'sad_1515.jpg', 'sad_1516.jpg', 'sad_1519.jpg', 'sad_1521.jpg', 'sad_1522.jpg', 'sad_1523.jpg', 'sad_1524.jpg', 'sad_1526.jpg', 'sad_1527.jpg', 'sad_1529.jpg', 'sad_1530.jpg', 'sad_1532.jpg', 'sad_1533.jpg', 'sad_1534.jpg', 'sad_1535.jpg', 'sad_1536.jpg', 'sad_1537.jpg', 'sad_1538.jpg', 'sad_1539.jpg', 'sad_1540.jpg', 'sad_1541.jpg', 'sad_1542.jpg', 'sad_1543.jpg', 'sad_1544.jpg', 'sad_1547.jpg', 'sad_1548.jpg', 'sad_1549.jpg', 'sad_1550.jpg', 'sad_1551.jpg', 'sad_1552.jpg', 'sad_1553.jpg', 'sad_1555.jpg', 'sad_1556.jpg', 'sad_1557.jpg', 'sad_1558.jpg', 'sad_1559.jpg', 'sad_1561.jpg', 'sad_1563.jpg', 'sad_1564.jpg', 'sad_1567.jpg', 'sad_1568.jpg', 'sad_1569.jpg', 'sad_1570.jpg', 'sad_1571.jpg', 'sad_1572.jpg', 'sad_1573.jpg', 'sad_1575.jpg', 'sad_1576.jpg', 'sad_1577.jpg', 'sad_1578.jpg', 'sad_1579.jpg', 'sad_1580.jpg', 'sad_1581.jpg', 'sad_1584.jpg', 'sad_1585.jpg', 'sad_1587.jpg', 'sad_1590.jpg', 'sad_1.jpg', 'sad_2.jpg', 'sad_3.jpg', 'sad_5.jpg', 'sad_6.jpg', 'sad_8.jpg', 'sad_9.jpg', 'sad_10.jpg', 'sad_11.jpg', 'sad_12.jpg', 'sad_14.jpg', 'sad_15.jpg', 'sad_17.jpg', 'sad_18.jpg', 'sad_20.jpg', 'sad_21.jpg', 'sad_22.jpg', 'sad_23.jpg', 'sad_24.jpg', 'sad_25.jpg', 'sad_26.jpg', 'sad_27.jpg', 'sad_29.jpg', 'sad_30.jpg', 'sad_32.jpg', 'sad_33.jpg', 'sad_34.jpg', 'sad_36.jpg', 'sad_37.jpg', 'sad_38.jpg', 'sad_39.jpg', 'sad_40.jpg', 'sad_41.jpg', 'sad_42.jpg', 'sad_43.jpg', 'sad_44.jpg', 'sad_45.jpg', 'sad_46.jpg', 'sad_47.jpg', 'sad_48.jpg', 'sad_49.jpg', 'sad_50.jpg', 'sad_51.jpg', 'sad_52.jpg', 'sad_53.jpg', 'sad_54.jpg', 'sad_55.jpg', 'sad_56.jpg', 'sad_57.jpg', 'sad_59.jpg', 'sad_63.jpg', 'sad_65.jpg', 'sad_66.jpg', 'sad_67.jpg', 'sad_68.jpg', 'sad_69.jpg', 'sad_70.jpg', 'sad_72.jpg', 'sad_73.jpg', 'sad_74.jpg', 'sad_77.jpg', 'sad_78.jpg', 'sad_79.jpg', 'sad_80.jpg', 'sad_81.jpg', 'sad_82.jpg', 'sad_88.jpg', 'sad_89.jpg', 'sad_90.jpg', 'sad_91.jpg', 'sad_92.jpg', 'sad_93.jpg', 'sad_94.jpg', 'sad_96.jpg', 'sad_97.jpg', 'sad_98.jpg', 'sad_99.jpg', 'sad_100.jpg', 'sad_101.jpg', 'sad_103.jpg', 'sad_104.jpg', 'sad_105.jpg', 'sad_106.jpg', 'sad_107.jpg', 'sad_108.jpg', 'sad_109.jpg', 'sad_110.jpg', 'sad_111.jpg', 'sad_112.jpg', 'sad_113.jpg', 'sad_114.jpg', 'sad_115.jpg', 'sad_116.jpg', 'sad_117.jpg', 'sad_118.jpg', 'sad_120.jpg', 'sad_121.jpg', 'sad_122.jpg', 'sad_123.jpg', 'sad_124.jpg', 'sad_126.jpg', 'sad_128.jpg', 'sad_129.jpg', 'sad_131.jpg', 'sad_132.jpg', 'sad_133.jpg', 'sad_135.jpg', 'sad_136.jpg', 'sad_137.jpg', 'sad_138.jpg', 'sad_139.jpg', 'sad_140.jpg', 'sad_142.jpg', 'sad_143.jpg', 'sad_144.jpg', 'sad_145.jpg', 'sad_146.jpg', 'sad_147.jpg', 'sad_149.jpg', 'sad_150.jpg', 'sad_151.jpg', 'sad_152.jpg', 'sad_154.jpg', 'sad_157.jpg', 'sad_158.jpg', 'sad_159.jpg', 'sad_161.jpg', 'sad_162.jpg', 'sad_163.jpg', 'sad_164.jpg', 'sad_165.jpg', 'sad_166.jpg', 'sad_167.jpg', 'sad_168.jpg', 'sad_169.jpg', 'sad_170.jpg', 'sad_171.jpg', 'sad_172.jpg', 'sad_174.jpg', 'sad_175.jpg', 'sad_176.jpg', 'sad_178.jpg', 'sad_180.jpg', 'sad_181.jpg', 'sad_182.jpg', 'sad_184.jpg', 'sad_185.jpg', 'sad_186.jpg', 'sad_187.jpg', 'sad_188.jpg', 'sad_189.jpg', 'sad_190.jpg', 'sad_191.jpg', 'sad_192.jpg', 'sad_193.jpg', 'sad_194.jpg', 'sad_195.jpg', 'sad_196.jpg', 'sad_198.jpg', 'sad_200.jpg', 'sad_202.jpg', 'sad_203.jpg', 'sad_204.jpg', 'sad_205.jpg', 'sad_208.jpg', 'sad_209.jpg', 'sad_211.jpg', 'sad_212.jpg', 'sad_213.jpg', 'sad_214.jpg', 'sad_216.jpg', 'sad_217.jpg', 'sad_219.jpg', 'sad_220.jpg', 'sad_221.jpg', 'sad_222.jpg', 'sad_223.jpg', 'sad_224.jpg', 'sad_225.jpg', 'sad_226.jpg', 'sad_228.jpg', 'sad_230.jpg', 'sad_231.jpg', 'sad_232.jpg', 'sad_233.jpg', 'sad_234.jpg', 'sad_236.jpg', 'sad_237.jpg', 'sad_238.jpg', 'sad_239.jpg', 'sad_241.jpg', 'sad_242.jpg', 'sad_243.jpg', 'sad_244.jpg', 'sad_246.jpg', 'sad_248.jpg', 'sad_249.jpg', 'sad_250.jpg', 'sad_251.jpg', 'sad_253.jpg', 'sad_254.jpg', 'sad_255.jpg', 'sad_256.jpg', 'sad_257.jpg', 'sad_259.jpg', 'sad_260.jpg', 'sad_261.jpg', 'sad_262.jpg', 'sad_263.jpg', 'sad_264.jpg', 'sad_266.jpg', 'sad_267.jpg', 'sad_268.jpg', 'sad_269.jpg', 'sad_270.jpg', 'sad_271.jpg', 'sad_272.jpg', 'sad_273.jpg', 'sad_274.jpg', 'sad_275.jpg', 'sad_276.jpg', 'sad_277.jpg', 'sad_279.jpg', 'sad_281.jpg', 'sad_282.jpg', 'sad_284.jpg', 'sad_285.jpg', 'sad_286.jpg', 'sad_287.jpg', 'sad_288.jpg', 'sad_289.jpg', 'sad_290.jpg', 'sad_291.jpg', 'sad_292.jpg', 'sad_293.jpg', 'sad_294.jpg', 'sad_296.jpg', 'sad_297.jpg', 'sad_299.jpg', 'sad_301.jpg', 'sad_302.jpg', 'sad_304.jpg', 'sad_306.jpg', 'sad_307.jpg']\n",
            "['neutral_1724.jpg', 'neutral_1725.jpg', 'neutral_1726.jpg', 'neutral_1728.jpg', 'neutral_1729.jpg', 'neutral_1730.jpg', 'neutral_1731.jpg', 'neutral_1732.jpg', 'neutral_1733.jpg', 'neutral_1734.jpg', 'neutral_1736.jpg', 'neutral_1738.jpg', 'neutral_1739.jpg', 'neutral_1740.jpg', 'neutral_1741.jpg', 'neutral_1742.jpg', 'neutral_1743.jpg', 'neutral_1744.jpg', 'neutral_1745.jpg', 'neutral_1747.jpg', 'neutral_1748.jpg', 'neutral_1750.jpg', 'neutral_1751.jpg', 'neutral_1752.jpg', 'neutral_1753.jpg', 'neutral_1754.jpg', 'neutral_1755.jpg', 'neutral_1756.jpg', 'neutral_1757.jpg', 'neutral_1758.jpg', 'neutral_1759.jpg', 'neutral_1760.jpg', 'neutral_1761.jpg', 'neutral_1763.jpg', 'neutral_1764.jpg', 'neutral_1765.jpg', 'neutral_1766.jpg', 'neutral_1768.jpg', 'neutral_1770.jpg', 'neutral_1771.jpg', 'neutral_1773.jpg', 'neutral_1774.jpg', 'neutral_1776.jpg', 'neutral_1777.jpg', 'neutral_1779.jpg', 'neutral_1780.jpg', 'neutral_1781.jpg', 'neutral_1782.jpg', 'neutral_1783.jpg', 'neutral_1784.jpg', 'neutral_1785.jpg', 'neutral_1786.jpg', 'neutral_1787.jpg', 'neutral_1788.jpg', 'neutral_1790.jpg', 'neutral_1791.jpg', 'neutral_1792.jpg', 'neutral_1793.jpg', 'neutral_1794.jpg', 'neutral_1796.jpg', 'neutral_1797.jpg', 'neutral_1799.jpg', 'neutral_1800.jpg', 'neutral_1802.jpg', 'neutral_1803.jpg', 'neutral_1804.jpg', 'neutral_1805.jpg', 'neutral_1807.jpg', 'neutral_1808.jpg', 'neutral_1809.jpg', 'neutral_1810.jpg', 'neutral_1812.jpg', 'neutral_1813.jpg', 'neutral_1814.jpg', 'neutral_1816.jpg', 'neutral_1817.jpg', 'neutral_1818.jpg', 'neutral_1819.jpg', 'neutral_1820.jpg', 'neutral_1821.jpg', 'neutral_1823.jpg', 'neutral_1824.jpg', 'neutral_1825.jpg', 'neutral_1827.jpg', 'neutral_1828.jpg', 'neutral_1830.jpg', 'neutral_1831.jpg', 'neutral_1832.jpg', 'neutral_1833.jpg', 'neutral_1834.jpg', 'neutral_1835.jpg', 'neutral_1836.jpg', 'neutral_1837.jpg', 'neutral_1838.jpg', 'neutral_1839.jpg', 'neutral_1840.jpg', 'neutral_1841.jpg', 'neutral_1842.jpg', 'neutral_1843.jpg', 'neutral_1844.jpg', 'neutral_1845.jpg', 'neutral_1846.jpg', 'neutral_1849.jpg', 'neutral_1850.jpg', 'neutral_1851.jpg', 'neutral_1852.jpg', 'neutral_1853.jpg', 'neutral_1854.jpg', 'neutral_1855.jpg', 'neutral_1856.jpg', 'neutral_1857.jpg', 'neutral_1858.jpg', 'neutral_1859.jpg', 'neutral_1860.jpg', 'neutral_1861.jpg', 'neutral_1863.jpg', 'neutral_1864.jpg', 'neutral_1865.jpg', 'neutral_1866.jpg', 'neutral_1867.jpg', 'neutral_1868.jpg', 'neutral_1869.jpg', 'neutral_1870.jpg', 'neutral_1872.jpg', 'neutral_1873.jpg', 'neutral_1875.jpg', 'neutral_1876.jpg', 'neutral_1878.jpg', 'neutral_1881.jpg', 'neutral_1882.jpg', 'neutral_1883.jpg', 'neutral_1886.jpg', 'neutral_1888.jpg', 'neutral_1889.jpg', 'neutral_1890.jpg', 'neutral_1891.jpg', 'neutral_1892.jpg', 'neutral_1893.jpg', 'neutral_1894.jpg', 'neutral_1895.jpg', 'neutral_1896.jpg', 'neutral_1897.jpg', 'neutral_1898.jpg', 'neutral_1899.jpg', 'neutral_1900.jpg', 'neutral_1901.jpg', 'neutral_1902.jpg', 'neutral_1903.jpg', 'neutral_1904.jpg', 'neutral_1905.jpg', 'neutral_1906.jpg', 'neutral_1907.jpg', 'neutral_1908.jpg', 'neutral_1909.jpg', 'neutral_1910.jpg', 'neutral_1911.jpg', 'neutral_1912.jpg', 'neutral_1913.jpg', 'neutral_1917.jpg', 'neutral_1918.jpg', 'neutral_1919.jpg', 'neutral_1921.jpg', 'neutral_1923.jpg', 'neutral_1924.jpg', 'neutral_1925.jpg', 'neutral_1927.jpg', 'neutral_1928.jpg', 'neutral_1929.jpg', 'neutral_1930.jpg', 'neutral_1931.jpg', 'neutral_1932.jpg', 'neutral_1933.jpg', 'neutral_1934.jpg', 'neutral_1935.jpg', 'neutral_1936.jpg', 'neutral_1937.jpg', 'neutral_1938.jpg', 'neutral_1939.jpg', 'neutral_1940.jpg', 'neutral_1941.jpg', 'neutral_1942.jpg', 'neutral_1944.jpg', 'neutral_1945.jpg', 'neutral_1946.jpg', 'neutral_1947.jpg', 'neutral_1948.jpg', 'neutral_1949.jpg', 'neutral_1950.jpg', 'neutral_1951.jpg', 'neutral_1952.jpg', 'neutral_1954.jpg', 'neutral_1955.jpg', 'neutral_1956.jpg', 'neutral_1957.jpg', 'neutral_1958.jpg', 'neutral_1959.jpg', 'neutral_1960.jpg', 'neutral_1961.jpg', 'neutral_1962.jpg', 'neutral_1963.jpg', 'neutral_1964.jpg', 'neutral_1965.jpg', 'neutral_1966.jpg', 'neutral_1967.jpg', 'neutral_1968.jpg', 'neutral_1969.jpg', 'neutral_1972.jpg', 'neutral_1973.jpg', 'neutral_1974.jpg', 'neutral_1976.jpg', 'neutral_1978.jpg', 'neutral_1979.jpg', 'neutral_1980.jpg', 'neutral_1981.jpg', 'neutral_1982.jpg', 'neutral_1983.jpg', 'neutral_1984.jpg', 'neutral_1985.jpg', 'neutral_1986.jpg', 'neutral_1987.jpg', 'neutral_1988.jpg', 'neutral_1990.jpg', 'neutral_1991.jpg', 'neutral_1992.jpg', 'neutral_1994.jpg', 'neutral_1995.jpg', 'neutral_1998.jpg', 'neutral_1999.jpg', 'neutral_2000.jpg', 'neutral_2001.jpg', 'neutral_2002.jpg', 'neutral_2003.jpg', 'neutral_2004.jpg', 'neutral_2005.jpg', 'neutral_2006.jpg', 'neutral_2007.jpg', 'neutral_2008.jpg', 'neutral_2009.jpg', 'neutral_2012.jpg', 'neutral_2014.jpg', 'neutral_2015.jpg', 'neutral_2017.jpg', 'neutral_2018.jpg', 'neutral_2020.jpg', 'neutral_2021.jpg', 'neutral_2022.jpg', 'neutral_2023.jpg', 'neutral_2024.jpg', 'neutral_2025.jpg', 'neutral_2026.jpg', 'neutral_2027.jpg', 'neutral_2028.jpg', 'neutral_2030.jpg', 'neutral_2031.jpg', 'neutral_2033.jpg', 'neutral_2034.jpg', 'neutral_2035.jpg', 'neutral_2036.jpg', 'neutral_2037.jpg', 'neutral_2039.jpg', 'neutral_2041.jpg', 'neutral_2042.jpg', 'neutral_2043.jpg', 'neutral_2044.jpg', 'neutral_2045.jpg', 'neutral_2046.jpg', 'neutral_2047.jpg', 'neutral_2048.jpg', 'neutral_2049.jpg', 'neutral_2051.jpg', 'neutral_2053.jpg', 'neutral_2056.jpg', 'neutral_2057.jpg', 'neutral_2058.jpg', 'neutral_2061.jpg', 'neutral_2062.jpg', 'neutral_2064.jpg', 'neutral_2065.jpg', 'neutral_2066.jpg', 'neutral_2067.jpg', 'neutral_2069.jpg', 'neutral_2070.jpg', 'neutral_2071.jpg', 'neutral_2072.jpg', 'neutral_2073.jpg', 'neutral_2074.jpg', 'neutral_2075.jpg', 'neutral_2076.jpg', 'neutral_2077.jpg', 'neutral_2078.jpg', 'neutral_2081.jpg', 'neutral_2082.jpg', 'neutral_2083.jpg', 'neutral_2084.jpg', 'neutral_2085.jpg', 'neutral_2086.jpg', 'neutral_2088.jpg', 'neutral_2090.jpg', 'neutral_2091.jpg', 'neutral_2092.jpg', 'neutral_2093.jpg', 'neutral_2094.jpg', 'neutral_2095.jpg', 'neutral_2096.jpg', 'neutral_2097.jpg', 'neutral_2099.jpg', 'neutral_2100.jpg', 'neutral_2101.jpg', 'neutral_2102.jpg', 'neutral_2103.jpg', 'neutral_2104.jpg', 'neutral_2105.jpg', 'neutral_2108.jpg', 'neutral_2111.jpg', 'neutral_2113.jpg', 'neutral_2116.jpg', 'neutral_2118.jpg', 'neutral_2119.jpg', 'neutral_2120.jpg', 'neutral_2124.jpg', 'neutral_2125.jpg', 'neutral_2126.jpg', 'neutral_2128.jpg', 'neutral_2129.jpg', 'neutral_2130.jpg', 'neutral_2131.jpg', 'neutral_2132.jpg', 'neutral_2133.jpg', 'neutral_2134.jpg', 'neutral_2135.jpg', 'neutral_2136.jpg', 'neutral_2137.jpg', 'neutral_2138.jpg', 'neutral_2139.jpg', 'neutral_2141.jpg', 'neutral_2142.jpg', 'neutral_2143.jpg', 'neutral_2144.jpg', 'neutral_2146.jpg', 'neutral_2147.jpg', 'neutral_2148.jpg', 'neutral_2149.jpg', 'neutral_2150.jpg', 'neutral_2151.jpg', 'neutral_2152.jpg', 'neutral_2154.jpg', 'neutral_2155.jpg', 'neutral_2156.jpg', 'neutral_2157.jpg', 'neutral_2158.jpg', 'neutral_2159.jpg', 'neutral_2160.jpg', 'neutral_2161.jpg', 'neutral_2166.jpg', 'neutral_2167.jpg', 'neutral_2168.jpg', 'neutral_2169.jpg', 'neutral_2170.jpg', 'neutral_2171.jpg', 'neutral_2172.jpg', 'neutral_2173.jpg', 'neutral_2174.jpg', 'neutral_2175.jpg', 'neutral_2177.jpg', 'neutral_2178.jpg', 'neutral_2179.jpg', 'neutral_2181.jpg', 'neutral_2182.jpg', 'neutral_2184.jpg', 'neutral_2185.jpg', 'neutral_2187.jpg', 'neutral_2188.jpg', 'neutral_2191.jpg', 'neutral_2192.jpg', 'neutral_2193.jpg', 'neutral_2194.jpg', 'neutral_2195.jpg', 'neutral_2196.jpg', 'neutral_2197.jpg', 'neutral_2198.jpg', 'neutral_2199.jpg', 'neutral_2200.jpg', 'neutral_2201.jpg', 'neutral_2202.jpg', 'neutral_2203.jpg', 'neutral_2205.jpg', 'neutral_2206.jpg', 'neutral_2207.jpg', 'neutral_2209.jpg', 'neutral_2211.jpg', 'neutral_2212.jpg', 'neutral_2213.jpg', 'neutral_2215.jpg', 'neutral_2216.jpg', 'neutral_2218.jpg', 'neutral_2219.jpg', 'neutral_2220.jpg', 'neutral_2221.jpg', 'neutral_2222.jpg', 'neutral_2223.jpg', 'neutral_2224.jpg', 'neutral_2225.jpg', 'neutral_2226.jpg', 'neutral_2227.jpg', 'neutral_2228.jpg', 'neutral_2229.jpg', 'neutral_2230.jpg', 'neutral_2231.jpg', 'neutral_2232.jpg', 'neutral_2233.jpg', 'neutral_2234.jpg', 'neutral_2235.jpg', 'neutral_2236.jpg', 'neutral_2237.jpg', 'neutral_2240.jpg', 'neutral_2241.jpg', 'neutral_2242.jpg', 'neutral_2243.jpg', 'neutral_2244.jpg', 'neutral_2245.jpg', 'neutral_2246.jpg', 'neutral_2247.jpg', 'neutral_2248.jpg', 'neutral_2249.jpg', 'neutral_2250.jpg', 'neutral_2251.jpg', 'neutral_2254.jpg', 'neutral_2255.jpg', 'neutral_2256.jpg', 'neutral_2257.jpg', 'neutral_2258.jpg', 'neutral_2260.jpg', 'neutral_2261.jpg', 'neutral_2262.jpg', 'neutral_2263.jpg', 'neutral_2265.jpg', 'neutral_2267.jpg', 'neutral_2268.jpg', 'neutral_2269.jpg', 'neutral_2270.jpg', 'neutral_2272.jpg', 'neutral_2273.jpg', 'neutral_2274.jpg', 'neutral_2275.jpg', 'neutral_2276.jpg', 'neutral_2277.jpg', 'neutral_2278.jpg', 'neutral_2279.jpg', 'neutral_2280.jpg', 'neutral_2282.jpg', 'neutral_2285.jpg', 'neutral_2286.jpg', 'neutral_2288.jpg', 'neutral_2289.jpg', 'neutral_2290.jpg', 'neutral_2291.jpg', 'neutral_2294.jpg', 'neutral_2295.jpg', 'neutral_2296.jpg', 'neutral_2297.jpg', 'neutral_2298.jpg', 'neutral_2299.jpg', 'neutral_2300.jpg', 'neutral_2301.jpg', 'neutral_2302.jpg', 'neutral_2303.jpg', 'neutral_2305.jpg', 'neutral_2307.jpg', 'neutral_2310.jpg', 'neutral_2312.jpg', 'neutral_2313.jpg', 'neutral_2317.jpg', 'neutral_2318.jpg', 'neutral_2319.jpg', 'neutral_2320.jpg', 'neutral_2321.jpg', 'neutral_2322.jpg', 'neutral_2323.jpg', 'neutral_2327.jpg', 'neutral_2328.jpg', 'neutral_2329.jpg', 'neutral_2330.jpg', 'neutral_2331.jpg', 'neutral_2332.jpg', 'neutral_2334.jpg', 'neutral_2335.jpg', 'neutral_2339.jpg', 'neutral_2340.jpg', 'neutral_2341.jpg', 'neutral_2342.jpg', 'neutral_2343.jpg', 'neutral_2344.jpg', 'neutral_2345.jpg', 'neutral_2346.jpg', 'neutral_2347.jpg', 'neutral_2348.jpg', 'neutral_2349.jpg', 'neutral_2350.jpg', 'neutral_2352.jpg', 'neutral_2353.jpg', 'neutral_2354.jpg', 'neutral_2355.jpg', 'neutral_2357.jpg', 'neutral_2358.jpg', 'neutral_2359.jpg', 'neutral_2360.jpg', 'neutral_2361.jpg', 'neutral_2362.jpg', 'neutral_2363.jpg', 'neutral_2365.jpg', 'neutral_2366.jpg', 'neutral_2369.jpg', 'neutral_2370.jpg', 'neutral_2371.jpg', 'neutral_2372.jpg', 'neutral_2373.jpg', 'neutral_2374.jpg', 'neutral_2375.jpg', 'neutral_2376.jpg', 'neutral_2377.jpg', 'neutral_2378.jpg', 'neutral_2380.jpg', 'neutral_2382.jpg', 'neutral_2383.jpg', 'neutral_2384.jpg', 'neutral_2385.jpg', 'neutral_2386.jpg', 'neutral_2387.jpg', 'neutral_2388.jpg', 'neutral_2389.jpg', 'neutral_2391.jpg', 'neutral_2392.jpg', 'neutral_2393.jpg', 'neutral_2395.jpg', 'neutral_2396.jpg', 'neutral_2397.jpg', 'neutral_2400.jpg', 'neutral_2401.jpg', 'neutral_2404.jpg', 'neutral_2405.jpg', 'neutral_2406.jpg', 'neutral_2407.jpg', 'neutral_2408.jpg', 'neutral_2409.jpg', 'neutral_2411.jpg', 'neutral_2413.jpg', 'neutral_2416.jpg', 'neutral_2417.jpg', 'neutral_2418.jpg', 'neutral_2419.jpg', 'neutral_2420.jpg', 'neutral_2421.jpg', 'neutral_2422.jpg', 'neutral_2423.jpg', 'neutral_2425.jpg', 'neutral_2427.jpg', 'neutral_2428.jpg', 'neutral_2430.jpg', 'neutral_2431.jpg', 'neutral_2435.jpg', 'neutral_2436.jpg', 'neutral_2438.jpg', 'neutral_2439.jpg', 'neutral_2440.jpg', 'neutral_2443.jpg', 'neutral_2444.jpg', 'neutral_2445.jpg', 'neutral_2446.jpg', 'neutral_2447.jpg', 'neutral_2448.jpg', 'neutral_2449.jpg', 'neutral_2450.jpg', 'neutral_2453.jpg', 'neutral_2454.jpg', 'neutral_2455.jpg', 'neutral_2456.jpg', 'neutral_2457.jpg', 'neutral_2458.jpg', 'neutral_2459.jpg', 'neutral_2460.jpg', 'neutral_2461.jpg', 'neutral_2462.jpg', 'neutral_2464.jpg', 'neutral_2465.jpg', 'neutral_2466.jpg', 'neutral_2468.jpg', 'neutral_2469.jpg', 'neutral_2470.jpg', 'neutral_2473.jpg', 'neutral_2474.jpg', 'neutral_2476.jpg', 'neutral_2477.jpg', 'neutral_2478.jpg', 'neutral_2479.jpg', 'neutral_2480.jpg', 'neutral_2481.jpg', 'neutral_2482.jpg', 'neutral_2483.jpg', 'neutral_2484.jpg', 'neutral_2486.jpg', 'neutral_2487.jpg', 'neutral_2488.jpg', 'neutral_2489.jpg', 'neutral_2490.jpg', 'neutral_2492.jpg', 'neutral_2493.jpg', 'neutral_2494.jpg', 'neutral_2495.jpg', 'neutral_2496.jpg', 'neutral_2499.jpg', 'neutral_2500.jpg', 'neutral_2501.jpg', 'neutral_2502.jpg', 'neutral_2504.jpg', 'neutral_2505.jpg', 'neutral_2506.jpg', 'neutral_2507.jpg', 'neutral_2508.jpg', 'neutral_2509.jpg', 'neutral_2510.jpg', 'neutral_2512.jpg', 'neutral_2513.jpg', 'neutral_2514.jpg', 'neutral_2515.jpg', 'neutral_2517.jpg', 'neutral_2520.jpg', 'neutral_2521.jpg', 'neutral_2522.jpg', 'neutral_2523.jpg', 'neutral_2524.jpg', 'neutral_2525.jpg', 'neutral_2527.jpg', 'neutral_2528.jpg', 'neutral_2529.jpg', 'neutral_2531.jpg', 'neutral_2532.jpg', 'neutral_2533.jpg', 'neutral_2535.jpg', 'neutral_2537.jpg', 'neutral_2539.jpg', 'neutral_2540.jpg', 'neutral_2541.jpg', 'neutral_2543.jpg', 'neutral_2544.jpg', 'neutral_2546.jpg', 'neutral_2547.jpg', 'neutral_2548.jpg', 'neutral_2550.jpg', 'neutral_2551.jpg', 'neutral_2554.jpg', 'neutral_2556.jpg', 'neutral_2557.jpg', 'neutral_2558.jpg', 'neutral_2559.jpg', 'neutral_2560.jpg', 'neutral_2563.jpg', 'neutral_2564.jpg', 'neutral_2565.jpg', 'neutral_2566.jpg', 'neutral_2567.jpg', 'neutral_2568.jpg', 'neutral_2569.jpg', 'neutral_2571.jpg', 'neutral_2572.jpg', 'neutral_2573.jpg', 'neutral_2574.jpg', 'neutral_2575.jpg', 'neutral_2576.jpg', 'neutral_2577.jpg', 'neutral_2578.jpg', 'neutral_2580.jpg', 'neutral_2581.jpg', 'neutral_2582.jpg', 'neutral_2583.jpg', 'neutral_2584.jpg', 'neutral_2585.jpg', 'neutral_2586.jpg', 'neutral_2587.jpg', 'neutral_2588.jpg', 'neutral_2589.jpg', 'neutral_2590.jpg', 'neutral_2591.jpg', 'neutral_2592.jpg', 'neutral_2593.jpg', 'neutral_2594.jpg', 'neutral_2595.jpg', 'neutral_2596.jpg', 'neutral_2597.jpg', 'neutral_2598.jpg', 'neutral_2599.jpg', 'neutral_2600.jpg', 'neutral_2601.jpg', 'neutral_2604.jpg', 'neutral_2605.jpg', 'neutral_2606.jpg', 'neutral_2607.jpg', 'neutral_2608.jpg', 'neutral_2611.jpg', 'neutral_2612.jpg', 'neutral_2613.jpg', 'neutral_2614.jpg', 'neutral_2616.jpg', 'neutral_2617.jpg', 'neutral_2619.jpg', 'neutral_2620.jpg', 'neutral_2621.jpg', 'neutral_2622.jpg', 'neutral_2623.jpg', 'neutral_2624.jpg', 'neutral_2626.jpg', 'neutral_2627.jpg', 'neutral_2628.jpg', 'neutral_2629.jpg', 'neutral_2630.jpg', 'neutral_2631.jpg', 'neutral_2632.jpg', 'neutral_2633.jpg', 'neutral_2634.jpg', 'neutral_2635.jpg', 'neutral_2636.jpg', 'neutral_2637.jpg', 'neutral_2638.jpg', 'neutral_2639.jpg', 'neutral_2640.jpg', 'neutral_2641.jpg', 'neutral_2642.jpg', 'neutral_2644.jpg', 'neutral_2645.jpg', 'neutral_2646.jpg', 'neutral_2647.jpg', 'neutral_2649.jpg', 'neutral_2650.jpg', 'neutral_2651.jpg', 'neutral_2653.jpg', 'neutral_2654.jpg', 'neutral_2657.jpg', 'neutral_2658.jpg', 'neutral_2659.jpg', 'neutral_2660.jpg', 'neutral_2662.jpg', 'neutral_2664.jpg', 'neutral_2665.jpg', 'neutral_2666.jpg', 'neutral_2669.jpg', 'neutral_2670.jpg', 'neutral_2671.jpg', 'neutral_2673.jpg', 'neutral_2674.jpg', 'neutral_2675.jpg', 'neutral_2676.jpg', 'neutral_2677.jpg', 'neutral_2679.jpg', 'neutral_2680.jpg', 'neutral_2681.jpg', 'neutral_2682.jpg', 'neutral_2684.jpg', 'neutral_2686.jpg', 'neutral_2689.jpg', 'neutral_2691.jpg', 'neutral_2692.jpg', 'neutral_2693.jpg', 'neutral_2694.jpg', 'neutral_2695.jpg', 'neutral_2696.jpg', 'neutral_2697.jpg', 'neutral_2698.jpg', 'neutral_2699.jpg', 'neutral_2700.jpg', 'neutral_2705.jpg', 'neutral_2706.jpg', 'neutral_2708.jpg', 'neutral_2709.jpg', 'neutral_2710.jpg', 'neutral_2711.jpg', 'neutral_2712.jpg', 'neutral_2713.jpg', 'neutral_2714.jpg', 'neutral_2715.jpg', 'neutral_2716.jpg', 'neutral_2717.jpg', 'neutral_2718.jpg', 'neutral_2719.jpg', 'neutral_2720.jpg', 'neutral_2721.jpg', 'neutral_2722.jpg', 'neutral_2723.jpg', 'neutral_2725.jpg', 'neutral_2730.jpg', 'neutral_2732.jpg', 'neutral_2738.jpg', 'neutral_2739.jpg', 'neutral_2740.jpg', 'neutral_2742.jpg', 'neutral_2743.jpg', 'neutral_2744.jpg', 'neutral_2745.jpg', 'neutral_2746.jpg', 'neutral_2749.jpg', 'neutral_2750.jpg', 'neutral_2751.jpg', 'neutral_2754.jpg', 'neutral_2755.jpg', 'neutral_2757.jpg', 'neutral_2758.jpg', 'neutral_2759.jpg', 'neutral_2760.jpg', 'neutral_2761.jpg', 'neutral_2762.jpg', 'neutral_2763.jpg', 'neutral_2764.jpg', 'neutral_2767.jpg', 'neutral_2769.jpg', 'neutral_2770.jpg', 'neutral_2771.jpg', 'neutral_2773.jpg', 'neutral_2774.jpg', 'neutral_2775.jpg', 'neutral_2776.jpg', 'neutral_2777.jpg', 'neutral_2779.jpg', 'neutral_2780.jpg', 'neutral_2781.jpg', 'neutral_2782.jpg', 'neutral_2783.jpg', 'neutral_2784.jpg', 'neutral_2785.jpg', 'neutral_2787.jpg', 'neutral_2789.jpg', 'neutral_2791.jpg', 'neutral_2792.jpg', 'neutral_2793.jpg', 'neutral_2794.jpg', 'neutral_2795.jpg', 'neutral_2796.jpg', 'neutral_2799.jpg', 'neutral_2801.jpg', 'neutral_2803.jpg', 'neutral_2805.jpg', 'neutral_2806.jpg', 'neutral_2807.jpg', 'neutral_2808.jpg', 'neutral_2810.jpg', 'neutral_2811.jpg', 'neutral_2812.jpg', 'neutral_2813.jpg', 'neutral_2814.jpg', 'neutral_2815.jpg', 'neutral_2816.jpg', 'neutral_2817.jpg', 'neutral_2819.jpg', 'neutral_2820.jpg', 'neutral_2822.jpg', 'neutral_2823.jpg', 'neutral_2824.jpg', 'neutral_2825.jpg', 'neutral_2826.jpg', 'neutral_2827.jpg', 'neutral_2828.jpg', 'neutral_2829.jpg', 'neutral_2830.jpg', 'neutral_2831.jpg', 'neutral_2832.jpg', 'neutral_2833.jpg', 'neutral_2834.jpg', 'neutral_2835.jpg', 'neutral_2836.jpg', 'neutral_2837.jpg', 'neutral_2838.jpg', 'neutral_2839.jpg', 'neutral_2840.jpg', 'neutral_2841.jpg', 'neutral_2842.jpg', 'neutral_2844.jpg', 'neutral_2848.jpg', 'neutral_2849.jpg', 'neutral_2850.jpg', 'neutral_2851.jpg', 'neutral_2854.jpg', 'neutral_2855.jpg', 'neutral_2856.jpg', 'neutral_2857.jpg', 'neutral_2858.jpg', 'neutral_2861.jpg', 'neutral_2862.jpg', 'neutral_2863.jpg', 'neutral_2865.jpg', 'neutral_2866.jpg', 'neutral_2867.jpg', 'neutral_2869.jpg', 'neutral_2870.jpg', 'neutral_2871.jpg', 'neutral_2872.jpg', 'neutral_2873.jpg', 'neutral_2874.jpg', 'neutral_2875.jpg', 'neutral_2876.jpg', 'neutral_2877.jpg', 'neutral_2878.jpg', 'neutral_2879.jpg', 'neutral_2880.jpg', 'neutral_2881.jpg', 'neutral_2882.jpg', 'neutral_2883.jpg', 'neutral_2884.jpg', 'neutral_2885.jpg', 'neutral_2888.jpg', 'neutral_2889.jpg', 'neutral_2890.jpg', 'neutral_2891.jpg', 'neutral_2892.jpg', 'neutral_2893.jpg', 'neutral_2894.jpg', 'neutral_2895.jpg', 'neutral_2899.jpg', 'neutral_2901.jpg', 'neutral_2903.jpg', 'neutral_2904.jpg', 'neutral_2905.jpg', 'neutral_2907.jpg', 'neutral_2908.jpg', 'neutral_2909.jpg', 'neutral_2910.jpg', 'neutral_2911.jpg', 'neutral_2912.jpg', 'neutral_2914.jpg', 'neutral_2916.jpg', 'neutral_2917.jpg', 'neutral_2918.jpg', 'neutral_2919.jpg', 'neutral_2920.jpg', 'neutral_2922.jpg', 'neutral_2923.jpg', 'neutral_2924.jpg', 'neutral_2925.jpg', 'neutral_2926.jpg', 'neutral_2929.jpg', 'neutral_2930.jpg', 'neutral_2931.jpg', 'neutral_2932.jpg', 'neutral_2933.jpg', 'neutral_2935.jpg', 'neutral_2937.jpg', 'neutral_2939.jpg', 'neutral_2941.jpg', 'neutral_2942.jpg', 'neutral_2943.jpg', 'neutral_2945.jpg', 'neutral_2946.jpg', 'neutral_2947.jpg', 'neutral_2948.jpg', 'neutral_2949.jpg', 'neutral_2950.jpg', 'neutral_2951.jpg', 'neutral_2952.jpg', 'neutral_2953.jpg', 'neutral_2954.jpg', 'neutral_2955.jpg', 'neutral_2956.jpg', 'neutral_2957.jpg', 'neutral_2958.jpg', 'neutral_2960.jpg', 'neutral_2961.jpg', 'neutral_2962.jpg', 'neutral_2963.jpg', 'neutral_2964.jpg', 'neutral_2965.jpg', 'neutral_2966.jpg', 'neutral_2968.jpg', 'neutral_2969.jpg', 'neutral_2970.jpg', 'neutral_2971.jpg', 'neutral_2972.jpg', 'neutral_2973.jpg', 'neutral_2974.jpg', 'neutral_2976.jpg', 'neutral_2979.jpg', 'neutral_2982.jpg', 'neutral_2983.jpg', 'neutral_2985.jpg', 'neutral_2987.jpg', 'neutral_2988.jpg', 'neutral_2989.jpg', 'neutral_2991.jpg', 'neutral_2992.jpg', 'neutral_2993.jpg', 'neutral_2994.jpg', 'neutral_2995.jpg', 'neutral_2996.jpg', 'neutral_2997.jpg', 'neutral_2999.jpg', 'neutral_3000.jpg', 'neutral_3001.jpg', 'neutral_3002.jpg', 'neutral_3003.jpg', 'neutral_3004.jpg', 'neutral_3005.jpg', 'neutral_3006.jpg', 'neutral_3007.jpg', 'neutral_3008.jpg', 'neutral_3009.jpg', 'neutral_493.jpg', 'neutral_494.jpg', 'neutral_495.jpg', 'neutral_496.jpg', 'neutral_497.jpg', 'neutral_498.jpg', 'neutral_499.jpg', 'neutral_500.jpg', 'neutral_501.jpg', 'neutral_502.jpg', 'neutral_503.jpg', 'neutral_504.jpg', 'neutral_505.jpg', 'neutral_506.jpg', 'neutral_507.jpg', 'neutral_508.jpg', 'neutral_509.jpg', 'neutral_511.jpg', 'neutral_512.jpg', 'neutral_513.jpg', 'neutral_514.jpg', 'neutral_515.jpg', 'neutral_517.jpg', 'neutral_518.jpg', 'neutral_519.jpg', 'neutral_520.jpg', 'neutral_522.jpg', 'neutral_523.jpg', 'neutral_524.jpg', 'neutral_525.jpg', 'neutral_526.jpg', 'neutral_527.jpg', 'neutral_528.jpg', 'neutral_529.jpg', 'neutral_530.jpg', 'neutral_531.jpg', 'neutral_532.jpg', 'neutral_533.jpg', 'neutral_534.jpg', 'neutral_537.jpg', 'neutral_538.jpg', 'neutral_539.jpg', 'neutral_540.jpg', 'neutral_541.jpg', 'neutral_543.jpg', 'neutral_544.jpg', 'neutral_545.jpg', 'neutral_546.jpg', 'neutral_548.jpg', 'neutral_550.jpg', 'neutral_552.jpg', 'neutral_553.jpg', 'neutral_554.jpg', 'neutral_555.jpg', 'neutral_556.jpg', 'neutral_557.jpg', 'neutral_558.jpg', 'neutral_559.jpg', 'neutral_560.jpg', 'neutral_561.jpg', 'neutral_562.jpg', 'neutral_564.jpg', 'neutral_566.jpg', 'neutral_568.jpg', 'neutral_569.jpg', 'neutral_571.jpg', 'neutral_574.jpg', 'neutral_577.jpg', 'neutral_580.jpg', 'neutral_581.jpg', 'neutral_582.jpg', 'neutral_583.jpg', 'neutral_584.jpg', 'neutral_585.jpg', 'neutral_586.jpg', 'neutral_587.jpg', 'neutral_589.jpg', 'neutral_590.jpg', 'neutral_591.jpg', 'neutral_592.jpg', 'neutral_593.jpg', 'neutral_594.jpg', 'neutral_595.jpg', 'neutral_596.jpg', 'neutral_597.jpg', 'neutral_598.jpg', 'neutral_599.jpg', 'neutral_600.jpg', 'neutral_601.jpg', 'neutral_602.jpg', 'neutral_603.jpg', 'neutral_604.jpg', 'neutral_605.jpg', 'neutral_607.jpg', 'neutral_609.jpg', 'neutral_610.jpg', 'neutral_613.jpg', 'neutral_614.jpg', 'neutral_615.jpg', 'neutral_616.jpg', 'neutral_618.jpg', 'neutral_619.jpg', 'neutral_620.jpg', 'neutral_621.jpg', 'neutral_624.jpg', 'neutral_625.jpg', 'neutral_626.jpg', 'neutral_627.jpg', 'neutral_628.jpg', 'neutral_630.jpg', 'neutral_631.jpg', 'neutral_633.jpg', 'neutral_634.jpg', 'neutral_636.jpg', 'neutral_637.jpg', 'neutral_638.jpg', 'neutral_642.jpg', 'neutral_643.jpg', 'neutral_644.jpg', 'neutral_645.jpg', 'neutral_646.jpg', 'neutral_647.jpg', 'neutral_648.jpg', 'neutral_649.jpg', 'neutral_650.jpg', 'neutral_652.jpg', 'neutral_653.jpg', 'neutral_654.jpg', 'neutral_655.jpg', 'neutral_657.jpg', 'neutral_658.jpg', 'neutral_660.jpg', 'neutral_662.jpg', 'neutral_664.jpg', 'neutral_665.jpg', 'neutral_666.jpg', 'neutral_667.jpg', 'neutral_668.jpg', 'neutral_670.jpg', 'neutral_671.jpg', 'neutral_672.jpg', 'neutral_673.jpg', 'neutral_675.jpg', 'neutral_676.jpg', 'neutral_677.jpg', 'neutral_678.jpg', 'neutral_679.jpg', 'neutral_680.jpg', 'neutral_681.jpg', 'neutral_682.jpg', 'neutral_684.jpg', 'neutral_685.jpg', 'neutral_686.jpg', 'neutral_687.jpg', 'neutral_688.jpg', 'neutral_689.jpg', 'neutral_690.jpg', 'neutral_691.jpg', 'neutral_692.jpg', 'neutral_693.jpg', 'neutral_694.jpg', 'neutral_695.jpg', 'neutral_696.jpg', 'neutral_697.jpg', 'neutral_698.jpg', 'neutral_699.jpg', 'neutral_700.jpg', 'neutral_701.jpg', 'neutral_702.jpg', 'neutral_703.jpg', 'neutral_704.jpg', 'neutral_705.jpg', 'neutral_706.jpg', 'neutral_708.jpg', 'neutral_709.jpg', 'neutral_710.jpg', 'neutral_711.jpg', 'neutral_712.jpg', 'neutral_713.jpg', 'neutral_714.jpg', 'neutral_715.jpg', 'neutral_716.jpg', 'neutral_717.jpg', 'neutral_718.jpg', 'neutral_720.jpg', 'neutral_721.jpg', 'neutral_722.jpg', 'neutral_723.jpg', 'neutral_724.jpg', 'neutral_725.jpg', 'neutral_726.jpg', 'neutral_727.jpg', 'neutral_728.jpg', 'neutral_729.jpg', 'neutral_730.jpg', 'neutral_731.jpg', 'neutral_733.jpg', 'neutral_736.jpg', 'neutral_737.jpg', 'neutral_740.jpg', 'neutral_741.jpg', 'neutral_742.jpg', 'neutral_744.jpg', 'neutral_745.jpg', 'neutral_746.jpg', 'neutral_747.jpg', 'neutral_748.jpg', 'neutral_749.jpg', 'neutral_750.jpg', 'neutral_751.jpg', 'neutral_752.jpg', 'neutral_754.jpg', 'neutral_756.jpg', 'neutral_757.jpg', 'neutral_758.jpg', 'neutral_760.jpg', 'neutral_762.jpg', 'neutral_763.jpg', 'neutral_764.jpg', 'neutral_766.jpg', 'neutral_767.jpg', 'neutral_768.jpg', 'neutral_769.jpg', 'neutral_770.jpg', 'neutral_772.jpg', 'neutral_773.jpg', 'neutral_774.jpg', 'neutral_775.jpg', 'neutral_776.jpg', 'neutral_777.jpg', 'neutral_778.jpg', 'neutral_779.jpg', 'neutral_780.jpg', 'neutral_781.jpg', 'neutral_782.jpg', 'neutral_783.jpg', 'neutral_784.jpg', 'neutral_785.jpg', 'neutral_786.jpg', 'neutral_787.jpg', 'neutral_788.jpg', 'neutral_792.jpg', 'neutral_794.jpg', 'neutral_795.jpg', 'neutral_796.jpg', 'neutral_797.jpg', 'neutral_798.jpg', 'neutral_799.jpg', 'neutral_800.jpg', 'neutral_801.jpg', 'neutral_802.jpg', 'neutral_803.jpg', 'neutral_804.jpg', 'neutral_805.jpg', 'neutral_806.jpg', 'neutral_807.jpg', 'neutral_808.jpg', 'neutral_810.jpg', 'neutral_811.jpg', 'neutral_812.jpg', 'neutral_813.jpg', 'neutral_814.jpg', 'neutral_815.jpg', 'neutral_816.jpg', 'neutral_817.jpg', 'neutral_818.jpg', 'neutral_819.jpg', 'neutral_820.jpg', 'neutral_821.jpg', 'neutral_822.jpg', 'neutral_823.jpg', 'neutral_824.jpg', 'neutral_825.jpg', 'neutral_826.jpg', 'neutral_827.jpg', 'neutral_828.jpg', 'neutral_829.jpg', 'neutral_830.jpg', 'neutral_831.jpg', 'neutral_845.jpg', 'neutral_847.jpg', 'neutral_848.jpg', 'neutral_849.jpg', 'neutral_850.jpg', 'neutral_851.jpg', 'neutral_852.jpg', 'neutral_853.jpg', 'neutral_854.jpg', 'neutral_855.jpg', 'neutral_856.jpg', 'neutral_857.jpg', 'neutral_858.jpg', 'neutral_859.jpg', 'neutral_860.jpg', 'neutral_861.jpg', 'neutral_862.jpg', 'neutral_863.jpg', 'neutral_864.jpg', 'neutral_865.jpg', 'neutral_866.jpg', 'neutral_867.jpg', 'neutral_868.jpg', 'neutral_869.jpg', 'neutral_870.jpg', 'neutral_871.jpg', 'neutral_872.jpg', 'neutral_873.jpg', 'neutral_874.jpg', 'neutral_875.jpg', 'neutral_876.jpg', 'neutral_877.jpg', 'neutral_878.jpg', 'neutral_879.jpg', 'neutral_880.jpg', 'neutral_881.jpg', 'neutral_882.jpg', 'neutral_883.jpg', 'neutral_884.jpg', 'neutral_885.jpg', 'neutral_886.jpg', 'neutral_887.jpg', 'neutral_888.jpg', 'neutral_891.jpg', 'neutral_892.jpg', 'neutral_893.jpg', 'neutral_894.jpg', 'neutral_895.jpg', 'neutral_896.jpg', 'neutral_897.jpg', 'neutral_898.jpg', 'neutral_899.jpg', 'neutral_900.jpg', 'neutral_901.jpg', 'neutral_902.jpg', 'neutral_903.jpg', 'neutral_904.jpg', 'neutral_908.jpg', 'neutral_909.jpg', 'neutral_910.jpg', 'neutral_911.jpg', 'neutral_912.jpg', 'neutral_913.jpg', 'neutral_914.jpg', 'neutral_915.jpg', 'neutral_916.jpg', 'neutral_917.jpg', 'neutral_918.jpg', 'neutral_919.jpg', 'neutral_920.jpg', 'neutral_921.jpg', 'neutral_922.jpg', 'neutral_923.jpg', 'neutral_924.jpg', 'neutral_926.jpg', 'neutral_927.jpg', 'neutral_928.jpg', 'neutral_929.jpg', 'neutral_930.jpg', 'neutral_931.jpg', 'neutral_932.jpg', 'neutral_933.jpg', 'neutral_934.jpg', 'neutral_935.jpg', 'neutral_936.jpg', 'neutral_937.jpg', 'neutral_940.jpg', 'neutral_941.jpg', 'neutral_942.jpg', 'neutral_943.jpg', 'neutral_944.jpg', 'neutral_945.jpg', 'neutral_950.jpg', 'neutral_953.jpg', 'neutral_955.jpg', 'neutral_956.jpg', 'neutral_957.jpg', 'neutral_958.jpg', 'neutral_959.jpg', 'neutral_962.jpg', 'neutral_963.jpg', 'neutral_964.jpg', 'neutral_966.jpg', 'neutral_967.jpg', 'neutral_968.jpg', 'neutral_969.jpg', 'neutral_970.jpg', 'neutral_971.jpg', 'neutral_972.jpg', 'neutral_973.jpg', 'neutral_974.jpg', 'neutral_975.jpg', 'neutral_976.jpg', 'neutral_977.jpg', 'neutral_978.jpg', 'neutral_979.jpg', 'neutral_980.jpg', 'neutral_983.jpg', 'neutral_986.jpg', 'neutral_987.jpg', 'neutral_988.jpg', 'neutral_989.jpg', 'neutral_990.jpg', 'neutral_992.jpg', 'neutral_993.jpg', 'neutral_994.jpg', 'neutral_995.jpg', 'neutral_996.jpg', 'neutral_997.jpg', 'neutral_998.jpg', 'neutral_999.jpg', 'neutral_1000.jpg', 'neutral_1001.jpg', 'neutral_1002.jpg', 'neutral_1005.jpg', 'neutral_1007.jpg', 'neutral_1011.jpg', 'neutral_1012.jpg', 'neutral_1013.jpg', 'neutral_1014.jpg', 'neutral_1016.jpg', 'neutral_1017.jpg', 'neutral_1020.jpg', 'neutral_1021.jpg', 'neutral_1022.jpg', 'neutral_1023.jpg', 'neutral_1024.jpg', 'neutral_1025.jpg', 'neutral_1026.jpg', 'neutral_1027.jpg', 'neutral_1028.jpg', 'neutral_1029.jpg', 'neutral_1030.jpg', 'neutral_1031.jpg', 'neutral_1032.jpg', 'neutral_1033.jpg', 'neutral_1034.jpg', 'neutral_1035.jpg', 'neutral_1036.jpg', 'neutral_1037.jpg', 'neutral_1038.jpg', 'neutral_1039.jpg', 'neutral_1040.jpg', 'neutral_1041.jpg', 'neutral_1042.jpg', 'neutral_1043.jpg', 'neutral_1044.jpg', 'neutral_1045.jpg', 'neutral_1046.jpg', 'neutral_1047.jpg', 'neutral_1049.jpg', 'neutral_1050.jpg', 'neutral_1051.jpg', 'neutral_1052.jpg', 'neutral_1053.jpg', 'neutral_1055.jpg', 'neutral_1056.jpg', 'neutral_1057.jpg', 'neutral_1058.jpg', 'neutral_1059.jpg', 'neutral_1060.jpg', 'neutral_1061.jpg', 'neutral_1062.jpg', 'neutral_1063.jpg', 'neutral_1064.jpg', 'neutral_1067.jpg', 'neutral_1068.jpg', 'neutral_1069.jpg', 'neutral_1070.jpg', 'neutral_1071.jpg', 'neutral_1072.jpg', 'neutral_1073.jpg', 'neutral_1074.jpg', 'neutral_1076.jpg', 'neutral_1077.jpg', 'neutral_1079.jpg', 'neutral_1080.jpg', 'neutral_1081.jpg', 'neutral_1082.jpg', 'neutral_1083.jpg', 'neutral_1084.jpg', 'neutral_1085.jpg', 'neutral_1086.jpg', 'neutral_1088.jpg', 'neutral_1089.jpg', 'neutral_1090.jpg', 'neutral_1094.jpg', 'neutral_1095.jpg', 'neutral_1096.jpg', 'neutral_1098.jpg', 'neutral_1100.jpg', 'neutral_1104.jpg', 'neutral_1105.jpg', 'neutral_1106.jpg', 'neutral_1107.jpg', 'neutral_1108.jpg', 'neutral_1109.jpg', 'neutral_1110.jpg', 'neutral_1114.jpg', 'neutral_1115.jpg', 'neutral_1116.jpg', 'neutral_1117.jpg', 'neutral_1118.jpg', 'neutral_1119.jpg', 'neutral_1120.jpg', 'neutral_1121.jpg', 'neutral_1123.jpg', 'neutral_1124.jpg', 'neutral_1125.jpg', 'neutral_1126.jpg', 'neutral_1127.jpg', 'neutral_1128.jpg', 'neutral_1129.jpg', 'neutral_1130.jpg', 'neutral_1131.jpg', 'neutral_1132.jpg', 'neutral_1133.jpg', 'neutral_1134.jpg', 'neutral_1135.jpg', 'neutral_1136.jpg', 'neutral_1137.jpg', 'neutral_1138.jpg', 'neutral_1139.jpg', 'neutral_1141.jpg', 'neutral_1142.jpg', 'neutral_1143.jpg', 'neutral_1144.jpg', 'neutral_1145.jpg', 'neutral_1146.jpg', 'neutral_1147.jpg', 'neutral_1148.jpg', 'neutral_1149.jpg', 'neutral_1150.jpg', 'neutral_1151.jpg', 'neutral_1152.jpg', 'neutral_1153.jpg', 'neutral_1154.jpg', 'neutral_1155.jpg', 'neutral_1157.jpg', 'neutral_1158.jpg', 'neutral_1159.jpg', 'neutral_1160.jpg', 'neutral_1161.jpg', 'neutral_1162.jpg', 'neutral_1163.jpg', 'neutral_1164.jpg', 'neutral_1165.jpg', 'neutral_1166.jpg', 'neutral_1167.jpg', 'neutral_1168.jpg', 'neutral_1169.jpg', 'neutral_1170.jpg', 'neutral_1172.jpg', 'neutral_1173.jpg', 'neutral_1175.jpg', 'neutral_1176.jpg', 'neutral_1177.jpg', 'neutral_1178.jpg', 'neutral_1179.jpg', 'neutral_1181.jpg', 'neutral_1182.jpg', 'neutral_1184.jpg', 'neutral_1185.jpg', 'neutral_1187.jpg', 'neutral_1188.jpg', 'neutral_1189.jpg', 'neutral_1190.jpg', 'neutral_1192.jpg', 'neutral_1193.jpg', 'neutral_1194.jpg', 'neutral_1196.jpg', 'neutral_1197.jpg', 'neutral_1198.jpg', 'neutral_1201.jpg', 'neutral_1202.jpg', 'neutral_1204.jpg', 'neutral_1205.jpg', 'neutral_1206.jpg', 'neutral_1207.jpg', 'neutral_1208.jpg', 'neutral_1210.jpg', 'neutral_1211.jpg', 'neutral_1212.jpg', 'neutral_1213.jpg', 'neutral_1215.jpg', 'neutral_1216.jpg', 'neutral_1217.jpg', 'neutral_1219.jpg', 'neutral_1220.jpg', 'neutral_1221.jpg', 'neutral_1222.jpg', 'neutral_1223.jpg', 'neutral_1224.jpg', 'neutral_1225.jpg', 'neutral_1226.jpg', 'neutral_1227.jpg', 'neutral_1228.jpg', 'neutral_1229.jpg', 'neutral_1231.jpg', 'neutral_1233.jpg', 'neutral_1235.jpg', 'neutral_1236.jpg', 'neutral_1237.jpg', 'neutral_1240.jpg', 'neutral_1241.jpg', 'neutral_1242.jpg', 'neutral_1243.jpg', 'neutral_1245.jpg', 'neutral_1246.jpg', 'neutral_1247.jpg', 'neutral_1248.jpg', 'neutral_1249.jpg', 'neutral_1250.jpg', 'neutral_1251.jpg', 'neutral_1252.jpg', 'neutral_1253.jpg', 'neutral_1254.jpg', 'neutral_1255.jpg', 'neutral_1256.jpg', 'neutral_1257.jpg', 'neutral_1258.jpg', 'neutral_1260.jpg', 'neutral_1261.jpg', 'neutral_1262.jpg', 'neutral_1263.jpg', 'neutral_1264.jpg', 'neutral_1265.jpg', 'neutral_1266.jpg', 'neutral_1268.jpg', 'neutral_1269.jpg', 'neutral_1270.jpg', 'neutral_1271.jpg', 'neutral_1272.jpg', 'neutral_1273.jpg', 'neutral_1274.jpg', 'neutral_1278.jpg', 'neutral_1280.jpg', 'neutral_1281.jpg', 'neutral_1283.jpg', 'neutral_1287.jpg', 'neutral_1288.jpg', 'neutral_1289.jpg', 'neutral_1290.jpg', 'neutral_1291.jpg', 'neutral_1292.jpg', 'neutral_1293.jpg', 'neutral_1294.jpg', 'neutral_1295.jpg', 'neutral_1297.jpg', 'neutral_1298.jpg', 'neutral_1299.jpg', 'neutral_1300.jpg', 'neutral_1301.jpg', 'neutral_1302.jpg', 'neutral_1303.jpg', 'neutral_1304.jpg', 'neutral_1305.jpg', 'neutral_1306.jpg', 'neutral_1307.jpg', 'neutral_1309.jpg', 'neutral_1310.jpg', 'neutral_1311.jpg', 'neutral_1313.jpg', 'neutral_1314.jpg', 'neutral_1315.jpg', 'neutral_1317.jpg', 'neutral_1318.jpg', 'neutral_1320.jpg', 'neutral_1321.jpg', 'neutral_1322.jpg', 'neutral_1323.jpg', 'neutral_1324.jpg', 'neutral_1325.jpg', 'neutral_1326.jpg', 'neutral_1327.jpg', 'neutral_1328.jpg', 'neutral_1329.jpg', 'neutral_1332.jpg', 'neutral_1333.jpg', 'neutral_1334.jpg', 'neutral_1335.jpg', 'neutral_1336.jpg', 'neutral_1338.jpg', 'neutral_1339.jpg', 'neutral_1340.jpg', 'neutral_1341.jpg', 'neutral_1342.jpg', 'neutral_1344.jpg', 'neutral_1345.jpg', 'neutral_1347.jpg', 'neutral_1348.jpg', 'neutral_1349.jpg', 'neutral_1350.jpg', 'neutral_1351.jpg', 'neutral_1353.jpg', 'neutral_1354.jpg', 'neutral_1355.jpg', 'neutral_1356.jpg', 'neutral_1357.jpg', 'neutral_1358.jpg', 'neutral_1359.jpg', 'neutral_1361.jpg', 'neutral_1362.jpg', 'neutral_1364.jpg', 'neutral_1365.jpg', 'neutral_1366.jpg', 'neutral_1367.jpg', 'neutral_1369.jpg', 'neutral_1372.jpg', 'neutral_1375.jpg', 'neutral_1376.jpg', 'neutral_1377.jpg', 'neutral_1379.jpg', 'neutral_1380.jpg', 'neutral_1381.jpg', 'neutral_1382.jpg', 'neutral_1383.jpg', 'neutral_1384.jpg', 'neutral_1385.jpg', 'neutral_1386.jpg', 'neutral_1387.jpg', 'neutral_1388.jpg', 'neutral_1389.jpg', 'neutral_1390.jpg', 'neutral_1391.jpg', 'neutral_1392.jpg', 'neutral_1393.jpg', 'neutral_1394.jpg', 'neutral_1395.jpg', 'neutral_1396.jpg', 'neutral_1397.jpg', 'neutral_1398.jpg', 'neutral_1399.jpg', 'neutral_1400.jpg', 'neutral_1401.jpg', 'neutral_1402.jpg', 'neutral_1403.jpg', 'neutral_1404.jpg', 'neutral_1405.jpg', 'neutral_1406.jpg', 'neutral_1407.jpg', 'neutral_1408.jpg', 'neutral_1410.jpg', 'neutral_1411.jpg', 'neutral_1412.jpg', 'neutral_1414.jpg', 'neutral_1416.jpg', 'neutral_1419.jpg', 'neutral_1420.jpg', 'neutral_1421.jpg', 'neutral_1423.jpg', 'neutral_1425.jpg', 'neutral_1426.jpg', 'neutral_1427.jpg', 'neutral_1428.jpg', 'neutral_1429.jpg', 'neutral_1430.jpg', 'neutral_1431.jpg', 'neutral_1432.jpg', 'neutral_1433.jpg', 'neutral_1434.jpg', 'neutral_1435.jpg', 'neutral_1436.jpg', 'neutral_1437.jpg', 'neutral_1438.jpg', 'neutral_1439.jpg', 'neutral_1440.jpg', 'neutral_1441.jpg', 'neutral_1443.jpg', 'neutral_1445.jpg', 'neutral_1447.jpg', 'neutral_1448.jpg', 'neutral_1449.jpg', 'neutral_1450.jpg', 'neutral_1452.jpg', 'neutral_1453.jpg', 'neutral_1455.jpg', 'neutral_1456.jpg', 'neutral_1457.jpg', 'neutral_1458.jpg', 'neutral_1459.jpg', 'neutral_1460.jpg', 'neutral_1463.jpg', 'neutral_1464.jpg', 'neutral_1465.jpg', 'neutral_1466.jpg', 'neutral_1467.jpg', 'neutral_1469.jpg', 'neutral_1470.jpg', 'neutral_1471.jpg', 'neutral_1472.jpg', 'neutral_1473.jpg', 'neutral_1474.jpg', 'neutral_1476.jpg', 'neutral_1477.jpg', 'neutral_1478.jpg', 'neutral_1479.jpg', 'neutral_1480.jpg', 'neutral_1481.jpg', 'neutral_1482.jpg', 'neutral_1483.jpg', 'neutral_1484.jpg', 'neutral_1485.jpg', 'neutral_1486.jpg', 'neutral_1487.jpg', 'neutral_1488.jpg', 'neutral_1489.jpg', 'neutral_1491.jpg', 'neutral_1492.jpg', 'neutral_1493.jpg', 'neutral_1494.jpg', 'neutral_1495.jpg', 'neutral_1496.jpg', 'neutral_1498.jpg', 'neutral_1499.jpg', 'neutral_1500.jpg', 'neutral_1501.jpg', 'neutral_1502.jpg', 'neutral_1504.jpg', 'neutral_1505.jpg', 'neutral_1506.jpg', 'neutral_1507.jpg', 'neutral_1508.jpg', 'neutral_1509.jpg', 'neutral_1510.jpg', 'neutral_1511.jpg', 'neutral_1512.jpg', 'neutral_1514.jpg', 'neutral_1515.jpg', 'neutral_1516.jpg', 'neutral_1518.jpg', 'neutral_1520.jpg', 'neutral_1521.jpg', 'neutral_1522.jpg', 'neutral_1523.jpg', 'neutral_1524.jpg', 'neutral_1525.jpg', 'neutral_1527.jpg', 'neutral_1528.jpg', 'neutral_1529.jpg', 'neutral_1530.jpg', 'neutral_1531.jpg', 'neutral_1532.jpg', 'neutral_1533.jpg', 'neutral_1534.jpg', 'neutral_1536.jpg', 'neutral_1537.jpg', 'neutral_1538.jpg', 'neutral_1539.jpg', 'neutral_1540.jpg', 'neutral_1541.jpg', 'neutral_1542.jpg', 'neutral_1543.jpg', 'neutral_1544.jpg', 'neutral_1545.jpg', 'neutral_1546.jpg', 'neutral_1547.jpg', 'neutral_1548.jpg', 'neutral_1549.jpg', 'neutral_1550.jpg', 'neutral_1551.jpg', 'neutral_1552.jpg', 'neutral_1553.jpg', 'neutral_1554.jpg', 'neutral_1555.jpg', 'neutral_1556.jpg', 'neutral_1557.jpg', 'neutral_1559.jpg', 'neutral_1560.jpg', 'neutral_1561.jpg', 'neutral_1562.jpg', 'neutral_1563.jpg', 'neutral_1564.jpg', 'neutral_1565.jpg', 'neutral_1568.jpg', 'neutral_1569.jpg', 'neutral_1570.jpg', 'neutral_1572.jpg', 'neutral_1573.jpg', 'neutral_1574.jpg', 'neutral_1575.jpg', 'neutral_1576.jpg', 'neutral_1577.jpg', 'neutral_1578.jpg', 'neutral_1580.jpg', 'neutral_1581.jpg', 'neutral_1582.jpg', 'neutral_1583.jpg', 'neutral_1586.jpg', 'neutral_1587.jpg', 'neutral_1588.jpg', 'neutral_1589.jpg', 'neutral_1590.jpg', 'neutral_1591.jpg', 'neutral_1592.jpg', 'neutral_1594.jpg', 'neutral_1595.jpg', 'neutral_1596.jpg', 'neutral_1597.jpg', 'neutral_1598.jpg', 'neutral_1599.jpg', 'neutral_1600.jpg', 'neutral_1602.jpg', 'neutral_1603.jpg', 'neutral_1604.jpg', 'neutral_1605.jpg', 'neutral_1607.jpg', 'neutral_1608.jpg', 'neutral_1609.jpg', 'neutral_1610.jpg', 'neutral_1611.jpg', 'neutral_1612.jpg', 'neutral_1613.jpg', 'neutral_1614.jpg', 'neutral_1615.jpg', 'neutral_1616.jpg', 'neutral_1617.jpg', 'neutral_1618.jpg', 'neutral_1619.jpg', 'neutral_1620.jpg', 'neutral_1621.jpg', 'neutral_1623.jpg', 'neutral_1624.jpg', 'neutral_1626.jpg', 'neutral_1627.jpg', 'neutral_1628.jpg', 'neutral_1629.jpg', 'neutral_1630.jpg', 'neutral_1631.jpg', 'neutral_1632.jpg', 'neutral_1635.jpg', 'neutral_1636.jpg', 'neutral_1637.jpg', 'neutral_1638.jpg', 'neutral_1640.jpg', 'neutral_1641.jpg', 'neutral_1642.jpg', 'neutral_1643.jpg', 'neutral_1644.jpg', 'neutral_1645.jpg', 'neutral_1647.jpg', 'neutral_1648.jpg', 'neutral_1649.jpg', 'neutral_1650.jpg', 'neutral_1652.jpg', 'neutral_1653.jpg', 'neutral_1654.jpg', 'neutral_1655.jpg', 'neutral_1657.jpg', 'neutral_1658.jpg', 'neutral_1660.jpg', 'neutral_1661.jpg', 'neutral_1662.jpg', 'neutral_1663.jpg', 'neutral_1664.jpg', 'neutral_1666.jpg', 'neutral_1667.jpg', 'neutral_1668.jpg', 'neutral_1671.jpg', 'neutral_1672.jpg', 'neutral_1673.jpg', 'neutral_1675.jpg', 'neutral_1676.jpg', 'neutral_1677.jpg', 'neutral_1679.jpg', 'neutral_1682.jpg', 'neutral_1683.jpg', 'neutral_1684.jpg', 'neutral_1685.jpg', 'neutral_1686.jpg', 'neutral_1687.jpg', 'neutral_1689.jpg', 'neutral_1690.jpg', 'neutral_1691.jpg', 'neutral_1692.jpg', 'neutral_1696.jpg', 'neutral_1697.jpg', 'neutral_1698.jpg', 'neutral_1699.jpg', 'neutral_1700.jpg', 'neutral_1701.jpg', 'neutral_1702.jpg', 'neutral_1703.jpg', 'neutral_1704.jpg', 'neutral_1705.jpg', 'neutral_1706.jpg', 'neutral_1707.jpg', 'neutral_1708.jpg', 'neutral_1709.jpg', 'neutral_1710.jpg', 'neutral_1711.jpg', 'neutral_1713.jpg', 'neutral_1714.jpg', 'neutral_1715.jpg', 'neutral_1716.jpg', 'neutral_1717.jpg', 'neutral_1718.jpg', 'neutral_1719.jpg', 'neutral_1720.jpg', 'neutral_1722.jpg', 'neutral_1723.jpg', 'neutral_1.jpg', 'neutral_2.jpg', 'neutral_3.jpg', 'neutral_5.jpg', 'neutral_7.jpg', 'neutral_8.jpg', 'neutral_9.jpg', 'neutral_11.jpg', 'neutral_16.jpg', 'neutral_17.jpg', 'neutral_18.jpg', 'neutral_19.jpg', 'neutral_20.jpg', 'neutral_21.jpg', 'neutral_22.jpg', 'neutral_23.jpg', 'neutral_24.jpg', 'neutral_26.jpg', 'neutral_27.jpg', 'neutral_28.jpg', 'neutral_29.jpg', 'neutral_30.jpg', 'neutral_32.jpg', 'neutral_33.jpg', 'neutral_34.jpg', 'neutral_35.jpg', 'neutral_36.jpg', 'neutral_37.jpg', 'neutral_38.jpg', 'neutral_39.jpg', 'neutral_40.jpg', 'neutral_41.jpg', 'neutral_42.jpg', 'neutral_43.jpg', 'neutral_44.jpg', 'neutral_46.jpg', 'neutral_47.jpg', 'neutral_48.jpg', 'neutral_49.jpg', 'neutral_50.jpg', 'neutral_51.jpg', 'neutral_54.jpg', 'neutral_55.jpg', 'neutral_56.jpg', 'neutral_57.jpg', 'neutral_58.jpg', 'neutral_60.jpg', 'neutral_61.jpg', 'neutral_62.jpg', 'neutral_63.jpg', 'neutral_64.jpg', 'neutral_65.jpg', 'neutral_66.jpg', 'neutral_67.jpg', 'neutral_68.jpg', 'neutral_70.jpg', 'neutral_71.jpg', 'neutral_72.jpg', 'neutral_73.jpg', 'neutral_74.jpg', 'neutral_75.jpg', 'neutral_77.jpg', 'neutral_78.jpg', 'neutral_79.jpg', 'neutral_80.jpg', 'neutral_81.jpg', 'neutral_82.jpg', 'neutral_83.jpg', 'neutral_84.jpg', 'neutral_85.jpg', 'neutral_86.jpg', 'neutral_87.jpg', 'neutral_88.jpg', 'neutral_89.jpg', 'neutral_90.jpg', 'neutral_91.jpg', 'neutral_92.jpg', 'neutral_93.jpg', 'neutral_94.jpg', 'neutral_95.jpg', 'neutral_96.jpg', 'neutral_97.jpg', 'neutral_98.jpg', 'neutral_100.jpg', 'neutral_101.jpg', 'neutral_102.jpg', 'neutral_103.jpg', 'neutral_104.jpg', 'neutral_105.jpg', 'neutral_106.jpg', 'neutral_107.jpg', 'neutral_108.jpg', 'neutral_109.jpg', 'neutral_111.jpg', 'neutral_112.jpg', 'neutral_113.jpg', 'neutral_115.jpg', 'neutral_116.jpg', 'neutral_117.jpg', 'neutral_118.jpg', 'neutral_119.jpg', 'neutral_120.jpg', 'neutral_121.jpg', 'neutral_122.jpg', 'neutral_123.jpg', 'neutral_124.jpg', 'neutral_125.jpg', 'neutral_127.jpg', 'neutral_129.jpg', 'neutral_130.jpg', 'neutral_131.jpg', 'neutral_132.jpg', 'neutral_133.jpg', 'neutral_134.jpg', 'neutral_138.jpg', 'neutral_139.jpg', 'neutral_140.jpg', 'neutral_141.jpg', 'neutral_142.jpg', 'neutral_143.jpg', 'neutral_144.jpg', 'neutral_145.jpg', 'neutral_146.jpg', 'neutral_147.jpg', 'neutral_149.jpg', 'neutral_151.jpg', 'neutral_154.jpg', 'neutral_155.jpg', 'neutral_156.jpg', 'neutral_157.jpg', 'neutral_158.jpg', 'neutral_159.jpg', 'neutral_160.jpg', 'neutral_161.jpg', 'neutral_162.jpg', 'neutral_163.jpg', 'neutral_164.jpg', 'neutral_165.jpg', 'neutral_166.jpg', 'neutral_167.jpg', 'neutral_168.jpg', 'neutral_171.jpg', 'neutral_172.jpg', 'neutral_173.jpg', 'neutral_174.jpg', 'neutral_175.jpg', 'neutral_176.jpg', 'neutral_178.jpg', 'neutral_179.jpg', 'neutral_180.jpg', 'neutral_181.jpg', 'neutral_182.jpg', 'neutral_183.jpg', 'neutral_185.jpg', 'neutral_186.jpg', 'neutral_188.jpg', 'neutral_189.jpg', 'neutral_190.jpg', 'neutral_191.jpg', 'neutral_194.jpg', 'neutral_195.jpg', 'neutral_196.jpg', 'neutral_197.jpg', 'neutral_198.jpg', 'neutral_199.jpg', 'neutral_200.jpg', 'neutral_201.jpg', 'neutral_202.jpg', 'neutral_204.jpg', 'neutral_205.jpg', 'neutral_206.jpg', 'neutral_207.jpg', 'neutral_208.jpg', 'neutral_209.jpg', 'neutral_210.jpg', 'neutral_211.jpg', 'neutral_212.jpg', 'neutral_214.jpg', 'neutral_215.jpg', 'neutral_216.jpg', 'neutral_217.jpg', 'neutral_218.jpg', 'neutral_219.jpg', 'neutral_220.jpg', 'neutral_221.jpg', 'neutral_222.jpg', 'neutral_223.jpg', 'neutral_225.jpg', 'neutral_226.jpg', 'neutral_227.jpg', 'neutral_228.jpg', 'neutral_229.jpg', 'neutral_230.jpg', 'neutral_231.jpg', 'neutral_232.jpg', 'neutral_233.jpg', 'neutral_234.jpg', 'neutral_235.jpg', 'neutral_236.jpg', 'neutral_237.jpg', 'neutral_238.jpg', 'neutral_239.jpg', 'neutral_240.jpg', 'neutral_241.jpg', 'neutral_242.jpg', 'neutral_243.jpg', 'neutral_244.jpg', 'neutral_245.jpg', 'neutral_246.jpg', 'neutral_247.jpg', 'neutral_248.jpg', 'neutral_249.jpg', 'neutral_250.jpg', 'neutral_251.jpg', 'neutral_252.jpg', 'neutral_253.jpg', 'neutral_254.jpg', 'neutral_255.jpg', 'neutral_257.jpg', 'neutral_258.jpg', 'neutral_260.jpg', 'neutral_261.jpg', 'neutral_262.jpg', 'neutral_264.jpg', 'neutral_266.jpg', 'neutral_267.jpg', 'neutral_268.jpg', 'neutral_269.jpg', 'neutral_270.jpg', 'neutral_271.jpg', 'neutral_272.jpg', 'neutral_273.jpg', 'neutral_274.jpg', 'neutral_275.jpg', 'neutral_276.jpg', 'neutral_277.jpg', 'neutral_279.jpg', 'neutral_280.jpg', 'neutral_281.jpg', 'neutral_282.jpg', 'neutral_283.jpg', 'neutral_284.jpg', 'neutral_285.jpg', 'neutral_286.jpg', 'neutral_287.jpg', 'neutral_288.jpg', 'neutral_290.jpg', 'neutral_294.jpg', 'neutral_295.jpg', 'neutral_296.jpg', 'neutral_297.jpg', 'neutral_298.jpg', 'neutral_299.jpg', 'neutral_300.jpg', 'neutral_301.jpg', 'neutral_302.jpg', 'neutral_303.jpg', 'neutral_304.jpg', 'neutral_305.jpg', 'neutral_306.jpg', 'neutral_307.jpg', 'neutral_309.jpg', 'neutral_311.jpg', 'neutral_312.jpg', 'neutral_313.jpg', 'neutral_314.jpg', 'neutral_315.jpg', 'neutral_316.jpg', 'neutral_317.jpg', 'neutral_318.jpg', 'neutral_319.jpg', 'neutral_320.jpg', 'neutral_321.jpg', 'neutral_322.jpg', 'neutral_323.jpg', 'neutral_324.jpg', 'neutral_325.jpg', 'neutral_327.jpg', 'neutral_329.jpg', 'neutral_330.jpg', 'neutral_331.jpg', 'neutral_332.jpg', 'neutral_333.jpg', 'neutral_334.jpg', 'neutral_335.jpg', 'neutral_337.jpg', 'neutral_338.jpg', 'neutral_339.jpg', 'neutral_340.jpg', 'neutral_341.jpg', 'neutral_342.jpg', 'neutral_344.jpg', 'neutral_345.jpg', 'neutral_346.jpg', 'neutral_347.jpg', 'neutral_349.jpg', 'neutral_350.jpg', 'neutral_352.jpg', 'neutral_353.jpg', 'neutral_355.jpg', 'neutral_356.jpg', 'neutral_357.jpg', 'neutral_358.jpg', 'neutral_359.jpg', 'neutral_361.jpg', 'neutral_362.jpg', 'neutral_363.jpg', 'neutral_364.jpg', 'neutral_366.jpg', 'neutral_368.jpg', 'neutral_369.jpg', 'neutral_370.jpg', 'neutral_371.jpg', 'neutral_372.jpg', 'neutral_373.jpg', 'neutral_374.jpg', 'neutral_375.jpg', 'neutral_378.jpg', 'neutral_379.jpg', 'neutral_380.jpg', 'neutral_382.jpg', 'neutral_384.jpg', 'neutral_385.jpg', 'neutral_386.jpg', 'neutral_388.jpg', 'neutral_390.jpg', 'neutral_391.jpg', 'neutral_392.jpg', 'neutral_393.jpg', 'neutral_395.jpg', 'neutral_396.jpg', 'neutral_398.jpg', 'neutral_400.jpg', 'neutral_401.jpg', 'neutral_402.jpg', 'neutral_403.jpg', 'neutral_404.jpg', 'neutral_405.jpg', 'neutral_406.jpg', 'neutral_407.jpg', 'neutral_409.jpg', 'neutral_410.jpg', 'neutral_411.jpg', 'neutral_412.jpg', 'neutral_413.jpg', 'neutral_414.jpg', 'neutral_416.jpg', 'neutral_417.jpg', 'neutral_418.jpg', 'neutral_419.jpg', 'neutral_421.jpg', 'neutral_422.jpg', 'neutral_423.jpg', 'neutral_424.jpg', 'neutral_425.jpg', 'neutral_426.jpg', 'neutral_427.jpg', 'neutral_428.jpg', 'neutral_429.jpg', 'neutral_430.jpg', 'neutral_431.jpg', 'neutral_432.jpg', 'neutral_434.jpg', 'neutral_435.jpg', 'neutral_438.jpg', 'neutral_439.jpg', 'neutral_440.jpg', 'neutral_441.jpg', 'neutral_442.jpg', 'neutral_443.jpg', 'neutral_444.jpg', 'neutral_445.jpg', 'neutral_446.jpg', 'neutral_447.jpg', 'neutral_448.jpg', 'neutral_449.jpg', 'neutral_451.jpg', 'neutral_452.jpg', 'neutral_454.jpg', 'neutral_456.jpg', 'neutral_457.jpg', 'neutral_458.jpg', 'neutral_459.jpg', 'neutral_460.jpg', 'neutral_461.jpg', 'neutral_464.jpg', 'neutral_465.jpg', 'neutral_466.jpg', 'neutral_468.jpg', 'neutral_471.jpg', 'neutral_472.jpg', 'neutral_473.jpg', 'neutral_474.jpg', 'neutral_475.jpg', 'neutral_476.jpg', 'neutral_477.jpg', 'neutral_478.jpg', 'neutral_479.jpg', 'neutral_480.jpg', 'neutral_481.jpg', 'neutral_482.jpg', 'neutral_483.jpg', 'neutral_484.jpg', 'neutral_485.jpg', 'neutral_486.jpg', 'neutral_487.jpg', 'neutral_488.jpg', 'neutral_489.jpg', 'neutral_490.jpg', 'neutral_492.jpg']\n",
            "['happy_395.jpg', 'happy_397.jpg', 'happy_398.jpg', 'happy_399.jpg', 'happy_401.jpg', 'happy_403.jpg', 'happy_405.jpg', 'happy_406.jpg', 'happy_407.jpg', 'happy_408.jpg', 'happy_409.jpg', 'happy_410.jpg', 'happy_411.jpg', 'happy_412.jpg', 'happy_413.jpg', 'happy_414.jpg', 'happy_415.jpg', 'happy_416.jpg', 'happy_417.jpg', 'happy_418.jpg', 'happy_419.jpg', 'happy_420.jpg', 'happy_421.jpg', 'happy_422.jpg', 'happy_423.jpg', 'happy_424.jpg', 'happy_425.jpg', 'happy_426.jpg', 'happy_427.jpg', 'happy_428.jpg', 'happy_430.jpg', 'happy_432.jpg', 'happy_433.jpg', 'happy_435.jpg', 'happy_436.jpg', 'happy_437.jpg', 'happy_438.jpg', 'happy_439.jpg', 'happy_440.jpg', 'happy_441.jpg', 'happy_442.jpg', 'happy_443.jpg', 'happy_445.jpg', 'happy_446.jpg', 'happy_447.jpg', 'happy_448.jpg', 'happy_449.jpg', 'happy_450.jpg', 'happy_451.jpg', 'happy_452.jpg', 'happy_453.jpg', 'happy_454.jpg', 'happy_455.jpg', 'happy_457.jpg', 'happy_458.jpg', 'happy_459.jpg', 'happy_460.jpg', 'happy_462.jpg', 'happy_463.jpg', 'happy_464.jpg', 'happy_465.jpg', 'happy_466.jpg', 'happy_467.jpg', 'happy_468.jpg', 'happy_469.jpg', 'happy_472.jpg', 'happy_473.jpg', 'happy_475.jpg', 'happy_476.jpg', 'happy_477.jpg', 'happy_478.jpg', 'happy_479.jpg', 'happy_481.jpg', 'happy_483.jpg', 'happy_484.jpg', 'happy_485.jpg', 'happy_487.jpg', 'happy_488.jpg', 'happy_489.jpg', 'happy_490.jpg', 'happy_491.jpg', 'happy_492.jpg', 'happy_494.jpg', 'happy_496.jpg', 'happy_497.jpg', 'happy_499.jpg', 'happy_500.jpg', 'happy_501.jpg', 'happy_502.jpg', 'happy_503.jpg', 'happy_504.jpg', 'happy_506.jpg', 'happy_507.jpg', 'happy_508.jpg', 'happy_509.jpg', 'happy_510.jpg', 'happy_511.jpg', 'happy_512.jpg', 'happy_513.jpg', 'happy_514.jpg', 'happy_516.jpg', 'happy_518.jpg', 'happy_519.jpg', 'happy_520.jpg', 'happy_521.jpg', 'happy_522.jpg', 'happy_524.jpg', 'happy_526.jpg', 'happy_527.jpg', 'happy_528.jpg', 'happy_529.jpg', 'happy_530.jpg', 'happy_531.jpg', 'happy_532.jpg', 'happy_533.jpg', 'happy_534.jpg', 'happy_535.jpg', 'happy_536.jpg', 'happy_537.jpg', 'happy_538.jpg', 'happy_539.jpg', 'happy_540.jpg', 'happy_542.jpg', 'happy_543.jpg', 'happy_544.jpg', 'happy_545.jpg', 'happy_547.jpg', 'happy_548.jpg', 'happy_549.jpg', 'happy_550.jpg', 'happy_551.jpg', 'happy_552.jpg', 'happy_554.jpg', 'happy_556.jpg', 'happy_558.jpg', 'happy_559.jpg', 'happy_561.jpg', 'happy_563.jpg', 'happy_564.jpg', 'happy_565.jpg', 'happy_566.jpg', 'happy_567.jpg', 'happy_568.jpg', 'happy_569.jpg', 'happy_570.jpg', 'happy_571.jpg', 'happy_572.jpg', 'happy_574.jpg', 'happy_575.jpg', 'happy_576.jpg', 'happy_577.jpg', 'happy_578.jpg', 'happy_580.jpg', 'happy_581.jpg', 'happy_582.jpg', 'happy_585.jpg', 'happy_586.jpg', 'happy_587.jpg', 'happy_588.jpg', 'happy_589.jpg', 'happy_591.jpg', 'happy_592.jpg', 'happy_593.jpg', 'happy_594.jpg', 'happy_595.jpg', 'happy_597.jpg', 'happy_598.jpg', 'happy_599.jpg', 'happy_600.jpg', 'happy_601.jpg', 'happy_602.jpg', 'happy_604.jpg', 'happy_606.jpg', 'happy_607.jpg', 'happy_608.jpg', 'happy_610.jpg', 'happy_611.jpg', 'happy_612.jpg', 'happy_613.jpg', 'happy_614.jpg', 'happy_616.jpg', 'happy_617.jpg', 'happy_618.jpg', 'happy_619.jpg', 'happy_620.jpg', 'happy_621.jpg', 'happy_622.jpg', 'happy_623.jpg', 'happy_624.jpg', 'happy_625.jpg', 'happy_626.jpg', 'happy_627.jpg', 'happy_628.jpg', 'happy_631.jpg', 'happy_632.jpg', 'happy_633.jpg', 'happy_634.jpg', 'happy_636.jpg', 'happy_637.jpg', 'happy_638.jpg', 'happy_639.jpg', 'happy_640.jpg', 'happy_642.jpg', 'happy_643.jpg', 'happy_644.jpg', 'happy_645.jpg', 'happy_646.jpg', 'happy_648.jpg', 'happy_649.jpg', 'happy_650.jpg', 'happy_651.jpg', 'happy_653.jpg', 'happy_654.jpg', 'happy_655.jpg', 'happy_656.jpg', 'happy_657.jpg', 'happy_658.jpg', 'happy_659.jpg', 'happy_661.jpg', 'happy_662.jpg', 'happy_664.jpg', 'happy_667.jpg', 'happy_668.jpg', 'happy_669.jpg', 'happy_670.jpg', 'happy_671.jpg', 'happy_672.jpg', 'happy_673.jpg', 'happy_674.jpg', 'happy_675.jpg', 'happy_676.jpg', 'happy_677.jpg', 'happy_678.jpg', 'happy_679.jpg', 'happy_680.jpg', 'happy_681.jpg', 'happy_683.jpg', 'happy_684.jpg', 'happy_685.jpg', 'happy_687.jpg', 'happy_688.jpg', 'happy_689.jpg', 'happy_690.jpg', 'happy_691.jpg', 'happy_692.jpg', 'happy_695.jpg', 'happy_697.jpg', 'happy_698.jpg', 'happy_700.jpg', 'happy_702.jpg', 'happy_705.jpg', 'happy_706.jpg', 'happy_707.jpg', 'happy_708.jpg', 'happy_709.jpg', 'happy_710.jpg', 'happy_711.jpg', 'happy_714.jpg', 'happy_715.jpg', 'happy_717.jpg', 'happy_718.jpg', 'happy_719.jpg', 'happy_720.jpg', 'happy_721.jpg', 'happy_722.jpg', 'happy_723.jpg', 'happy_725.jpg', 'happy_726.jpg', 'happy_727.jpg', 'happy_729.jpg', 'happy_730.jpg', 'happy_731.jpg', 'happy_733.jpg', 'happy_734.jpg', 'happy_736.jpg', 'happy_737.jpg', 'happy_739.jpg', 'happy_740.jpg', 'happy_741.jpg', 'happy_742.jpg', 'happy_744.jpg', 'happy_745.jpg', 'happy_746.jpg', 'happy_747.jpg', 'happy_748.jpg', 'happy_749.jpg', 'happy_751.jpg', 'happy_752.jpg', 'happy_754.jpg', 'happy_756.jpg', 'happy_757.jpg', 'happy_759.jpg', 'happy_760.jpg', 'happy_762.jpg', 'happy_763.jpg', 'happy_764.jpg', 'happy_765.jpg', 'happy_766.jpg', 'happy_767.jpg', 'happy_768.jpg', 'happy_772.jpg', 'happy_774.jpg', 'happy_775.jpg', 'happy_776.jpg', 'happy_777.jpg', 'happy_778.jpg', 'happy_779.jpg', 'happy_780.jpg', 'happy_781.jpg', 'happy_784.jpg', 'happy_785.jpg', 'happy_786.jpg', 'happy_787.jpg', 'happy_789.jpg', 'happy_790.jpg', 'happy_791.jpg', 'happy_792.jpg', 'happy_793.jpg', 'happy_795.jpg', 'happy_796.jpg', 'happy_797.jpg', 'happy_798.jpg', 'happy_799.jpg', 'happy_800.jpg', 'happy_803.jpg', 'happy_804.jpg', 'happy_805.jpg', 'happy_806.jpg', 'happy_807.jpg', 'happy_808.jpg', 'happy_809.jpg', 'happy_810.jpg', 'happy_811.jpg', 'happy_812.jpg', 'happy_814.jpg', 'happy_816.jpg', 'happy_818.jpg', 'happy_819.jpg', 'happy_820.jpg', 'happy_822.jpg', 'happy_823.jpg', 'happy_824.jpg', 'happy_2158.jpg', 'happy_2159.jpg', 'happy_2160.jpg', 'happy_2161.jpg', 'happy_2162.jpg', 'happy_2163.jpg', 'happy_2165.jpg', 'happy_2166.jpg', 'happy_2167.jpg', 'happy_2169.jpg', 'happy_2171.jpg', 'happy_2174.jpg', 'happy_2175.jpg', 'happy_2176.jpg', 'happy_2177.jpg', 'happy_2178.jpg', 'happy_2179.jpg', 'happy_2180.jpg', 'happy_2181.jpg', 'happy_2182.jpg', 'happy_2183.jpg', 'happy_2184.jpg', 'happy_2185.jpg', 'happy_2186.jpg', 'happy_2187.jpg', 'happy_2188.jpg', 'happy_2189.jpg', 'happy_2190.jpg', 'happy_2191.jpg', 'happy_2192.jpg', 'happy_2193.jpg', 'happy_2194.jpg', 'happy_2196.jpg', 'happy_2197.jpg', 'happy_2198.jpg', 'happy_2199.jpg', 'happy_2200.jpg', 'happy_2202.jpg', 'happy_2203.jpg', 'happy_2205.jpg', 'happy_2206.jpg', 'happy_2207.jpg', 'happy_2212.jpg', 'happy_2214.jpg', 'happy_2215.jpg', 'happy_2218.jpg', 'happy_2219.jpg', 'happy_2220.jpg', 'happy_2221.jpg', 'happy_2222.jpg', 'happy_2223.jpg', 'happy_2225.jpg', 'happy_2226.jpg', 'happy_2227.jpg', 'happy_2228.jpg', 'happy_2230.jpg', 'happy_2231.jpg', 'happy_2232.jpg', 'happy_2234.jpg', 'happy_2235.jpg', 'happy_2237.jpg', 'happy_2238.jpg', 'happy_2239.jpg', 'happy_2240.jpg', 'happy_2241.jpg', 'happy_2242.jpg', 'happy_2243.jpg', 'happy_2244.jpg', 'happy_2245.jpg', 'happy_2246.jpg', 'happy_2247.jpg', 'happy_2248.jpg', 'happy_2249.jpg', 'happy_2250.jpg', 'happy_2251.jpg', 'happy_2252.jpg', 'happy_2253.jpg', 'happy_2254.jpg', 'happy_2255.jpg', 'happy_2256.jpg', 'happy_2257.jpg', 'happy_2259.jpg', 'happy_2260.jpg', 'happy_2261.jpg', 'happy_2262.jpg', 'happy_2263.jpg', 'happy_2264.jpg', 'happy_2265.jpg', 'happy_2266.jpg', 'happy_2267.jpg', 'happy_2268.jpg', 'happy_2269.jpg', 'happy_2270.jpg', 'happy_2273.jpg', 'happy_2274.jpg', 'happy_2275.jpg', 'happy_2276.jpg', 'happy_2277.jpg', 'happy_2278.jpg', 'happy_2279.jpg', 'happy_2280.jpg', 'happy_2281.jpg', 'happy_2283.jpg', 'happy_2284.jpg', 'happy_2287.jpg', 'happy_2289.jpg', 'happy_2290.jpg', 'happy_2291.jpg', 'happy_2292.jpg', 'happy_2293.jpg', 'happy_2295.jpg', 'happy_2296.jpg', 'happy_2297.jpg', 'happy_2300.jpg', 'happy_2301.jpg', 'happy_2302.jpg', 'happy_2303.jpg', 'happy_2304.jpg', 'happy_2305.jpg', 'happy_2306.jpg', 'happy_2307.jpg', 'happy_2308.jpg', 'happy_2310.jpg', 'happy_2311.jpg', 'happy_2312.jpg', 'happy_2313.jpg', 'happy_2314.jpg', 'happy_2315.jpg', 'happy_2316.jpg', 'happy_2317.jpg', 'happy_2319.jpg', 'happy_2321.jpg', 'happy_2322.jpg', 'happy_2325.jpg', 'happy_2326.jpg', 'happy_2327.jpg', 'happy_2328.jpg', 'happy_2329.jpg', 'happy_2330.jpg', 'happy_2331.jpg', 'happy_2332.jpg', 'happy_2333.jpg', 'happy_2334.jpg', 'happy_2335.jpg', 'happy_2336.jpg', 'happy_2337.jpg', 'happy_2338.jpg', 'happy_2339.jpg', 'happy_2340.jpg', 'happy_2341.jpg', 'happy_2342.jpg', 'happy_2344.jpg', 'happy_2345.jpg', 'happy_2346.jpg', 'happy_2347.jpg', 'happy_2348.jpg', 'happy_2349.jpg', 'happy_2350.jpg', 'happy_2351.jpg', 'happy_2352.jpg', 'happy_2353.jpg', 'happy_2355.jpg', 'happy_2356.jpg', 'happy_2357.jpg', 'happy_2358.jpg', 'happy_2359.jpg', 'happy_2360.jpg', 'happy_2361.jpg', 'happy_2362.jpg', 'happy_2364.jpg', 'happy_2365.jpg', 'happy_2367.jpg', 'happy_2369.jpg', 'happy_2370.jpg', 'happy_2371.jpg', 'happy_2372.jpg', 'happy_2373.jpg', 'happy_2376.jpg', 'happy_2377.jpg', 'happy_2378.jpg', 'happy_2380.jpg', 'happy_2381.jpg', 'happy_2382.jpg', 'happy_2383.jpg', 'happy_2385.jpg', 'happy_2386.jpg', 'happy_2387.jpg', 'happy_2389.jpg', 'happy_2390.jpg', 'happy_2391.jpg', 'happy_2393.jpg', 'happy_2394.jpg', 'happy_2395.jpg', 'happy_2397.jpg', 'happy_2398.jpg', 'happy_2399.jpg', 'happy_2401.jpg', 'happy_2403.jpg', 'happy_2405.jpg', 'happy_2406.jpg', 'happy_2407.jpg', 'happy_2408.jpg', 'happy_2409.jpg', 'happy_2410.jpg', 'happy_2411.jpg', 'happy_2412.jpg', 'happy_2413.jpg', 'happy_2414.jpg', 'happy_2415.jpg', 'happy_2416.jpg', 'happy_2417.jpg', 'happy_2418.jpg', 'happy_2419.jpg', 'happy_2420.jpg', 'happy_2421.jpg', 'happy_2422.jpg', 'happy_2423.jpg', 'happy_2424.jpg', 'happy_2425.jpg', 'happy_2426.jpg', 'happy_2427.jpg', 'happy_2428.jpg', 'happy_2430.jpg', 'happy_2432.jpg', 'happy_2433.jpg', 'happy_2435.jpg', 'happy_2436.jpg', 'happy_2437.jpg', 'happy_2438.jpg', 'happy_2439.jpg', 'happy_2440.jpg', 'happy_2441.jpg', 'happy_2442.jpg', 'happy_2443.jpg', 'happy_2445.jpg', 'happy_2446.jpg', 'happy_2447.jpg', 'happy_2448.jpg', 'happy_2449.jpg', 'happy_2450.jpg', 'happy_2451.jpg', 'happy_2452.jpg', 'happy_2453.jpg', 'happy_2454.jpg', 'happy_2455.jpg', 'happy_2457.jpg', 'happy_2458.jpg', 'happy_2459.jpg', 'happy_2460.jpg', 'happy_2462.jpg', 'happy_2463.jpg', 'happy_2464.jpg', 'happy_2465.jpg', 'happy_2466.jpg', 'happy_2467.jpg', 'happy_2468.jpg', 'happy_2469.jpg', 'happy_2472.jpg', 'happy_2473.jpg', 'happy_2475.jpg', 'happy_2476.jpg', 'happy_2477.jpg', 'happy_2478.jpg', 'happy_2479.jpg', 'happy_2481.jpg', 'happy_2483.jpg', 'happy_2484.jpg', 'happy_2485.jpg', 'happy_2487.jpg', 'happy_2488.jpg', 'happy_2489.jpg', 'happy_2490.jpg', 'happy_2491.jpg', 'happy_2492.jpg', 'happy_2494.jpg', 'happy_2496.jpg', 'happy_2497.jpg', 'happy_2499.jpg', 'happy_2500.jpg', 'happy_2501.jpg', 'happy_2502.jpg', 'happy_2503.jpg', 'happy_2504.jpg', 'happy_2506.jpg', 'happy_2507.jpg', 'happy_2508.jpg', 'happy_2509.jpg', 'happy_2510.jpg', 'happy_2511.jpg', 'happy_2512.jpg', 'happy_2513.jpg', 'happy_2514.jpg', 'happy_2516.jpg', 'happy_2518.jpg', 'happy_2519.jpg', 'happy_2520.jpg', 'happy_2521.jpg', 'happy_2522.jpg', 'happy_2524.jpg', 'happy_2526.jpg', 'happy_2527.jpg', 'happy_2528.jpg', 'happy_2529.jpg', 'happy_2530.jpg', 'happy_2531.jpg', 'happy_2532.jpg', 'happy_2533.jpg', 'happy_2534.jpg', 'happy_2535.jpg', 'happy_2536.jpg', 'happy_2537.jpg', 'happy_2538.jpg', 'happy_2539.jpg', 'happy_2540.jpg', 'happy_2542.jpg', 'happy_2543.jpg', 'happy_2544.jpg', 'happy_2545.jpg', 'happy_2547.jpg', 'happy_2548.jpg', 'happy_2549.jpg', 'happy_2550.jpg', 'happy_2551.jpg', 'happy_2552.jpg', 'happy_2554.jpg', 'happy_2556.jpg', 'happy_2558.jpg', 'happy_2559.jpg', 'happy_2561.jpg', 'happy_2563.jpg', 'happy_2564.jpg', 'happy_2565.jpg', 'happy_2566.jpg', 'happy_2567.jpg', 'happy_2568.jpg', 'happy_2569.jpg', 'happy_2570.jpg', 'happy_2571.jpg', 'happy_2572.jpg', 'happy_2574.jpg', 'happy_2575.jpg', 'happy_2576.jpg', 'happy_2577.jpg', 'happy_2578.jpg', 'happy_2580.jpg', 'happy_2581.jpg', 'happy_2582.jpg', 'happy_2585.jpg', 'happy_2586.jpg', 'happy_2587.jpg', 'happy_2588.jpg', 'happy_2589.jpg', 'happy_2591.jpg', 'happy_2592.jpg', 'happy_2593.jpg', 'happy_2594.jpg', 'happy_2595.jpg', 'happy_2597.jpg', 'happy_2598.jpg', 'happy_2599.jpg', 'happy_2600.jpg', 'happy_2601.jpg', 'happy_2602.jpg', 'happy_2604.jpg', 'happy_2606.jpg', 'happy_2607.jpg', 'happy_2608.jpg', 'happy_2610.jpg', 'happy_2611.jpg', 'happy_2612.jpg', 'happy_2613.jpg', 'happy_2614.jpg', 'happy_2616.jpg', 'happy_2617.jpg', 'happy_2618.jpg', 'happy_2619.jpg', 'happy_2620.jpg', 'happy_2621.jpg', 'happy_2622.jpg', 'happy_2623.jpg', 'happy_2624.jpg', 'happy_2625.jpg', 'happy_2626.jpg', 'happy_2627.jpg', 'happy_2628.jpg', 'happy_2631.jpg', 'happy_2632.jpg', 'happy_2633.jpg', 'happy_2634.jpg', 'happy_2636.jpg', 'happy_2637.jpg', 'happy_2638.jpg', 'happy_2639.jpg', 'happy_2640.jpg', 'happy_2642.jpg', 'happy_2643.jpg', 'happy_2644.jpg', 'happy_2645.jpg', 'happy_2646.jpg', 'happy_2648.jpg', 'happy_2649.jpg', 'happy_2650.jpg', 'happy_2651.jpg', 'happy_2653.jpg', 'happy_2654.jpg', 'happy_2655.jpg', 'happy_2656.jpg', 'happy_2657.jpg', 'happy_2658.jpg', 'happy_2659.jpg', 'happy_2661.jpg', 'happy_2662.jpg', 'happy_2664.jpg', 'happy_2667.jpg', 'happy_2668.jpg', 'happy_2669.jpg', 'happy_2670.jpg', 'happy_2671.jpg', 'happy_2672.jpg', 'happy_2673.jpg', 'happy_2674.jpg', 'happy_2675.jpg', 'happy_2676.jpg', 'happy_2677.jpg', 'happy_2678.jpg', 'happy_2679.jpg', 'happy_2680.jpg', 'happy_2681.jpg', 'happy_2683.jpg', 'happy_2684.jpg', 'happy_2685.jpg', 'happy_2687.jpg', 'happy_2688.jpg', 'happy_2689.jpg', 'happy_2690.jpg', 'happy_2691.jpg', 'happy_2692.jpg', 'happy_2695.jpg', 'happy_2697.jpg', 'happy_2698.jpg', 'happy_2700.jpg', 'happy_2702.jpg', 'happy_2705.jpg', 'happy_2706.jpg', 'happy_2707.jpg', 'happy_2708.jpg', 'happy_2709.jpg', 'happy_2710.jpg', 'happy_2711.jpg', 'happy_2714.jpg', 'happy_2715.jpg', 'happy_2717.jpg', 'happy_2718.jpg', 'happy_2719.jpg', 'happy_2720.jpg', 'happy_2721.jpg', 'happy_2722.jpg', 'happy_2723.jpg', 'happy_2725.jpg', 'happy_2726.jpg', 'happy_2727.jpg', 'happy_2729.jpg', 'happy_2730.jpg', 'happy_2731.jpg', 'happy_2733.jpg', 'happy_2734.jpg', 'happy_2736.jpg', 'happy_2737.jpg', 'happy_2739.jpg', 'happy_2740.jpg', 'happy_2741.jpg', 'happy_2742.jpg', 'happy_2744.jpg', 'happy_2745.jpg', 'happy_2746.jpg', 'happy_2747.jpg', 'happy_2748.jpg', 'happy_2749.jpg', 'happy_2751.jpg', 'happy_2752.jpg', 'happy_2754.jpg', 'happy_2756.jpg', 'happy_2757.jpg', 'happy_2759.jpg', 'happy_2760.jpg', 'happy_2762.jpg', 'happy_2763.jpg', 'happy_2764.jpg', 'happy_2765.jpg', 'happy_2766.jpg', 'happy_2767.jpg', 'happy_2768.jpg', 'happy_2772.jpg', 'happy_2774.jpg', 'happy_2775.jpg', 'happy_2776.jpg', 'happy_2777.jpg', 'happy_2778.jpg', 'happy_2779.jpg', 'happy_2780.jpg', 'happy_2781.jpg', 'happy_2784.jpg', 'happy_2785.jpg', 'happy_2786.jpg', 'happy_2787.jpg', 'happy_2789.jpg', 'happy_2790.jpg', 'happy_2791.jpg', 'happy_2792.jpg', 'happy_2793.jpg', 'happy_2795.jpg', 'happy_2796.jpg', 'happy_2797.jpg', 'happy_2798.jpg', 'happy_2799.jpg', 'happy_2800.jpg', 'happy_2803.jpg', 'happy_2804.jpg', 'happy_2805.jpg', 'happy_2806.jpg', 'happy_2807.jpg', 'happy_2808.jpg', 'happy_2809.jpg', 'happy_2810.jpg', 'happy_2811.jpg', 'happy_2812.jpg', 'happy_2814.jpg', 'happy_2816.jpg', 'happy_2818.jpg', 'happy_2819.jpg', 'happy_2820.jpg', 'happy_2822.jpg', 'happy_2823.jpg', 'happy_2824.jpg', 'happy_2825.jpg', 'happy_2827.jpg', 'happy_2828.jpg', 'happy_2830.jpg', 'happy_2831.jpg', 'happy_2833.jpg', 'happy_2835.jpg', 'happy_2836.jpg', 'happy_2837.jpg', 'happy_2838.jpg', 'happy_2840.jpg', 'happy_2843.jpg', 'happy_2847.jpg', 'happy_2848.jpg', 'happy_2849.jpg', 'happy_2850.jpg', 'happy_2851.jpg', 'happy_2853.jpg', 'happy_2854.jpg', 'happy_2855.jpg', 'happy_2856.jpg', 'happy_2857.jpg', 'happy_2858.jpg', 'happy_2859.jpg', 'happy_2860.jpg', 'happy_2861.jpg', 'happy_2862.jpg', 'happy_2863.jpg', 'happy_2864.jpg', 'happy_2865.jpg', 'happy_2866.jpg', 'happy_2868.jpg', 'happy_2869.jpg', 'happy_2875.jpg', 'happy_2876.jpg', 'happy_2877.jpg', 'happy_2878.jpg', 'happy_2879.jpg', 'happy_2880.jpg', 'happy_2881.jpg', 'happy_2882.jpg', 'happy_2883.jpg', 'happy_2884.jpg', 'happy_2885.jpg', 'happy_2886.jpg', 'happy_2887.jpg', 'happy_2888.jpg', 'happy_2889.jpg', 'happy_2890.jpg', 'happy_2891.jpg', 'happy_2892.jpg', 'happy_2893.jpg', 'happy_2894.jpg', 'happy_2895.jpg', 'happy_2896.jpg', 'happy_2897.jpg', 'happy_2898.jpg', 'happy_2899.jpg', 'happy_2900.jpg', 'happy_2901.jpg', 'happy_2903.jpg', 'happy_2911.jpg', 'happy_2912.jpg', 'happy_2913.jpg', 'happy_2914.jpg', 'happy_2915.jpg', 'happy_2916.jpg', 'happy_2917.jpg', 'happy_2918.jpg', 'happy_2919.jpg', 'happy_2920.jpg', 'happy_2921.jpg', 'happy_2922.jpg', 'happy_2923.jpg', 'happy_2924.jpg', 'happy_2925.jpg', 'happy_2926.jpg', 'happy_2927.jpg', 'happy_2934.jpg', 'happy_2940.jpg', 'happy_2943.jpg', 'happy_2944.jpg', 'happy_2947.jpg', 'happy_2948.jpg', 'happy_2949.jpg', 'happy_2950.jpg', 'happy_2951.jpg', 'happy_2952.jpg', 'happy_2953.jpg', 'happy_2954.jpg', 'happy_2955.jpg', 'happy_2956.jpg', 'happy_2957.jpg', 'happy_2958.jpg', 'happy_2959.jpg', 'happy_2960.jpg', 'happy_2961.jpg', 'happy_2962.jpg', 'happy_2963.jpg', 'happy_2964.jpg', 'happy_2965.jpg', 'happy_2966.jpg', 'happy_2967.jpg', 'happy_2968.jpg', 'happy_2969.jpg', 'happy_2970.jpg', 'happy_2972.jpg', 'happy_2973.jpg', 'happy_2974.jpg', 'happy_2975.jpg', 'happy_2976.jpg', 'happy_2977.jpg', 'happy_2978.jpg', 'happy_2979.jpg', 'happy_2980.jpg', 'happy_2988.jpg', 'happy_2989.jpg', 'happy_2992.jpg', 'happy_2993.jpg', 'happy_2994.jpg', 'happy_2995.jpg', 'happy_2996.jpg', 'happy_2999.jpg', 'happy_3000.jpg', 'happy_1283.jpg', 'happy_1284.jpg', 'happy_1285.jpg', 'happy_1287.jpg', 'happy_1288.jpg', 'happy_1289.jpg', 'happy_1290.jpg', 'happy_1293.jpg', 'happy_1294.jpg', 'happy_1296.jpg', 'happy_1297.jpg', 'happy_1298.jpg', 'happy_1300.jpg', 'happy_1301.jpg', 'happy_1302.jpg', 'happy_1304.jpg', 'happy_1306.jpg', 'happy_1307.jpg', 'happy_1308.jpg', 'happy_1309.jpg', 'happy_1310.jpg', 'happy_1311.jpg', 'happy_1312.jpg', 'happy_1313.jpg', 'happy_1314.jpg', 'happy_1316.jpg', 'happy_1319.jpg', 'happy_1320.jpg', 'happy_1321.jpg', 'happy_1322.jpg', 'happy_1323.jpg', 'happy_1324.jpg', 'happy_1325.jpg', 'happy_1326.jpg', 'happy_1327.jpg', 'happy_1328.jpg', 'happy_1329.jpg', 'happy_1330.jpg', 'happy_1331.jpg', 'happy_1334.jpg', 'happy_1336.jpg', 'happy_1337.jpg', 'happy_1338.jpg', 'happy_1339.jpg', 'happy_1340.jpg', 'happy_1341.jpg', 'happy_1342.jpg', 'happy_1343.jpg', 'happy_1344.jpg', 'happy_1347.jpg', 'happy_1349.jpg', 'happy_1350.jpg', 'happy_1351.jpg', 'happy_1352.jpg', 'happy_1353.jpg', 'happy_1354.jpg', 'happy_1355.jpg', 'happy_1357.jpg', 'happy_1358.jpg', 'happy_1359.jpg', 'happy_1362.jpg', 'happy_1363.jpg', 'happy_1365.jpg', 'happy_1366.jpg', 'happy_1367.jpg', 'happy_1368.jpg', 'happy_1369.jpg', 'happy_1371.jpg', 'happy_1372.jpg', 'happy_1373.jpg', 'happy_1374.jpg', 'happy_1375.jpg', 'happy_1376.jpg', 'happy_1377.jpg', 'happy_1378.jpg', 'happy_1381.jpg', 'happy_1383.jpg', 'happy_1385.jpg', 'happy_1386.jpg', 'happy_1390.jpg', 'happy_1392.jpg', 'happy_1393.jpg', 'happy_1395.jpg', 'happy_1396.jpg', 'happy_1397.jpg', 'happy_1398.jpg', 'happy_1399.jpg', 'happy_1400.jpg', 'happy_1402.jpg', 'happy_1404.jpg', 'happy_1406.jpg', 'happy_1409.jpg', 'happy_1410.jpg', 'happy_1411.jpg', 'happy_1412.jpg', 'happy_1413.jpg', 'happy_1414.jpg', 'happy_1415.jpg', 'happy_1416.jpg', 'happy_1417.jpg', 'happy_1420.jpg', 'happy_1421.jpg', 'happy_1422.jpg', 'happy_1423.jpg', 'happy_1424.jpg', 'happy_1425.jpg', 'happy_1427.jpg', 'happy_1428.jpg', 'happy_1429.jpg', 'happy_1430.jpg', 'happy_1431.jpg', 'happy_1432.jpg', 'happy_1433.jpg', 'happy_1434.jpg', 'happy_1435.jpg', 'happy_1436.jpg', 'happy_1437.jpg', 'happy_1439.jpg', 'happy_1440.jpg', 'happy_1441.jpg', 'happy_1442.jpg', 'happy_1443.jpg', 'happy_1444.jpg', 'happy_1446.jpg', 'happy_1447.jpg', 'happy_1448.jpg', 'happy_1450.jpg', 'happy_1451.jpg', 'happy_1452.jpg', 'happy_1453.jpg', 'happy_1454.jpg', 'happy_1455.jpg', 'happy_1456.jpg', 'happy_1457.jpg', 'happy_1458.jpg', 'happy_1459.jpg', 'happy_1460.jpg', 'happy_1461.jpg', 'happy_1463.jpg', 'happy_1464.jpg', 'happy_1465.jpg', 'happy_1466.jpg', 'happy_1467.jpg', 'happy_1468.jpg', 'happy_1469.jpg', 'happy_1470.jpg', 'happy_1472.jpg', 'happy_1473.jpg', 'happy_1475.jpg', 'happy_1476.jpg', 'happy_1478.jpg', 'happy_1479.jpg', 'happy_1480.jpg', 'happy_1481.jpg', 'happy_1482.jpg', 'happy_1484.jpg', 'happy_1486.jpg', 'happy_1488.jpg', 'happy_1490.jpg', 'happy_1491.jpg', 'happy_1492.jpg', 'happy_1493.jpg', 'happy_1494.jpg', 'happy_1495.jpg', 'happy_1496.jpg', 'happy_1497.jpg', 'happy_1498.jpg', 'happy_1499.jpg', 'happy_1500.jpg', 'happy_1501.jpg', 'happy_1502.jpg', 'happy_1503.jpg', 'happy_1504.jpg', 'happy_1505.jpg', 'happy_1506.jpg', 'happy_1507.jpg', 'happy_1508.jpg', 'happy_1509.jpg', 'happy_1510.jpg', 'happy_1511.jpg', 'happy_1512.jpg', 'happy_1513.jpg', 'happy_1514.jpg', 'happy_1515.jpg', 'happy_1516.jpg', 'happy_1519.jpg', 'happy_1521.jpg', 'happy_1523.jpg', 'happy_1524.jpg', 'happy_1525.jpg', 'happy_1529.jpg', 'happy_1530.jpg', 'happy_1531.jpg', 'happy_1532.jpg', 'happy_1534.jpg', 'happy_1535.jpg', 'happy_1536.jpg', 'happy_1537.jpg', 'happy_1538.jpg', 'happy_1539.jpg', 'happy_1540.jpg', 'happy_1541.jpg', 'happy_1542.jpg', 'happy_1544.jpg', 'happy_1545.jpg', 'happy_1546.jpg', 'happy_1547.jpg', 'happy_1548.jpg', 'happy_1549.jpg', 'happy_1550.jpg', 'happy_1551.jpg', 'happy_1552.jpg', 'happy_1555.jpg', 'happy_1557.jpg', 'happy_1558.jpg', 'happy_1559.jpg', 'happy_1560.jpg', 'happy_1561.jpg', 'happy_1562.jpg', 'happy_1563.jpg', 'happy_1564.jpg', 'happy_1565.jpg', 'happy_1566.jpg', 'happy_1567.jpg', 'happy_1569.jpg', 'happy_1570.jpg', 'happy_1572.jpg', 'happy_1573.jpg', 'happy_1574.jpg', 'happy_1575.jpg', 'happy_1576.jpg', 'happy_1578.jpg', 'happy_1579.jpg', 'happy_1580.jpg', 'happy_1581.jpg', 'happy_1582.jpg', 'happy_1583.jpg', 'happy_1584.jpg', 'happy_1585.jpg', 'happy_1586.jpg', 'happy_1587.jpg', 'happy_1588.jpg', 'happy_1589.jpg', 'happy_1590.jpg', 'happy_1591.jpg', 'happy_1592.jpg', 'happy_1593.jpg', 'happy_1594.jpg', 'happy_1595.jpg', 'happy_1596.jpg', 'happy_1597.jpg', 'happy_1598.jpg', 'happy_1600.jpg', 'happy_1601.jpg', 'happy_1602.jpg', 'happy_1603.jpg', 'happy_1604.jpg', 'happy_1605.jpg', 'happy_1606.jpg', 'happy_1607.jpg', 'happy_1609.jpg', 'happy_1611.jpg', 'happy_1612.jpg', 'happy_1614.jpg', 'happy_1616.jpg', 'happy_1617.jpg', 'happy_1618.jpg', 'happy_1620.jpg', 'happy_1621.jpg', 'happy_1622.jpg', 'happy_1623.jpg', 'happy_1624.jpg', 'happy_1625.jpg', 'happy_1626.jpg', 'happy_1627.jpg', 'happy_1628.jpg', 'happy_1629.jpg', 'happy_1630.jpg', 'happy_1632.jpg', 'happy_1633.jpg', 'happy_1634.jpg', 'happy_1635.jpg', 'happy_1636.jpg', 'happy_1637.jpg', 'happy_1638.jpg', 'happy_1639.jpg', 'happy_1640.jpg', 'happy_1641.jpg', 'happy_1642.jpg', 'happy_1643.jpg', 'happy_1644.jpg', 'happy_1645.jpg', 'happy_1646.jpg', 'happy_1647.jpg', 'happy_1648.jpg', 'happy_1649.jpg', 'happy_1650.jpg', 'happy_1651.jpg', 'happy_1652.jpg', 'happy_1653.jpg', 'happy_1654.jpg', 'happy_1656.jpg', 'happy_1657.jpg', 'happy_1658.jpg', 'happy_1659.jpg', 'happy_1660.jpg', 'happy_1662.jpg', 'happy_1663.jpg', 'happy_1664.jpg', 'happy_1665.jpg', 'happy_1666.jpg', 'happy_1670.jpg', 'happy_1671.jpg', 'happy_1672.jpg', 'happy_1673.jpg', 'happy_1676.jpg', 'happy_1677.jpg', 'happy_1678.jpg', 'happy_1679.jpg', 'happy_1680.jpg', 'happy_1681.jpg', 'happy_1682.jpg', 'happy_1683.jpg', 'happy_1684.jpg', 'happy_1685.jpg', 'happy_1687.jpg', 'happy_1688.jpg', 'happy_1689.jpg', 'happy_1690.jpg', 'happy_1691.jpg', 'happy_1692.jpg', 'happy_1693.jpg', 'happy_1694.jpg', 'happy_1696.jpg', 'happy_1697.jpg', 'happy_1698.jpg', 'happy_1699.jpg', 'happy_1700.jpg', 'happy_1702.jpg', 'happy_1703.jpg', 'happy_1704.jpg', 'happy_1705.jpg', 'happy_1706.jpg', 'happy_1707.jpg', 'happy_1708.jpg', 'happy_1709.jpg', 'happy_1711.jpg', 'happy_1712.jpg', 'happy_1713.jpg', 'happy_1714.jpg', 'happy_1715.jpg', 'happy_1716.jpg', 'happy_1717.jpg', 'happy_1718.jpg', 'happy_1719.jpg', 'happy_1720.jpg', 'happy_1721.jpg', 'happy_1722.jpg', 'happy_1723.jpg', 'happy_1724.jpg', 'happy_1725.jpg', 'happy_1726.jpg', 'happy_1727.jpg', 'happy_1730.jpg', 'happy_1732.jpg', 'happy_1733.jpg', 'happy_1736.jpg', 'happy_1737.jpg', 'happy_1739.jpg', 'happy_1740.jpg', 'happy_1741.jpg', 'happy_1742.jpg', 'happy_1743.jpg', 'happy_1744.jpg', 'happy_1745.jpg', 'happy_1747.jpg', 'happy_1748.jpg', 'happy_1750.jpg', 'happy_1751.jpg', 'happy_1752.jpg', 'happy_1754.jpg', 'happy_1755.jpg', 'happy_1756.jpg', 'happy_1757.jpg', 'happy_1758.jpg', 'happy_1759.jpg', 'happy_1760.jpg', 'happy_1761.jpg', 'happy_1763.jpg', 'happy_1764.jpg', 'happy_1765.jpg', 'happy_1767.jpg', 'happy_1770.jpg', 'happy_1771.jpg', 'happy_1773.jpg', 'happy_1775.jpg', 'happy_1776.jpg', 'happy_1778.jpg', 'happy_1779.jpg', 'happy_1781.jpg', 'happy_1783.jpg', 'happy_1784.jpg', 'happy_1786.jpg', 'happy_1787.jpg', 'happy_1788.jpg', 'happy_1790.jpg', 'happy_1791.jpg', 'happy_1792.jpg', 'happy_1793.jpg', 'happy_1794.jpg', 'happy_1795.jpg', 'happy_1797.jpg', 'happy_1798.jpg', 'happy_1799.jpg', 'happy_1800.jpg', 'happy_1801.jpg', 'happy_1802.jpg', 'happy_1803.jpg', 'happy_1804.jpg', 'happy_1805.jpg', 'happy_1808.jpg', 'happy_1809.jpg', 'happy_1810.jpg', 'happy_1811.jpg', 'happy_1813.jpg', 'happy_1814.jpg', 'happy_1816.jpg', 'happy_1817.jpg', 'happy_1819.jpg', 'happy_1820.jpg', 'happy_1821.jpg', 'happy_1822.jpg', 'happy_1823.jpg', 'happy_1824.jpg', 'happy_1826.jpg', 'happy_1827.jpg', 'happy_1828.jpg', 'happy_1829.jpg', 'happy_1832.jpg', 'happy_1833.jpg', 'happy_1834.jpg', 'happy_1835.jpg', 'happy_1836.jpg', 'happy_1837.jpg', 'happy_1838.jpg', 'happy_1840.jpg', 'happy_1841.jpg', 'happy_1842.jpg', 'happy_1843.jpg', 'happy_1844.jpg', 'happy_1846.jpg', 'happy_1847.jpg', 'happy_1848.jpg', 'happy_1849.jpg', 'happy_1850.jpg', 'happy_1851.jpg', 'happy_1852.jpg', 'happy_1853.jpg', 'happy_1858.jpg', 'happy_1860.jpg', 'happy_1861.jpg', 'happy_1863.jpg', 'happy_1864.jpg', 'happy_1865.jpg', 'happy_1866.jpg', 'happy_1867.jpg', 'happy_1868.jpg', 'happy_1869.jpg', 'happy_1870.jpg', 'happy_1871.jpg', 'happy_1872.jpg', 'happy_1874.jpg', 'happy_1875.jpg', 'happy_1876.jpg', 'happy_1877.jpg', 'happy_1878.jpg', 'happy_1879.jpg', 'happy_1880.jpg', 'happy_1881.jpg', 'happy_1882.jpg', 'happy_1883.jpg', 'happy_1884.jpg', 'happy_1885.jpg', 'happy_1886.jpg', 'happy_1887.jpg', 'happy_1888.jpg', 'happy_1889.jpg', 'happy_1892.jpg', 'happy_1894.jpg', 'happy_1895.jpg', 'happy_1896.jpg', 'happy_1897.jpg', 'happy_1898.jpg', 'happy_1900.jpg', 'happy_1901.jpg', 'happy_1902.jpg', 'happy_1904.jpg', 'happy_1905.jpg', 'happy_1906.jpg', 'happy_1907.jpg', 'happy_1908.jpg', 'happy_1910.jpg', 'happy_1912.jpg', 'happy_1913.jpg', 'happy_1914.jpg', 'happy_1915.jpg', 'happy_1916.jpg', 'happy_1917.jpg', 'happy_1918.jpg', 'happy_1922.jpg', 'happy_1923.jpg', 'happy_1924.jpg', 'happy_1927.jpg', 'happy_1928.jpg', 'happy_1929.jpg', 'happy_1931.jpg', 'happy_1932.jpg', 'happy_1933.jpg', 'happy_1934.jpg', 'happy_1935.jpg', 'happy_1936.jpg', 'happy_1937.jpg', 'happy_1938.jpg', 'happy_1939.jpg', 'happy_1940.jpg', 'happy_1941.jpg', 'happy_1942.jpg', 'happy_1945.jpg', 'happy_1946.jpg', 'happy_1947.jpg', 'happy_1949.jpg', 'happy_1950.jpg', 'happy_1951.jpg', 'happy_1952.jpg', 'happy_1953.jpg', 'happy_1954.jpg', 'happy_1955.jpg', 'happy_1956.jpg', 'happy_1957.jpg', 'happy_1958.jpg', 'happy_1961.jpg', 'happy_1962.jpg', 'happy_1963.jpg', 'happy_1964.jpg', 'happy_1967.jpg', 'happy_1969.jpg', 'happy_1970.jpg', 'happy_1973.jpg', 'happy_1975.jpg', 'happy_1981.jpg', 'happy_1984.jpg', 'happy_1985.jpg', 'happy_1986.jpg', 'happy_1987.jpg', 'happy_1988.jpg', 'happy_1989.jpg', 'happy_1990.jpg', 'happy_1992.jpg', 'happy_1994.jpg', 'happy_1995.jpg', 'happy_1997.jpg', 'happy_2000.jpg', 'happy_2002.jpg', 'happy_2003.jpg', 'happy_2004.jpg', 'happy_2005.jpg', 'happy_2007.jpg', 'happy_2008.jpg', 'happy_2009.jpg', 'happy_2010.jpg', 'happy_2011.jpg', 'happy_2012.jpg', 'happy_2013.jpg', 'happy_2014.jpg', 'happy_2015.jpg', 'happy_2017.jpg', 'happy_2018.jpg', 'happy_2019.jpg', 'happy_2021.jpg', 'happy_2023.jpg', 'happy_2024.jpg', 'happy_2025.jpg', 'happy_2026.jpg', 'happy_2027.jpg', 'happy_2028.jpg', 'happy_2029.jpg', 'happy_2030.jpg', 'happy_2032.jpg', 'happy_2033.jpg', 'happy_2034.jpg', 'happy_2035.jpg', 'happy_2036.jpg', 'happy_2037.jpg', 'happy_2039.jpg', 'happy_2040.jpg', 'happy_2041.jpg', 'happy_2042.jpg', 'happy_2043.jpg', 'happy_2046.jpg', 'happy_2047.jpg', 'happy_2048.jpg', 'happy_2049.jpg', 'happy_2050.jpg', 'happy_2051.jpg', 'happy_2052.jpg', 'happy_2054.jpg', 'happy_2055.jpg', 'happy_2059.jpg', 'happy_2062.jpg', 'happy_2068.jpg', 'happy_2069.jpg', 'happy_2071.jpg', 'happy_2072.jpg', 'happy_2073.jpg', 'happy_2074.jpg', 'happy_2075.jpg', 'happy_2076.jpg', 'happy_2077.jpg', 'happy_2078.jpg', 'happy_2079.jpg', 'happy_2081.jpg', 'happy_2083.jpg', 'happy_2084.jpg', 'happy_2085.jpg', 'happy_2088.jpg', 'happy_2089.jpg', 'happy_2090.jpg', 'happy_2091.jpg', 'happy_2092.jpg', 'happy_2093.jpg', 'happy_2094.jpg', 'happy_2095.jpg', 'happy_2096.jpg', 'happy_2097.jpg', 'happy_2098.jpg', 'happy_2099.jpg', 'happy_2102.jpg', 'happy_2103.jpg', 'happy_2105.jpg', 'happy_2106.jpg', 'happy_2108.jpg', 'happy_2110.jpg', 'happy_2112.jpg', 'happy_2113.jpg', 'happy_2115.jpg', 'happy_2116.jpg', 'happy_2117.jpg', 'happy_2119.jpg', 'happy_2122.jpg', 'happy_2124.jpg', 'happy_2126.jpg', 'happy_2127.jpg', 'happy_2129.jpg', 'happy_2130.jpg', 'happy_2131.jpg', 'happy_2133.jpg', 'happy_2134.jpg', 'happy_2135.jpg', 'happy_2136.jpg', 'happy_2140.jpg', 'happy_2141.jpg', 'happy_2142.jpg', 'happy_2143.jpg', 'happy_2144.jpg', 'happy_2145.jpg', 'happy_2146.jpg', 'happy_2148.jpg', 'happy_2150.jpg', 'happy_2152.jpg', 'happy_2153.jpg', 'happy_2154.jpg', 'happy_2155.jpg', 'happy_2157.jpg', 'happy_1.jpg', 'happy_3.jpg', 'happy_4.jpg', 'happy_5.jpg', 'happy_6.jpg', 'happy_7.jpg', 'happy_9.jpg', 'happy_10.jpg', 'happy_11.jpg', 'happy_12.jpg', 'happy_13.jpg', 'happy_14.jpg', 'happy_15.jpg', 'happy_16.jpg', 'happy_17.jpg', 'happy_18.jpg', 'happy_19.jpg', 'happy_20.jpg', 'happy_21.jpg', 'happy_22.jpg', 'happy_23.jpg', 'happy_25.jpg', 'happy_26.jpg', 'happy_27.jpg', 'happy_28.jpg', 'happy_29.jpg', 'happy_30.jpg', 'happy_31.jpg', 'happy_32.jpg', 'happy_33.jpg', 'happy_34.jpg', 'happy_35.jpg', 'happy_36.jpg', 'happy_38.jpg', 'happy_40.jpg', 'happy_41.jpg', 'happy_42.jpg', 'happy_44.jpg', 'happy_46.jpg', 'happy_48.jpg', 'happy_49.jpg', 'happy_50.jpg', 'happy_51.jpg', 'happy_52.jpg', 'happy_53.jpg', 'happy_54.jpg', 'happy_55.jpg', 'happy_56.jpg', 'happy_57.jpg', 'happy_58.jpg', 'happy_59.jpg', 'happy_60.jpg', 'happy_61.jpg', 'happy_62.jpg', 'happy_63.jpg', 'happy_64.jpg', 'happy_65.jpg', 'happy_66.jpg', 'happy_67.jpg', 'happy_69.jpg', 'happy_70.jpg', 'happy_71.jpg', 'happy_74.jpg', 'happy_75.jpg', 'happy_76.jpg', 'happy_77.jpg', 'happy_78.jpg', 'happy_79.jpg', 'happy_80.jpg', 'happy_81.jpg', 'happy_83.jpg', 'happy_84.jpg', 'happy_85.jpg', 'happy_86.jpg', 'happy_87.jpg', 'happy_88.jpg', 'happy_89.jpg', 'happy_91.jpg', 'happy_92.jpg', 'happy_93.jpg', 'happy_94.jpg', 'happy_95.jpg', 'happy_96.jpg', 'happy_97.jpg', 'happy_98.jpg', 'happy_99.jpg', 'happy_100.jpg', 'happy_102.jpg', 'happy_103.jpg', 'happy_104.jpg', 'happy_105.jpg', 'happy_106.jpg', 'happy_110.jpg', 'happy_111.jpg', 'happy_113.jpg', 'happy_114.jpg', 'happy_115.jpg', 'happy_116.jpg', 'happy_117.jpg', 'happy_118.jpg', 'happy_120.jpg', 'happy_121.jpg', 'happy_122.jpg', 'happy_124.jpg', 'happy_126.jpg', 'happy_127.jpg', 'happy_128.jpg', 'happy_129.jpg', 'happy_130.jpg', 'happy_131.jpg', 'happy_132.jpg', 'happy_133.jpg', 'happy_134.jpg', 'happy_135.jpg', 'happy_136.jpg', 'happy_138.jpg', 'happy_139.jpg', 'happy_140.jpg', 'happy_141.jpg', 'happy_142.jpg', 'happy_143.jpg', 'happy_144.jpg', 'happy_145.jpg', 'happy_146.jpg', 'happy_147.jpg', 'happy_148.jpg', 'happy_149.jpg', 'happy_150.jpg', 'happy_151.jpg', 'happy_152.jpg', 'happy_153.jpg', 'happy_154.jpg', 'happy_155.jpg', 'happy_156.jpg', 'happy_157.jpg', 'happy_158.jpg', 'happy_159.jpg', 'happy_160.jpg', 'happy_161.jpg', 'happy_162.jpg', 'happy_163.jpg', 'happy_165.jpg', 'happy_166.jpg', 'happy_167.jpg', 'happy_169.jpg', 'happy_171.jpg', 'happy_174.jpg', 'happy_175.jpg', 'happy_176.jpg', 'happy_177.jpg', 'happy_178.jpg', 'happy_179.jpg', 'happy_180.jpg', 'happy_181.jpg', 'happy_182.jpg', 'happy_183.jpg', 'happy_184.jpg', 'happy_185.jpg', 'happy_186.jpg', 'happy_187.jpg', 'happy_188.jpg', 'happy_189.jpg', 'happy_190.jpg', 'happy_191.jpg', 'happy_192.jpg', 'happy_193.jpg', 'happy_194.jpg', 'happy_196.jpg', 'happy_197.jpg', 'happy_198.jpg', 'happy_199.jpg', 'happy_200.jpg', 'happy_202.jpg', 'happy_203.jpg', 'happy_205.jpg', 'happy_206.jpg', 'happy_207.jpg', 'happy_212.jpg', 'happy_214.jpg', 'happy_215.jpg', 'happy_218.jpg', 'happy_219.jpg', 'happy_220.jpg', 'happy_221.jpg', 'happy_222.jpg', 'happy_223.jpg', 'happy_225.jpg', 'happy_226.jpg', 'happy_227.jpg', 'happy_228.jpg', 'happy_230.jpg', 'happy_231.jpg', 'happy_232.jpg', 'happy_234.jpg', 'happy_235.jpg', 'happy_237.jpg', 'happy_238.jpg', 'happy_239.jpg', 'happy_240.jpg', 'happy_241.jpg', 'happy_242.jpg', 'happy_243.jpg', 'happy_244.jpg', 'happy_245.jpg', 'happy_246.jpg', 'happy_247.jpg', 'happy_248.jpg', 'happy_249.jpg', 'happy_250.jpg', 'happy_251.jpg', 'happy_252.jpg', 'happy_253.jpg', 'happy_254.jpg', 'happy_255.jpg', 'happy_256.jpg', 'happy_257.jpg', 'happy_259.jpg', 'happy_260.jpg', 'happy_261.jpg', 'happy_262.jpg', 'happy_263.jpg', 'happy_264.jpg', 'happy_265.jpg', 'happy_266.jpg', 'happy_267.jpg', 'happy_268.jpg', 'happy_269.jpg', 'happy_270.jpg', 'happy_273.jpg', 'happy_274.jpg', 'happy_275.jpg', 'happy_276.jpg', 'happy_277.jpg', 'happy_278.jpg', 'happy_279.jpg', 'happy_280.jpg', 'happy_281.jpg', 'happy_283.jpg', 'happy_284.jpg', 'happy_287.jpg', 'happy_289.jpg', 'happy_290.jpg', 'happy_291.jpg', 'happy_292.jpg', 'happy_293.jpg', 'happy_295.jpg', 'happy_296.jpg', 'happy_297.jpg', 'happy_300.jpg', 'happy_301.jpg', 'happy_302.jpg', 'happy_303.jpg', 'happy_304.jpg', 'happy_305.jpg', 'happy_306.jpg', 'happy_307.jpg', 'happy_308.jpg', 'happy_310.jpg', 'happy_311.jpg', 'happy_312.jpg', 'happy_313.jpg', 'happy_314.jpg', 'happy_315.jpg', 'happy_316.jpg', 'happy_317.jpg', 'happy_319.jpg', 'happy_321.jpg', 'happy_322.jpg', 'happy_325.jpg', 'happy_326.jpg', 'happy_327.jpg', 'happy_328.jpg', 'happy_329.jpg', 'happy_330.jpg', 'happy_331.jpg', 'happy_332.jpg', 'happy_333.jpg', 'happy_334.jpg', 'happy_335.jpg', 'happy_336.jpg', 'happy_337.jpg', 'happy_338.jpg', 'happy_339.jpg', 'happy_340.jpg', 'happy_341.jpg', 'happy_342.jpg', 'happy_344.jpg', 'happy_345.jpg', 'happy_346.jpg', 'happy_347.jpg', 'happy_348.jpg', 'happy_349.jpg', 'happy_350.jpg', 'happy_351.jpg', 'happy_352.jpg', 'happy_353.jpg', 'happy_355.jpg', 'happy_356.jpg', 'happy_357.jpg', 'happy_358.jpg', 'happy_359.jpg', 'happy_360.jpg', 'happy_361.jpg', 'happy_362.jpg', 'happy_364.jpg', 'happy_365.jpg', 'happy_367.jpg', 'happy_369.jpg', 'happy_370.jpg', 'happy_371.jpg', 'happy_372.jpg', 'happy_373.jpg', 'happy_376.jpg', 'happy_377.jpg', 'happy_378.jpg', 'happy_380.jpg', 'happy_381.jpg', 'happy_382.jpg', 'happy_383.jpg', 'happy_385.jpg', 'happy_386.jpg', 'happy_387.jpg', 'happy_389.jpg', 'happy_390.jpg', 'happy_391.jpg', 'happy_393.jpg', 'happy_394.jpg', 'happy_825.jpg', 'happy_827.jpg', 'happy_828.jpg', 'happy_830.jpg', 'happy_831.jpg', 'happy_833.jpg', 'happy_835.jpg', 'happy_836.jpg', 'happy_837.jpg', 'happy_838.jpg', 'happy_840.jpg', 'happy_843.jpg', 'happy_847.jpg', 'happy_848.jpg', 'happy_849.jpg', 'happy_850.jpg', 'happy_851.jpg', 'happy_853.jpg', 'happy_854.jpg', 'happy_855.jpg', 'happy_856.jpg', 'happy_857.jpg', 'happy_858.jpg', 'happy_859.jpg', 'happy_860.jpg', 'happy_861.jpg', 'happy_862.jpg', 'happy_863.jpg', 'happy_864.jpg', 'happy_865.jpg', 'happy_866.jpg', 'happy_868.jpg', 'happy_869.jpg', 'happy_875.jpg', 'happy_876.jpg', 'happy_877.jpg', 'happy_878.jpg', 'happy_879.jpg', 'happy_880.jpg', 'happy_881.jpg', 'happy_882.jpg', 'happy_883.jpg', 'happy_884.jpg', 'happy_885.jpg', 'happy_886.jpg', 'happy_887.jpg', 'happy_888.jpg', 'happy_889.jpg', 'happy_890.jpg', 'happy_891.jpg', 'happy_892.jpg', 'happy_893.jpg', 'happy_894.jpg', 'happy_895.jpg', 'happy_896.jpg', 'happy_897.jpg', 'happy_898.jpg', 'happy_899.jpg', 'happy_900.jpg', 'happy_901.jpg', 'happy_903.jpg', 'happy_911.jpg', 'happy_912.jpg', 'happy_913.jpg', 'happy_914.jpg', 'happy_915.jpg', 'happy_916.jpg', 'happy_917.jpg', 'happy_918.jpg', 'happy_919.jpg', 'happy_920.jpg', 'happy_921.jpg', 'happy_922.jpg', 'happy_923.jpg', 'happy_924.jpg', 'happy_925.jpg', 'happy_926.jpg', 'happy_927.jpg', 'happy_934.jpg', 'happy_940.jpg', 'happy_943.jpg', 'happy_944.jpg', 'happy_947.jpg', 'happy_948.jpg', 'happy_949.jpg', 'happy_950.jpg', 'happy_951.jpg', 'happy_952.jpg', 'happy_953.jpg', 'happy_954.jpg', 'happy_955.jpg', 'happy_956.jpg', 'happy_957.jpg', 'happy_958.jpg', 'happy_959.jpg', 'happy_960.jpg', 'happy_961.jpg', 'happy_962.jpg', 'happy_963.jpg', 'happy_964.jpg', 'happy_965.jpg', 'happy_966.jpg', 'happy_967.jpg', 'happy_968.jpg', 'happy_969.jpg', 'happy_970.jpg', 'happy_972.jpg', 'happy_973.jpg', 'happy_974.jpg', 'happy_975.jpg', 'happy_976.jpg', 'happy_977.jpg', 'happy_978.jpg', 'happy_979.jpg', 'happy_980.jpg', 'happy_988.jpg', 'happy_989.jpg', 'happy_992.jpg', 'happy_993.jpg', 'happy_994.jpg', 'happy_995.jpg', 'happy_996.jpg', 'happy_999.jpg', 'happy_1000.jpg', 'happy_1001.jpg', 'happy_1002.jpg', 'happy_1003.jpg', 'happy_1005.jpg', 'happy_1007.jpg', 'happy_1009.jpg', 'happy_1010.jpg', 'happy_1011.jpg', 'happy_1012.jpg', 'happy_1013.jpg', 'happy_1014.jpg', 'happy_1015.jpg', 'happy_1016.jpg', 'happy_1019.jpg', 'happy_1020.jpg', 'happy_1021.jpg', 'happy_1023.jpg', 'happy_1024.jpg', 'happy_1027.jpg', 'happy_1028.jpg', 'happy_1031.jpg', 'happy_1032.jpg', 'happy_1033.jpg', 'happy_1034.jpg', 'happy_1036.jpg', 'happy_1037.jpg', 'happy_1039.jpg', 'happy_1040.jpg', 'happy_1041.jpg', 'happy_1043.jpg', 'happy_1044.jpg', 'happy_1045.jpg', 'happy_1046.jpg', 'happy_1048.jpg', 'happy_1049.jpg', 'happy_1051.jpg', 'happy_1052.jpg', 'happy_1054.jpg', 'happy_1055.jpg', 'happy_1058.jpg', 'happy_1059.jpg', 'happy_1060.jpg', 'happy_1061.jpg', 'happy_1062.jpg', 'happy_1064.jpg', 'happy_1065.jpg', 'happy_1066.jpg', 'happy_1067.jpg', 'happy_1068.jpg', 'happy_1070.jpg', 'happy_1071.jpg', 'happy_1072.jpg', 'happy_1073.jpg', 'happy_1074.jpg', 'happy_1077.jpg', 'happy_1078.jpg', 'happy_1079.jpg', 'happy_1081.jpg', 'happy_1082.jpg', 'happy_1083.jpg', 'happy_1084.jpg', 'happy_1085.jpg', 'happy_1086.jpg', 'happy_1087.jpg', 'happy_1088.jpg', 'happy_1090.jpg', 'happy_1091.jpg', 'happy_1093.jpg', 'happy_1094.jpg', 'happy_1095.jpg', 'happy_1096.jpg', 'happy_1097.jpg', 'happy_1098.jpg', 'happy_1099.jpg', 'happy_1100.jpg', 'happy_1101.jpg', 'happy_1102.jpg', 'happy_1103.jpg', 'happy_1104.jpg', 'happy_1107.jpg', 'happy_1108.jpg', 'happy_1110.jpg', 'happy_1111.jpg', 'happy_1112.jpg', 'happy_1113.jpg', 'happy_1114.jpg', 'happy_1116.jpg', 'happy_1117.jpg', 'happy_1118.jpg', 'happy_1119.jpg', 'happy_1120.jpg', 'happy_1121.jpg', 'happy_1122.jpg', 'happy_1124.jpg', 'happy_1125.jpg', 'happy_1126.jpg', 'happy_1127.jpg', 'happy_1128.jpg', 'happy_1129.jpg', 'happy_1130.jpg', 'happy_1131.jpg', 'happy_1132.jpg', 'happy_1133.jpg', 'happy_1134.jpg', 'happy_1136.jpg', 'happy_1137.jpg', 'happy_1138.jpg', 'happy_1139.jpg', 'happy_1140.jpg', 'happy_1141.jpg', 'happy_1142.jpg', 'happy_1148.jpg', 'happy_1149.jpg', 'happy_1151.jpg', 'happy_1152.jpg', 'happy_1153.jpg', 'happy_1154.jpg', 'happy_1155.jpg', 'happy_1156.jpg', 'happy_1160.jpg', 'happy_1161.jpg', 'happy_1163.jpg', 'happy_1165.jpg', 'happy_1168.jpg', 'happy_1170.jpg', 'happy_1171.jpg', 'happy_1172.jpg', 'happy_1175.jpg', 'happy_1177.jpg', 'happy_1178.jpg', 'happy_1179.jpg', 'happy_1180.jpg', 'happy_1182.jpg', 'happy_1185.jpg', 'happy_1186.jpg', 'happy_1188.jpg', 'happy_1189.jpg', 'happy_1190.jpg', 'happy_1194.jpg', 'happy_1195.jpg', 'happy_1196.jpg', 'happy_1197.jpg', 'happy_1199.jpg', 'happy_1200.jpg', 'happy_1201.jpg', 'happy_1202.jpg', 'happy_1203.jpg', 'happy_1204.jpg', 'happy_1205.jpg', 'happy_1206.jpg', 'happy_1210.jpg', 'happy_1211.jpg', 'happy_1212.jpg', 'happy_1213.jpg', 'happy_1214.jpg', 'happy_1216.jpg', 'happy_1217.jpg', 'happy_1219.jpg', 'happy_1221.jpg', 'happy_1222.jpg', 'happy_1223.jpg', 'happy_1224.jpg', 'happy_1225.jpg', 'happy_1226.jpg', 'happy_1227.jpg', 'happy_1228.jpg', 'happy_1229.jpg', 'happy_1231.jpg', 'happy_1235.jpg', 'happy_1236.jpg', 'happy_1238.jpg', 'happy_1241.jpg', 'happy_1242.jpg', 'happy_1243.jpg', 'happy_1245.jpg', 'happy_1246.jpg', 'happy_1247.jpg', 'happy_1248.jpg', 'happy_1250.jpg', 'happy_1251.jpg', 'happy_1252.jpg', 'happy_1253.jpg', 'happy_1254.jpg', 'happy_1255.jpg', 'happy_1256.jpg', 'happy_1257.jpg', 'happy_1258.jpg', 'happy_1259.jpg', 'happy_1260.jpg', 'happy_1261.jpg', 'happy_1262.jpg', 'happy_1263.jpg', 'happy_1264.jpg', 'happy_1266.jpg', 'happy_1268.jpg', 'happy_1269.jpg', 'happy_1270.jpg', 'happy_1271.jpg', 'happy_1273.jpg', 'happy_1274.jpg', 'happy_1275.jpg', 'happy_1276.jpg', 'happy_1278.jpg']\n"
          ]
        }
      ],
      "source": [
        "class_labels = []\n",
        "\n",
        "for item in dataset_path:\n",
        "  all_classes = os.listdir('/content/drive/MyDrive/three_final'+'/' + item)\n",
        "  print(all_classes)\n",
        "\n",
        "  for room in all_classes:\n",
        "    class_labels.append((item, str('/content/drive/MyDrive/three_final' + '/' + item) + '/' + room))"
      ]
    },
    {
      "cell_type": "code",
      "execution_count": null,
      "metadata": {
        "colab": {
          "base_uri": "https://localhost:8080/"
        },
        "id": "KPRaUdSc6jcM",
        "outputId": "d839a81d-3bcb-4d3f-a758-979fde503609"
      },
      "outputs": [
        {
          "output_type": "stream",
          "name": "stdout",
          "text": [
            "  Labels                                              image\n",
            "0    sad  /content/drive/MyDrive/three_final/sad/sad_159...\n",
            "1    sad  /content/drive/MyDrive/three_final/sad/sad_159...\n",
            "2    sad  /content/drive/MyDrive/three_final/sad/sad_159...\n",
            "3    sad  /content/drive/MyDrive/three_final/sad/sad_159...\n",
            "4    sad  /content/drive/MyDrive/three_final/sad/sad_159...\n"
          ]
        }
      ],
      "source": [
        "df = pd.DataFrame(data = class_labels, columns = ['Labels', 'image'])\n",
        "print(df.head())"
      ]
    },
    {
      "cell_type": "code",
      "execution_count": null,
      "metadata": {
        "id": "vkCGYSdw6jhz",
        "colab": {
          "base_uri": "https://localhost:8080/",
          "height": 206
        },
        "outputId": "c218275d-c253-4b69-aef2-dccc500eb266"
      },
      "outputs": [
        {
          "output_type": "execute_result",
          "data": {
            "text/plain": [
              "     Labels                                              image\n",
              "6976  happy  /content/drive/MyDrive/three_final/happy/happy...\n",
              "6977  happy  /content/drive/MyDrive/three_final/happy/happy...\n",
              "6978  happy  /content/drive/MyDrive/three_final/happy/happy...\n",
              "6979  happy  /content/drive/MyDrive/three_final/happy/happy...\n",
              "6980  happy  /content/drive/MyDrive/three_final/happy/happy..."
            ],
            "text/html": [
              "\n",
              "  <div id=\"df-67bc250c-9d64-4377-a584-af797f6d04ab\">\n",
              "    <div class=\"colab-df-container\">\n",
              "      <div>\n",
              "<style scoped>\n",
              "    .dataframe tbody tr th:only-of-type {\n",
              "        vertical-align: middle;\n",
              "    }\n",
              "\n",
              "    .dataframe tbody tr th {\n",
              "        vertical-align: top;\n",
              "    }\n",
              "\n",
              "    .dataframe thead th {\n",
              "        text-align: right;\n",
              "    }\n",
              "</style>\n",
              "<table border=\"1\" class=\"dataframe\">\n",
              "  <thead>\n",
              "    <tr style=\"text-align: right;\">\n",
              "      <th></th>\n",
              "      <th>Labels</th>\n",
              "      <th>image</th>\n",
              "    </tr>\n",
              "  </thead>\n",
              "  <tbody>\n",
              "    <tr>\n",
              "      <th>6976</th>\n",
              "      <td>happy</td>\n",
              "      <td>/content/drive/MyDrive/three_final/happy/happy...</td>\n",
              "    </tr>\n",
              "    <tr>\n",
              "      <th>6977</th>\n",
              "      <td>happy</td>\n",
              "      <td>/content/drive/MyDrive/three_final/happy/happy...</td>\n",
              "    </tr>\n",
              "    <tr>\n",
              "      <th>6978</th>\n",
              "      <td>happy</td>\n",
              "      <td>/content/drive/MyDrive/three_final/happy/happy...</td>\n",
              "    </tr>\n",
              "    <tr>\n",
              "      <th>6979</th>\n",
              "      <td>happy</td>\n",
              "      <td>/content/drive/MyDrive/three_final/happy/happy...</td>\n",
              "    </tr>\n",
              "    <tr>\n",
              "      <th>6980</th>\n",
              "      <td>happy</td>\n",
              "      <td>/content/drive/MyDrive/three_final/happy/happy...</td>\n",
              "    </tr>\n",
              "  </tbody>\n",
              "</table>\n",
              "</div>\n",
              "      <button class=\"colab-df-convert\" onclick=\"convertToInteractive('df-67bc250c-9d64-4377-a584-af797f6d04ab')\"\n",
              "              title=\"Convert this dataframe to an interactive table.\"\n",
              "              style=\"display:none;\">\n",
              "        \n",
              "  <svg xmlns=\"http://www.w3.org/2000/svg\" height=\"24px\"viewBox=\"0 0 24 24\"\n",
              "       width=\"24px\">\n",
              "    <path d=\"M0 0h24v24H0V0z\" fill=\"none\"/>\n",
              "    <path d=\"M18.56 5.44l.94 2.06.94-2.06 2.06-.94-2.06-.94-.94-2.06-.94 2.06-2.06.94zm-11 1L8.5 8.5l.94-2.06 2.06-.94-2.06-.94L8.5 2.5l-.94 2.06-2.06.94zm10 10l.94 2.06.94-2.06 2.06-.94-2.06-.94-.94-2.06-.94 2.06-2.06.94z\"/><path d=\"M17.41 7.96l-1.37-1.37c-.4-.4-.92-.59-1.43-.59-.52 0-1.04.2-1.43.59L10.3 9.45l-7.72 7.72c-.78.78-.78 2.05 0 2.83L4 21.41c.39.39.9.59 1.41.59.51 0 1.02-.2 1.41-.59l7.78-7.78 2.81-2.81c.8-.78.8-2.07 0-2.86zM5.41 20L4 18.59l7.72-7.72 1.47 1.35L5.41 20z\"/>\n",
              "  </svg>\n",
              "      </button>\n",
              "      \n",
              "  <style>\n",
              "    .colab-df-container {\n",
              "      display:flex;\n",
              "      flex-wrap:wrap;\n",
              "      gap: 12px;\n",
              "    }\n",
              "\n",
              "    .colab-df-convert {\n",
              "      background-color: #E8F0FE;\n",
              "      border: none;\n",
              "      border-radius: 50%;\n",
              "      cursor: pointer;\n",
              "      display: none;\n",
              "      fill: #1967D2;\n",
              "      height: 32px;\n",
              "      padding: 0 0 0 0;\n",
              "      width: 32px;\n",
              "    }\n",
              "\n",
              "    .colab-df-convert:hover {\n",
              "      background-color: #E2EBFA;\n",
              "      box-shadow: 0px 1px 2px rgba(60, 64, 67, 0.3), 0px 1px 3px 1px rgba(60, 64, 67, 0.15);\n",
              "      fill: #174EA6;\n",
              "    }\n",
              "\n",
              "    [theme=dark] .colab-df-convert {\n",
              "      background-color: #3B4455;\n",
              "      fill: #D2E3FC;\n",
              "    }\n",
              "\n",
              "    [theme=dark] .colab-df-convert:hover {\n",
              "      background-color: #434B5C;\n",
              "      box-shadow: 0px 1px 3px 1px rgba(0, 0, 0, 0.15);\n",
              "      filter: drop-shadow(0px 1px 2px rgba(0, 0, 0, 0.3));\n",
              "      fill: #FFFFFF;\n",
              "    }\n",
              "  </style>\n",
              "\n",
              "      <script>\n",
              "        const buttonEl =\n",
              "          document.querySelector('#df-67bc250c-9d64-4377-a584-af797f6d04ab button.colab-df-convert');\n",
              "        buttonEl.style.display =\n",
              "          google.colab.kernel.accessAllowed ? 'block' : 'none';\n",
              "\n",
              "        async function convertToInteractive(key) {\n",
              "          const element = document.querySelector('#df-67bc250c-9d64-4377-a584-af797f6d04ab');\n",
              "          const dataTable =\n",
              "            await google.colab.kernel.invokeFunction('convertToInteractive',\n",
              "                                                     [key], {});\n",
              "          if (!dataTable) return;\n",
              "\n",
              "          const docLinkHtml = 'Like what you see? Visit the ' +\n",
              "            '<a target=\"_blank\" href=https://colab.research.google.com/notebooks/data_table.ipynb>data table notebook</a>'\n",
              "            + ' to learn more about interactive tables.';\n",
              "          element.innerHTML = '';\n",
              "          dataTable['output_type'] = 'display_data';\n",
              "          await google.colab.output.renderOutput(dataTable, element);\n",
              "          const docLink = document.createElement('div');\n",
              "          docLink.innerHTML = docLinkHtml;\n",
              "          element.appendChild(docLink);\n",
              "        }\n",
              "      </script>\n",
              "    </div>\n",
              "  </div>\n",
              "  "
            ]
          },
          "metadata": {},
          "execution_count": 10
        }
      ],
      "source": [
        "df.tail()"
      ]
    },
    {
      "cell_type": "code",
      "execution_count": null,
      "metadata": {
        "id": "vcUg4fxz_lic"
      },
      "outputs": [],
      "source": [
        "# augmentation\n",
        "# def show_aug_image(image, generator, n_images=4):\n",
        "\n",
        "#     # ImageDataGenerator는 여러개의 image를 입력으로 받기 때문에 4차원으로 입력 해야함.\n",
        "#     image_batch = np.expand_dims(image, axis=0)\n",
        "\n",
        "#     # featurewise_center or featurewise_std_normalization or zca_whitening 가 True일때만 fit 해주어야함\n",
        "#     generator.fit(image_batch)\n",
        "\n",
        "#     # flow로 image batch를 generator에 넣어주어야함.\n",
        "#     data_gen_iter = generator.flow(image_batch)\n",
        "\n",
        "#     fig, axs = plt.subplots(nrows=1, ncols=n_images, figsize=(24, 8))\n",
        "\n",
        "#     for i in range(n_images):\n",
        "#     \t#generator에 batch size 만큼 augmentation 적용(매번 적용이 다름)\n",
        "#         aug_image_batch = next(data_gen_iter)\n",
        "#         aug_image = np.squeeze(aug_image_batch)\n",
        "#         aug_image = aug_image.astype('int')\n",
        "#         axs[i].imshow(aug_image)\n",
        "\n",
        "# data_generator = ImageDataGenerator(\n",
        "#     horizontal_flip=True,\n",
        "#     rotation_range=20,\n",
        "#     brightness_range=(0.7, 1.3),\n",
        "#     zoom_range=[0.5, 1.1])\n",
        "# show_aug_image(image, data_generator, n_images=4)"
      ]
    },
    {
      "cell_type": "code",
      "execution_count": null,
      "metadata": {
        "id": "phsXeKNq_mGZ"
      },
      "outputs": [],
      "source": []
    },
    {
      "cell_type": "code",
      "execution_count": null,
      "metadata": {
        "id": "noWYF-L0D2Xx"
      },
      "outputs": [],
      "source": [
        "# from PIL import Image\n",
        "\n",
        "# image1 = Image.open('/content/drive/MyDrive/datacapstone/sad/01da087c8d1c47e1a4af2af82aea34a7.jpg')\n",
        "\n",
        "# image1.show()\n",
        "\n",
        "# imag1_size = image1.size\n",
        "\n",
        "# print(imag1_size)\n"
      ]
    },
    {
      "cell_type": "code",
      "execution_count": null,
      "metadata": {
        "colab": {
          "base_uri": "https://localhost:8080/"
        },
        "id": "J7lof_r0EgCl",
        "outputId": "0dd3152a-f939-43f6-d1d5-e9c7b610ec49"
      },
      "outputs": [
        {
          "output_type": "stream",
          "name": "stdout",
          "text": [
            "total num of images in the dataset :  6981\n",
            "neutral    2410\n",
            "happy      2327\n",
            "sad        2244\n",
            "Name: Labels, dtype: int64\n"
          ]
        }
      ],
      "source": [
        "print('total num of images in the dataset : ', len(df))\n",
        "\n",
        "label_count = df['Labels'].value_counts()\n",
        "print(label_count)"
      ]
    },
    {
      "cell_type": "code",
      "execution_count": null,
      "metadata": {
        "id": "YxmlwIPyEgE2"
      },
      "outputs": [],
      "source": [
        "import cv2\n",
        "path = '/content/drive/MyDrive/three_final/'\n",
        "dataset_path = os.listdir('/content/drive/MyDrive/three_final/')\n",
        "\n",
        "im_size = 224\n",
        "\n",
        "images = []\n",
        "labels = []\n",
        "\n",
        "for i in dataset_path:\n",
        "  data_path = path + str(i)\n",
        "  filenames = [i for i in os.listdir(data_path)]\n",
        "\n",
        "  for f in filenames:\n",
        "    img = cv2.imread(data_path +'/' + f)\n",
        "    img = cv2.resize(img, (im_size, im_size))\n",
        "    images.append(img)\n",
        "    labels.append(i)"
      ]
    },
    {
      "cell_type": "code",
      "execution_count": null,
      "metadata": {
        "id": "p7mEEJ_X5lE-"
      },
      "outputs": [],
      "source": [
        "# plt.imshow(images[3000])\n",
        "# plt.show"
      ]
    },
    {
      "cell_type": "code",
      "execution_count": null,
      "metadata": {
        "id": "52dDyx7jEgHE",
        "colab": {
          "base_uri": "https://localhost:8080/"
        },
        "outputId": "b521ba19-b48c-48fb-f507-7dea29b19e23"
      },
      "outputs": [
        {
          "output_type": "execute_result",
          "data": {
            "text/plain": [
              "(6981, 224, 224, 3)"
            ]
          },
          "metadata": {},
          "execution_count": 16
        }
      ],
      "source": [
        "images = np.array(images)\n",
        "images = images.astype('float32') / 255.0\n",
        "images.shape"
      ]
    },
    {
      "cell_type": "code",
      "source": [
        "images[5].shape"
      ],
      "metadata": {
        "id": "orRmPzpbGcA3",
        "colab": {
          "base_uri": "https://localhost:8080/"
        },
        "outputId": "8ba8b300-e11c-4f8b-a3e8-0c2a20c664f6"
      },
      "execution_count": null,
      "outputs": [
        {
          "output_type": "execute_result",
          "data": {
            "text/plain": [
              "(224, 224, 3)"
            ]
          },
          "metadata": {},
          "execution_count": 17
        }
      ]
    },
    {
      "cell_type": "code",
      "source": [
        "# augmented_images = []\n",
        "# augmented_labels = []\n",
        "\n",
        "# for i in range(len(images)):\n",
        "#     # Grayscale 변환\n",
        "#     gray_img = cv2.cvtColor(images[i], cv2.COLOR_BGR2GRAY)\n",
        "\n",
        "#     # 좌우 반전\n",
        "#     flipped_img = cv2.flip(gray_img, 1)\n",
        "\n",
        "#     # 데이터셋에 추가\n",
        "#     augmented_images.append(gray_img)\n",
        "#     augmented_labels.append(labels[i])\n",
        "#     augmented_images.append(flipped_img)\n",
        "#     augmented_labels.append(labels[i])\n",
        "\n",
        "# # 리스트를 numpy 배열로 변환\n",
        "# augmented_images = np.array(augmented_images)\n",
        "# augmented_labels = np.array(augmented_labels)\n",
        "\n",
        "# # 이미지를 (샘플 수, 224, 224, 1) 형태로 reshape\n",
        "# augmented_images = augmented_images.reshape(-1, im_size, im_size, 1)\n",
        "# augmented_images = augmented_images.astype('float32') / 255.0\n",
        "\n",
        "# print(augmented_images.shape)\n",
        "# print(augmented_labels.shape)"
      ],
      "metadata": {
        "id": "28k9ddqvN7K3"
      },
      "execution_count": null,
      "outputs": []
    },
    {
      "cell_type": "code",
      "source": [
        "# augmented_labels[1]"
      ],
      "metadata": {
        "id": "iIECH7p6Utvi"
      },
      "execution_count": null,
      "outputs": []
    },
    {
      "cell_type": "code",
      "source": [
        "# df['Labels'].tail()"
      ],
      "metadata": {
        "id": "DuCdPaxhfae-"
      },
      "execution_count": null,
      "outputs": []
    },
    {
      "cell_type": "code",
      "source": [
        "# new_df = pd.DataFrame({'Labels': df['Labels'].repeat(2)})\n",
        "\n",
        "# # 결과 출력\n",
        "# print(new_df)"
      ],
      "metadata": {
        "id": "iHLpsLX4eZZu"
      },
      "execution_count": null,
      "outputs": []
    },
    {
      "cell_type": "code",
      "source": [
        "# df = new_df.reset_index(drop=True)\n",
        "\n",
        "# # 결과 출력\n",
        "# print(df)"
      ],
      "metadata": {
        "id": "enjYC4TWf2or"
      },
      "execution_count": null,
      "outputs": []
    },
    {
      "cell_type": "code",
      "source": [
        "label_count = df['Labels'].value_counts()\n",
        "print(label_count)"
      ],
      "metadata": {
        "id": "v22LOGo1a0Vm",
        "colab": {
          "base_uri": "https://localhost:8080/"
        },
        "outputId": "dc653e77-6cdd-4e00-86dd-1527cae73028"
      },
      "execution_count": null,
      "outputs": [
        {
          "output_type": "stream",
          "name": "stdout",
          "text": [
            "neutral    2410\n",
            "happy      2327\n",
            "sad        2244\n",
            "Name: Labels, dtype: int64\n"
          ]
        }
      ]
    },
    {
      "cell_type": "code",
      "source": [
        "from sklearn.preprocessing import LabelEncoder , OneHotEncoder\n",
        "\n",
        "y = df['Labels'].values\n",
        "y_labelencoder = LabelEncoder()"
      ],
      "metadata": {
        "id": "8eGHxplkgy2Z"
      },
      "execution_count": null,
      "outputs": []
    },
    {
      "cell_type": "code",
      "source": [
        "y"
      ],
      "metadata": {
        "colab": {
          "base_uri": "https://localhost:8080/"
        },
        "id": "kyruFgWbN7Bc",
        "outputId": "85e2d87a-a9d3-4276-e707-ef5a4c847da3"
      },
      "execution_count": null,
      "outputs": [
        {
          "output_type": "execute_result",
          "data": {
            "text/plain": [
              "array(['sad', 'sad', 'sad', ..., 'happy', 'happy', 'happy'], dtype=object)"
            ]
          },
          "metadata": {},
          "execution_count": 25
        }
      ]
    },
    {
      "cell_type": "code",
      "source": [
        "y = y_labelencoder.fit_transform(y)\n",
        "y"
      ],
      "metadata": {
        "colab": {
          "base_uri": "https://localhost:8080/"
        },
        "id": "PTVjtPSaNVyi",
        "outputId": "c321b87c-5bfc-4317-c60a-df987182eb2f"
      },
      "execution_count": null,
      "outputs": [
        {
          "output_type": "execute_result",
          "data": {
            "text/plain": [
              "array([2, 2, 2, ..., 0, 0, 0])"
            ]
          },
          "metadata": {},
          "execution_count": 26
        }
      ]
    },
    {
      "cell_type": "code",
      "source": [
        "print(\"sad\", labels[5])\n",
        "print(\"neutral\", labels[3000])\n",
        "print(\"happy\", labels[6000])"
      ],
      "metadata": {
        "colab": {
          "base_uri": "https://localhost:8080/"
        },
        "id": "d-Q4dmxONsY4",
        "outputId": "d0acc05f-1d78-4ec6-9cf2-a9d50bbf328f"
      },
      "execution_count": null,
      "outputs": [
        {
          "output_type": "stream",
          "name": "stdout",
          "text": [
            "sad sad\n",
            "neutral neutral\n",
            "happy happy\n"
          ]
        }
      ]
    },
    {
      "cell_type": "code",
      "source": [
        "y = y_labelencoder.fit_transform(y)\n",
        "y = y.reshape(-1,1)\n",
        "\n",
        "from sklearn.compose import ColumnTransformer\n",
        "ct = ColumnTransformer([('ohe', OneHotEncoder(), [0])], remainder='passthrough')\n",
        "print(ct)\n",
        "Y = ct.fit_transform(y)\n",
        "print(Y[:2]) #sad, 2\n",
        "print(Y[3000:3002]) #neutral 1\n",
        "print(Y[5000:5002]) # happy 0"
      ],
      "metadata": {
        "id": "Z72O2pg2gd8z",
        "colab": {
          "base_uri": "https://localhost:8080/"
        },
        "outputId": "2df96b08-c3d1-4da9-acbb-ff51a5e1a1f6"
      },
      "execution_count": null,
      "outputs": [
        {
          "output_type": "stream",
          "name": "stdout",
          "text": [
            "ColumnTransformer(remainder='passthrough',\n",
            "                  transformers=[('ohe', OneHotEncoder(), [0])])\n",
            "[[0. 0. 1.]\n",
            " [0. 0. 1.]]\n",
            "[[0. 1. 0.]\n",
            " [0. 1. 0.]]\n",
            "[[1. 0. 0.]\n",
            " [1. 0. 0.]]\n"
          ]
        }
      ]
    },
    {
      "cell_type": "code",
      "source": [
        "from sklearn.utils import shuffle\n",
        "from sklearn.model_selection import train_test_split\n",
        "\n",
        "images, Y = shuffle(images, Y, random_state = 1)\n",
        "\n",
        "train_x, test_x, train_y, test_y = train_test_split(images, Y, test_size=0.1, random_state=415)\n",
        "train_x, val_x, train_y, val_y = train_test_split(train_x, train_y, test_size=0.25, random_state=1)\n",
        "\n",
        "print(train_x.shape)\n",
        "print(train_y.shape)\n",
        "print(test_x.shape)\n",
        "print(test_y.shape)\n",
        "print(val_x.shape)\n",
        "print(val_y.shape)"
      ],
      "metadata": {
        "id": "JDkDKFhkWpyl",
        "colab": {
          "base_uri": "https://localhost:8080/"
        },
        "outputId": "fd4c03b7-6f9f-4dc4-ecb6-330786e54b57"
      },
      "execution_count": null,
      "outputs": [
        {
          "output_type": "stream",
          "name": "stdout",
          "text": [
            "(4711, 224, 224, 3)\n",
            "(4711, 3)\n",
            "(699, 224, 224, 3)\n",
            "(699, 3)\n",
            "(1571, 224, 224, 3)\n",
            "(1571, 3)\n"
          ]
        }
      ]
    },
    {
      "cell_type": "code",
      "source": [
        "# y = df['Labels'].values\n",
        "# y_labelencoder = LabelEncoder()\n",
        "\n",
        "# y = y_labelencoder.fit_transform(y)\n",
        "# print(y)"
      ],
      "metadata": {
        "id": "_hyKimSlVrhg"
      },
      "execution_count": null,
      "outputs": []
    },
    {
      "cell_type": "code",
      "execution_count": null,
      "metadata": {
        "id": "MfOSGETvEgMP"
      },
      "outputs": [],
      "source": [
        "# y = y.reshape(-1,1)\n",
        "#  from sklearn.compose import ColumnTransformer\n",
        "# ct = ColumnTransformer([('ohe', OneHotEncoder(), [0])], remainder='passthrough')\n",
        "# print(ct)\n",
        "# Y = ct.fit_transform(y)\n",
        "# print(Y[:5])"
      ]
    },
    {
      "cell_type": "code",
      "execution_count": null,
      "metadata": {
        "id": "bsm5yADgCaFR"
      },
      "outputs": [],
      "source": [
        "# train_generator = data_generator.flow(train_x, train_y, batch_size = 16, subset=\"training\")\n",
        "# valid_generator = data_generator.flow(train_x, train_y, batch_size = 16, subset=\"training\")"
      ]
    },
    {
      "cell_type": "code",
      "source": [],
      "metadata": {
        "id": "ZPlFNn-xhxfi"
      },
      "execution_count": null,
      "outputs": []
    },
    {
      "cell_type": "code",
      "execution_count": null,
      "metadata": {
        "id": "Cm26K5TBE3Pg"
      },
      "outputs": [],
      "source": [
        "from tensorflow.keras import layers\n",
        "from tensorflow.keras.applications import EfficientNetB0\n",
        "from keras.callbacks import  EarlyStopping\n",
        "\n",
        "NUM_CLASSES = 3\n",
        "IMG_SIZE = 224\n",
        "size = (IMG_SIZE,IMG_SIZE)\n",
        "\n",
        "inputs = layers.Input(shape=(IMG_SIZE,IMG_SIZE,3))\n",
        "\n",
        "outputs = EfficientNetB0(include_top=True, weights=None, classes=NUM_CLASSES)(inputs)"
      ]
    },
    {
      "cell_type": "code",
      "execution_count": null,
      "metadata": {
        "id": "ZEvBLjuxRk6K"
      },
      "outputs": [],
      "source": [
        "early_stopping = EarlyStopping(monitor='loss', patience=10, mode='min')"
      ]
    },
    {
      "cell_type": "code",
      "execution_count": null,
      "metadata": {
        "id": "9T7wg03FE3Tj",
        "colab": {
          "base_uri": "https://localhost:8080/"
        },
        "outputId": "425c999b-0f8f-4dbc-dd17-9da03caa75a6"
      },
      "outputs": [
        {
          "output_type": "stream",
          "name": "stdout",
          "text": [
            "Model: \"model\"\n",
            "_________________________________________________________________\n",
            " Layer (type)                Output Shape              Param #   \n",
            "=================================================================\n",
            " input_1 (InputLayer)        [(None, 224, 224, 3)]     0         \n",
            "                                                                 \n",
            " efficientnetb0 (Functional)  (None, 3)                4053414   \n",
            "                                                                 \n",
            "=================================================================\n",
            "Total params: 4,053,414\n",
            "Trainable params: 4,011,391\n",
            "Non-trainable params: 42,023\n",
            "_________________________________________________________________\n",
            "Epoch 1/300\n",
            "589/589 - 69s - loss: 1.7544 - accuracy: 0.4540 - 69s/epoch - 118ms/step\n",
            "Epoch 2/300\n",
            "589/589 - 24s - loss: 0.8699 - accuracy: 0.6111 - 24s/epoch - 41ms/step\n",
            "Epoch 3/300\n",
            "589/589 - 24s - loss: 0.6661 - accuracy: 0.7054 - 24s/epoch - 41ms/step\n",
            "Epoch 4/300\n",
            "589/589 - 24s - loss: 0.5675 - accuracy: 0.7570 - 24s/epoch - 41ms/step\n",
            "Epoch 5/300\n",
            "589/589 - 24s - loss: 0.5183 - accuracy: 0.7854 - 24s/epoch - 41ms/step\n",
            "Epoch 6/300\n",
            "589/589 - 24s - loss: 0.4596 - accuracy: 0.8045 - 24s/epoch - 41ms/step\n",
            "Epoch 7/300\n",
            "589/589 - 24s - loss: 0.4126 - accuracy: 0.8410 - 24s/epoch - 41ms/step\n",
            "Epoch 8/300\n",
            "589/589 - 24s - loss: 0.3672 - accuracy: 0.8504 - 24s/epoch - 41ms/step\n",
            "Epoch 9/300\n",
            "589/589 - 24s - loss: 0.3676 - accuracy: 0.8588 - 24s/epoch - 41ms/step\n",
            "Epoch 10/300\n",
            "589/589 - 24s - loss: 0.3144 - accuracy: 0.8809 - 24s/epoch - 41ms/step\n",
            "Epoch 11/300\n",
            "589/589 - 24s - loss: 0.2784 - accuracy: 0.8920 - 24s/epoch - 41ms/step\n",
            "Epoch 12/300\n",
            "589/589 - 24s - loss: 0.2643 - accuracy: 0.9045 - 24s/epoch - 41ms/step\n",
            "Epoch 13/300\n",
            "589/589 - 24s - loss: 0.2060 - accuracy: 0.9300 - 24s/epoch - 41ms/step\n",
            "Epoch 14/300\n",
            "589/589 - 24s - loss: 0.2008 - accuracy: 0.9249 - 24s/epoch - 41ms/step\n",
            "Epoch 15/300\n",
            "589/589 - 24s - loss: 0.1856 - accuracy: 0.9321 - 24s/epoch - 41ms/step\n",
            "Epoch 16/300\n",
            "589/589 - 24s - loss: 0.1709 - accuracy: 0.9393 - 24s/epoch - 41ms/step\n",
            "Epoch 17/300\n",
            "589/589 - 24s - loss: 0.1676 - accuracy: 0.9418 - 24s/epoch - 41ms/step\n",
            "Epoch 18/300\n",
            "589/589 - 24s - loss: 0.1368 - accuracy: 0.9556 - 24s/epoch - 41ms/step\n",
            "Epoch 19/300\n",
            "589/589 - 24s - loss: 0.1411 - accuracy: 0.9508 - 24s/epoch - 41ms/step\n",
            "Epoch 20/300\n",
            "589/589 - 24s - loss: 0.1301 - accuracy: 0.9537 - 24s/epoch - 41ms/step\n",
            "Epoch 21/300\n",
            "589/589 - 24s - loss: 0.1170 - accuracy: 0.9601 - 24s/epoch - 41ms/step\n",
            "Epoch 22/300\n",
            "589/589 - 24s - loss: 0.1071 - accuracy: 0.9635 - 24s/epoch - 41ms/step\n",
            "Epoch 23/300\n",
            "589/589 - 24s - loss: 0.1023 - accuracy: 0.9654 - 24s/epoch - 41ms/step\n",
            "Epoch 24/300\n",
            "589/589 - 24s - loss: 0.1085 - accuracy: 0.9618 - 24s/epoch - 41ms/step\n",
            "Epoch 25/300\n",
            "589/589 - 24s - loss: 0.0907 - accuracy: 0.9686 - 24s/epoch - 41ms/step\n",
            "Epoch 26/300\n",
            "589/589 - 24s - loss: 0.0879 - accuracy: 0.9696 - 24s/epoch - 41ms/step\n",
            "Epoch 27/300\n",
            "589/589 - 24s - loss: 0.1003 - accuracy: 0.9639 - 24s/epoch - 41ms/step\n",
            "Epoch 28/300\n",
            "589/589 - 24s - loss: 0.0808 - accuracy: 0.9722 - 24s/epoch - 41ms/step\n",
            "Epoch 29/300\n",
            "589/589 - 24s - loss: 0.0834 - accuracy: 0.9724 - 24s/epoch - 41ms/step\n",
            "Epoch 30/300\n",
            "589/589 - 24s - loss: 0.0793 - accuracy: 0.9733 - 24s/epoch - 41ms/step\n",
            "Epoch 31/300\n",
            "589/589 - 24s - loss: 0.0805 - accuracy: 0.9743 - 24s/epoch - 41ms/step\n",
            "Epoch 32/300\n",
            "589/589 - 24s - loss: 0.0750 - accuracy: 0.9739 - 24s/epoch - 41ms/step\n",
            "Epoch 33/300\n",
            "589/589 - 24s - loss: 0.0565 - accuracy: 0.9803 - 24s/epoch - 41ms/step\n",
            "Epoch 34/300\n",
            "589/589 - 24s - loss: 0.0806 - accuracy: 0.9726 - 24s/epoch - 41ms/step\n",
            "Epoch 35/300\n",
            "589/589 - 24s - loss: 0.0709 - accuracy: 0.9752 - 24s/epoch - 41ms/step\n",
            "Epoch 36/300\n",
            "589/589 - 24s - loss: 0.0547 - accuracy: 0.9790 - 24s/epoch - 41ms/step\n",
            "Epoch 37/300\n",
            "589/589 - 24s - loss: 0.0626 - accuracy: 0.9796 - 24s/epoch - 41ms/step\n",
            "Epoch 38/300\n",
            "589/589 - 24s - loss: 0.0635 - accuracy: 0.9803 - 24s/epoch - 41ms/step\n",
            "Epoch 39/300\n",
            "589/589 - 24s - loss: 0.0615 - accuracy: 0.9807 - 24s/epoch - 41ms/step\n",
            "Epoch 40/300\n",
            "589/589 - 24s - loss: 0.0473 - accuracy: 0.9862 - 24s/epoch - 41ms/step\n",
            "Epoch 41/300\n",
            "589/589 - 24s - loss: 0.0843 - accuracy: 0.9682 - 24s/epoch - 41ms/step\n",
            "Epoch 42/300\n",
            "589/589 - 24s - loss: 0.0420 - accuracy: 0.9883 - 24s/epoch - 41ms/step\n",
            "Epoch 43/300\n",
            "589/589 - 24s - loss: 0.0548 - accuracy: 0.9815 - 24s/epoch - 41ms/step\n",
            "Epoch 44/300\n",
            "589/589 - 24s - loss: 0.0523 - accuracy: 0.9837 - 24s/epoch - 41ms/step\n",
            "Epoch 45/300\n",
            "589/589 - 24s - loss: 0.0496 - accuracy: 0.9845 - 24s/epoch - 41ms/step\n",
            "Epoch 46/300\n",
            "589/589 - 24s - loss: 0.0473 - accuracy: 0.9834 - 24s/epoch - 41ms/step\n",
            "Epoch 47/300\n",
            "589/589 - 24s - loss: 0.0488 - accuracy: 0.9851 - 24s/epoch - 41ms/step\n",
            "Epoch 48/300\n",
            "589/589 - 25s - loss: 0.0514 - accuracy: 0.9839 - 25s/epoch - 43ms/step\n",
            "Epoch 49/300\n",
            "589/589 - 24s - loss: 0.0434 - accuracy: 0.9851 - 24s/epoch - 41ms/step\n",
            "Epoch 50/300\n",
            "589/589 - 24s - loss: 0.0325 - accuracy: 0.9890 - 24s/epoch - 41ms/step\n",
            "Epoch 51/300\n",
            "589/589 - 24s - loss: 0.0496 - accuracy: 0.9826 - 24s/epoch - 41ms/step\n",
            "Epoch 52/300\n",
            "589/589 - 24s - loss: 0.0484 - accuracy: 0.9847 - 24s/epoch - 41ms/step\n",
            "Epoch 53/300\n",
            "589/589 - 24s - loss: 0.0545 - accuracy: 0.9834 - 24s/epoch - 41ms/step\n",
            "Epoch 54/300\n",
            "589/589 - 24s - loss: 0.0291 - accuracy: 0.9902 - 24s/epoch - 41ms/step\n",
            "Epoch 55/300\n",
            "589/589 - 24s - loss: 0.0458 - accuracy: 0.9839 - 24s/epoch - 41ms/step\n",
            "Epoch 56/300\n",
            "589/589 - 24s - loss: 0.0397 - accuracy: 0.9868 - 24s/epoch - 41ms/step\n",
            "Epoch 57/300\n",
            "589/589 - 24s - loss: 0.0290 - accuracy: 0.9907 - 24s/epoch - 41ms/step\n",
            "Epoch 58/300\n",
            "589/589 - 24s - loss: 0.0414 - accuracy: 0.9868 - 24s/epoch - 41ms/step\n",
            "Epoch 59/300\n",
            "589/589 - 24s - loss: 0.0320 - accuracy: 0.9896 - 24s/epoch - 41ms/step\n",
            "Epoch 60/300\n",
            "589/589 - 24s - loss: 0.0428 - accuracy: 0.9862 - 24s/epoch - 41ms/step\n",
            "Epoch 61/300\n",
            "589/589 - 24s - loss: 0.0397 - accuracy: 0.9862 - 24s/epoch - 41ms/step\n",
            "Epoch 62/300\n",
            "589/589 - 24s - loss: 0.0336 - accuracy: 0.9887 - 24s/epoch - 41ms/step\n",
            "Epoch 63/300\n",
            "589/589 - 24s - loss: 0.0269 - accuracy: 0.9904 - 24s/epoch - 41ms/step\n",
            "Epoch 64/300\n",
            "589/589 - 24s - loss: 0.0471 - accuracy: 0.9854 - 24s/epoch - 41ms/step\n",
            "Epoch 65/300\n",
            "589/589 - 24s - loss: 0.0361 - accuracy: 0.9881 - 24s/epoch - 41ms/step\n",
            "Epoch 66/300\n",
            "589/589 - 24s - loss: 0.0317 - accuracy: 0.9890 - 24s/epoch - 41ms/step\n",
            "Epoch 67/300\n",
            "589/589 - 24s - loss: 0.0267 - accuracy: 0.9924 - 24s/epoch - 41ms/step\n",
            "Epoch 68/300\n",
            "589/589 - 24s - loss: 0.0299 - accuracy: 0.9917 - 24s/epoch - 41ms/step\n",
            "Epoch 69/300\n",
            "589/589 - 24s - loss: 0.0117 - accuracy: 0.9958 - 24s/epoch - 41ms/step\n",
            "Epoch 70/300\n",
            "589/589 - 24s - loss: 0.0566 - accuracy: 0.9837 - 24s/epoch - 41ms/step\n",
            "Epoch 71/300\n",
            "589/589 - 24s - loss: 0.0298 - accuracy: 0.9898 - 24s/epoch - 41ms/step\n",
            "Epoch 72/300\n",
            "589/589 - 24s - loss: 0.0370 - accuracy: 0.9883 - 24s/epoch - 41ms/step\n",
            "Epoch 73/300\n",
            "589/589 - 24s - loss: 0.0271 - accuracy: 0.9900 - 24s/epoch - 41ms/step\n",
            "Epoch 74/300\n",
            "589/589 - 24s - loss: 0.0293 - accuracy: 0.9917 - 24s/epoch - 41ms/step\n",
            "Epoch 75/300\n",
            "589/589 - 24s - loss: 0.0205 - accuracy: 0.9930 - 24s/epoch - 41ms/step\n",
            "Epoch 76/300\n",
            "589/589 - 24s - loss: 0.0370 - accuracy: 0.9881 - 24s/epoch - 41ms/step\n",
            "Epoch 77/300\n",
            "589/589 - 24s - loss: 0.0393 - accuracy: 0.9875 - 24s/epoch - 41ms/step\n",
            "Epoch 78/300\n",
            "589/589 - 24s - loss: 0.0189 - accuracy: 0.9930 - 24s/epoch - 41ms/step\n",
            "Epoch 79/300\n",
            "589/589 - 24s - loss: 0.0294 - accuracy: 0.9907 - 24s/epoch - 41ms/step\n"
          ]
        }
      ],
      "source": [
        "model = tf.keras.Model(inputs, outputs)\n",
        "\n",
        "model.compile(optimizer='adam', loss='categorical_crossentropy', metrics=['accuracy'])\n",
        "\n",
        "model.summary()\n",
        "\n",
        "hist = model.fit(train_x, train_y, batch_size=8, epochs=300, verbose=2, callbacks=[early_stopping])\n",
        "\n",
        "from tensorflow.python.keras.models import load_model\n",
        "model.save('three_landmark_epoch300_patience10_val0.25.h5')"
      ]
    },
    {
      "cell_type": "code",
      "execution_count": null,
      "metadata": {
        "colab": {
          "base_uri": "https://localhost:8080/",
          "height": 472
        },
        "id": "t72Lo7KhE3Wd",
        "outputId": "7e956b64-e7ab-4371-bc0b-a3fdbca82c42"
      },
      "outputs": [
        {
          "output_type": "display_data",
          "data": {
            "text/plain": [
              "<Figure size 640x480 with 1 Axes>"
            ],
            "image/png": "[encoded data removed]"
          },
          "metadata": {}
        }
      ],
      "source": [
        "def plot_hist(hist):\n",
        "  plt.plot(hist.history['accuracy'])\n",
        "  plt.title(\"model accuracy\")\n",
        "  plt.ylabel(\"accuracy\")\n",
        "  plt.xlabel(\"epoch\")\n",
        "  plt.legend(['train', 'validation'], loc='upper left')\n",
        "  plt.show()\n",
        "\n",
        "plot_hist(hist)"
      ]
    },
    {
      "cell_type": "code",
      "execution_count": null,
      "metadata": {
        "colab": {
          "base_uri": "https://localhost:8080/"
        },
        "id": "Or-zRM1vE3ZQ",
        "outputId": "bc05b47c-429d-4c93-ddad-3d673b0473d2"
      },
      "outputs": [
        {
          "output_type": "stream",
          "name": "stdout",
          "text": [
            "22/22 [==============================] - 2s 20ms/step - loss: 1.2244 - accuracy: 0.7439\n",
            "Loss = 1.22439706325531\n",
            "Test accuracy = 0.7439199090003967\n"
          ]
        }
      ],
      "source": [
        "preds = model.evaluate(test_x, test_y)\n",
        "print(\"Loss = \" + str(preds[0]))\n",
        "print(\"Test accuracy = \" + str(preds[1]))"
      ]
    },
    {
      "cell_type": "code",
      "execution_count": null,
      "metadata": {
        "colab": {
          "base_uri": "https://localhost:8080/"
        },
        "id": "On7Vx7udE3c7",
        "outputId": "ff3fe0a8-8cd7-4c02-9cbc-c06dd8baec56"
      },
      "outputs": [
        {
          "output_type": "stream",
          "name": "stdout",
          "text": [
            "Model: \"model\"\n",
            "_________________________________________________________________\n",
            " Layer (type)                Output Shape              Param #   \n",
            "=================================================================\n",
            " input_1 (InputLayer)        [(None, 224, 224, 3)]     0         \n",
            "                                                                 \n",
            " efficientnetb0 (Functional)  (None, 3)                4053414   \n",
            "                                                                 \n",
            "=================================================================\n",
            "Total params: 4,053,414\n",
            "Trainable params: 4,011,391\n",
            "Non-trainable params: 42,023\n",
            "_________________________________________________________________\n"
          ]
        }
      ],
      "source": [
        "model.summary()"
      ]
    },
    {
      "cell_type": "code",
      "execution_count": null,
      "metadata": {
        "id": "3lY-EgyHhydP"
      },
      "outputs": [],
      "source": [
        "import cv2\n",
        "import numpy as np\n",
        "from tensorflow.keras.models import load_model\n",
        "\n",
        "class ImageAnalyzer:\n",
        "    def __init__(self, model_path):\n",
        "        self.model = load_model(model_path)\n",
        "        self.class_labels = ['happy', 'neutral', 'sad']  # 클래스 레이블을 설정해주세요.\n",
        "\n",
        "    def analyze_image(self, image_path):\n",
        "        img = cv2.imread(image_path)\n",
        "        img = cv2.resize(img, (224, 224))\n",
        "        img = img.astype('float32') / 255.0\n",
        "        img = np.expand_dims(img, axis=0)\n",
        "\n",
        "        prediction = self.model.predict(img)\n",
        "        class_index = np.argmax(prediction)\n",
        "        class_label = self.class_labels[class_index]\n",
        "\n",
        "        return class_label\n"
      ]
    },
    {
      "cell_type": "code",
      "source": [
        "model_path = 'three_landmark_epoch200_patience8.h5'\n",
        "image_path = '/content/drive/MyDrive/three_final/sad/sad_2930.jpg'\n",
        "\n",
        "analyzer = ImageAnalyzer(model_path)\n",
        "predicted_class = analyzer.analyze_image(image_path)\n",
        "print(\"Predicted class:\", predicted_class)\n"
      ],
      "metadata": {
        "colab": {
          "base_uri": "https://localhost:8080/"
        },
        "id": "yL0xD6MTtsa6",
        "outputId": "52870c5d-b16d-498c-d211-bc74564404dc"
      },
      "execution_count": null,
      "outputs": [
        {
          "output_type": "stream",
          "name": "stdout",
          "text": [
            "1/1 [==============================] - 2s 2s/step\n",
            "Predicted class: sad\n"
          ]
        }
      ]
    },
    {
      "cell_type": "code",
      "source": [
        "from tensorflow.keras.models import load_model\n",
        "\n",
        "model = load_model(model_path)\n",
        "optimizer = model.optimizer\n",
        "print(optimizer)\n"
      ],
      "metadata": {
        "colab": {
          "base_uri": "https://localhost:8080/"
        },
        "id": "QArmJ9wlO58U",
        "outputId": "b4c93a39-4ce6-40d0-e182-7fe12e07f0c3"
      },
      "execution_count": null,
      "outputs": [
        {
          "output_type": "stream",
          "name": "stdout",
          "text": [
            "<keras.optimizers.adam.Adam object at 0x7f60a7db6920>\n"
          ]
        }
      ]
    },
    {
      "cell_type": "code",
      "source": [],
      "metadata": {
        "id": "XcYZKC5nmKX-"
      },
      "execution_count": null,
      "outputs": []
    }
  ],
  "metadata": {
    "colab": {
      "provenance": [],
      "gpuType": "A100"
    },
    "kernelspec": {
      "display_name": "Python 3",
      "name": "python3"
    },
    "language_info": {
      "name": "python"
    }
  },
  "nbformat": 4,
  "nbformat_minor": 0
}